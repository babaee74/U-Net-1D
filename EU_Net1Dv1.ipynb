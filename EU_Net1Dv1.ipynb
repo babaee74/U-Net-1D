{
  "nbformat": 4,
  "nbformat_minor": 0,
  "metadata": {
    "accelerator": "GPU",
    "colab": {
      "provenance": [],
      "collapsed_sections": [
        "oOkNV3nFbrSr",
        "KgjE7lbCPIrS"
      ]
    },
    "kernelspec": {
      "display_name": "Python 3",
      "name": "python3"
    },
    "language_info": {
      "name": "python"
    }
  },
  "cells": [
    {
      "cell_type": "code",
      "metadata": {
        "id": "MecXqMy_bQ1T",
        "colab": {
          "base_uri": "https://localhost:8080/"
        },
        "outputId": "81e1f7ad-af5a-4c85-d7d9-991aba9f38b2"
      },
      "source": [
        "from google.colab import drive\n",
        "drive.mount('/content/drive')"
      ],
      "execution_count": null,
      "outputs": [
        {
          "output_type": "stream",
          "text": [
            "Mounted at /content/drive\n"
          ],
          "name": "stdout"
        }
      ]
    },
    {
      "cell_type": "code",
      "metadata": {
        "id": "7nsXZV2RSXFc"
      },
      "source": [
        "#!pip install EMD-signal"
      ],
      "execution_count": null,
      "outputs": []
    },
    {
      "cell_type": "code",
      "metadata": {
        "id": "tw6OmN3KcIG1"
      },
      "source": [],
      "execution_count": null,
      "outputs": []
    },
    {
      "cell_type": "code",
      "metadata": {
        "id": "dXhcAgjtui0F"
      },
      "source": [
        "#!rm -r /content/drive/MyDrive/filtered/subjects"
      ],
      "execution_count": null,
      "outputs": []
    },
    {
      "cell_type": "code",
      "metadata": {
        "id": "96m04-IARVZ1"
      },
      "source": [
        "!unzip /content/drive/MyDrive/filtered/tr.zip -d /content/drive/MyDrive/filtered/subjects/"
      ],
      "execution_count": null,
      "outputs": []
    },
    {
      "cell_type": "code",
      "metadata": {
        "id": "apmdESuibSqB"
      },
      "source": [
        "import numpy as np\n",
        "import glob\n",
        "import os\n",
        "import pandas as pd\n",
        "import tensorflow as tf\n",
        "import matplotlib.pyplot as plt\n",
        "from tensorflow.keras import models\n",
        "import urllib.request\n",
        "import scipy.io as io\n",
        "import h5py\n",
        "import progressbar\n",
        "from __future__ import print_function\n",
        "#from PyEMD import CEEMDAN\n",
        "#from PyEMD.visualisation import Visualisation\n",
        "#import unittest"
      ],
      "execution_count": null,
      "outputs": []
    },
    {
      "cell_type": "code",
      "metadata": {
        "id": "-mwZ1drhR4Z7"
      },
      "source": [
        "data = pd.read_excel('/content/drive/MyDrive/wsp/Binalood.xlsx')"
      ],
      "execution_count": null,
      "outputs": []
    },
    {
      "cell_type": "code",
      "metadata": {
        "colab": {
          "base_uri": "https://localhost:8080/",
          "height": 206
        },
        "id": "hEuznVhX_QcK",
        "outputId": "fc93c585-85d4-431b-d467-187a7e7908cb"
      },
      "source": [
        "data.head()"
      ],
      "execution_count": null,
      "outputs": [
        {
          "output_type": "execute_result",
          "data": {
            "text/html": [
              "<div>\n",
              "<style scoped>\n",
              "    .dataframe tbody tr th:only-of-type {\n",
              "        vertical-align: middle;\n",
              "    }\n",
              "\n",
              "    .dataframe tbody tr th {\n",
              "        vertical-align: top;\n",
              "    }\n",
              "\n",
              "    .dataframe thead th {\n",
              "        text-align: right;\n",
              "    }\n",
              "</style>\n",
              "<table border=\"1\" class=\"dataframe\">\n",
              "  <thead>\n",
              "    <tr style=\"text-align: right;\">\n",
              "      <th></th>\n",
              "      <th>awind</th>\n",
              "      <th>swind</th>\n",
              "      <th>direction</th>\n",
              "      <th>tem</th>\n",
              "      <th>rad</th>\n",
              "      <th>amp</th>\n",
              "    </tr>\n",
              "  </thead>\n",
              "  <tbody>\n",
              "    <tr>\n",
              "      <th>0</th>\n",
              "      <td>8.7</td>\n",
              "      <td>11.0</td>\n",
              "      <td>296.5</td>\n",
              "      <td>25.8</td>\n",
              "      <td>749.0</td>\n",
              "      <td>326.730694</td>\n",
              "    </tr>\n",
              "    <tr>\n",
              "      <th>1</th>\n",
              "      <td>9.2</td>\n",
              "      <td>10.0</td>\n",
              "      <td>301.1</td>\n",
              "      <td>26.1</td>\n",
              "      <td>767.0</td>\n",
              "      <td>425.101084</td>\n",
              "    </tr>\n",
              "    <tr>\n",
              "      <th>2</th>\n",
              "      <td>9.4</td>\n",
              "      <td>8.0</td>\n",
              "      <td>292.8</td>\n",
              "      <td>26.3</td>\n",
              "      <td>773.0</td>\n",
              "      <td>332.958747</td>\n",
              "    </tr>\n",
              "    <tr>\n",
              "      <th>3</th>\n",
              "      <td>9.3</td>\n",
              "      <td>10.0</td>\n",
              "      <td>301.3</td>\n",
              "      <td>26.4</td>\n",
              "      <td>760.0</td>\n",
              "      <td>424.806083</td>\n",
              "    </tr>\n",
              "    <tr>\n",
              "      <th>4</th>\n",
              "      <td>10.6</td>\n",
              "      <td>7.0</td>\n",
              "      <td>309.2</td>\n",
              "      <td>26.7</td>\n",
              "      <td>784.0</td>\n",
              "      <td>319.855524</td>\n",
              "    </tr>\n",
              "  </tbody>\n",
              "</table>\n",
              "</div>"
            ],
            "text/plain": [
              "   awind  swind  direction   tem    rad         amp\n",
              "0    8.7   11.0      296.5  25.8  749.0  326.730694\n",
              "1    9.2   10.0      301.1  26.1  767.0  425.101084\n",
              "2    9.4    8.0      292.8  26.3  773.0  332.958747\n",
              "3    9.3   10.0      301.3  26.4  760.0  424.806083\n",
              "4   10.6    7.0      309.2  26.7  784.0  319.855524"
            ]
          },
          "metadata": {
            "tags": []
          },
          "execution_count": 11
        }
      ]
    },
    {
      "cell_type": "code",
      "metadata": {
        "colab": {
          "base_uri": "https://localhost:8080/"
        },
        "id": "4sGo23JNSlUN",
        "outputId": "c7c0acbc-c76a-46fa-a6c8-121f28dfc9a9"
      },
      "source": [
        "data.shape"
      ],
      "execution_count": null,
      "outputs": [
        {
          "output_type": "execute_result",
          "data": {
            "text/plain": [
              "(73500, 6)"
            ]
          },
          "metadata": {
            "tags": []
          },
          "execution_count": 12
        }
      ]
    },
    {
      "cell_type": "code",
      "metadata": {
        "colab": {
          "base_uri": "https://localhost:8080/"
        },
        "id": "5LMWeZg8SiW-",
        "outputId": "15f0c491-b86e-4a2e-c4b1-5115710d98be"
      },
      "source": [
        "data = data.dropna()\n",
        "data.shape"
      ],
      "execution_count": null,
      "outputs": [
        {
          "output_type": "execute_result",
          "data": {
            "text/plain": [
              "(65398, 6)"
            ]
          },
          "metadata": {
            "tags": []
          },
          "execution_count": 14
        }
      ]
    },
    {
      "cell_type": "code",
      "metadata": {
        "colab": {
          "base_uri": "https://localhost:8080/"
        },
        "id": "df1OcalLA0kK",
        "outputId": "d30d36b3-a303-40fe-d7e7-7aefb6100ee6"
      },
      "source": [
        "np.max(data, axis = 0)"
      ],
      "execution_count": null,
      "outputs": [
        {
          "output_type": "execute_result",
          "data": {
            "text/plain": [
              "awind          21.000000\n",
              "swind         360.000000\n",
              "direction     360.000000\n",
              "tem            41.100000\n",
              "rad          1055.000000\n",
              "amp           565.523175\n",
              "dtype: float64"
            ]
          },
          "metadata": {
            "tags": []
          },
          "execution_count": 8
        }
      ]
    },
    {
      "cell_type": "code",
      "metadata": {
        "colab": {
          "base_uri": "https://localhost:8080/",
          "height": 283
        },
        "id": "WrVvwHHzSAjP",
        "outputId": "6189d06e-f805-4e1c-b244-e21617d81fe7"
      },
      "source": [
        "plt.plot(data['amp'])"
      ],
      "execution_count": null,
      "outputs": [
        {
          "output_type": "execute_result",
          "data": {
            "text/plain": [
              "[<matplotlib.lines.Line2D at 0x7f10cb176150>]"
            ]
          },
          "metadata": {
            "tags": []
          },
          "execution_count": 39
        },
        {
          "output_type": "display_data",
          "data": {
            "image/png": "[encoded data removed]",
            "text/plain": [
              "<Figure size 432x288 with 1 Axes>"
            ]
          },
          "metadata": {
            "tags": [],
            "needs_background": "light"
          }
        }
      ]
    },
    {
      "cell_type": "code",
      "metadata": {
        "colab": {
          "base_uri": "https://localhost:8080/"
        },
        "id": "NtMH8yAMQAQu",
        "outputId": "17529b83-52fb-4111-c914-0bcdd0b99332"
      },
      "source": [
        "data = pd.read_excel(datasets_names[0])\n",
        "for i in range(1, 4):\n",
        "  temp = pd.read_excel(datasets_names[i])\n",
        "  data = pd.concat([data, temp])\n",
        "data.shape"
      ],
      "execution_count": null,
      "outputs": [
        {
          "output_type": "execute_result",
          "data": {
            "text/plain": [
              "(293856, 8)"
            ]
          },
          "metadata": {
            "tags": []
          },
          "execution_count": 6
        }
      ]
    },
    {
      "cell_type": "code",
      "metadata": {
        "id": "b5MiR5MuQAOD"
      },
      "source": [
        "del data\n",
        "del temp"
      ],
      "execution_count": null,
      "outputs": []
    },
    {
      "cell_type": "code",
      "metadata": {
        "id": "xovhPgMwQATb"
      },
      "source": [
        "datasets_names = glob.glob(os.path.join('/content/drive/MyDrive/wsp','*.xlsx'))"
      ],
      "execution_count": null,
      "outputs": []
    },
    {
      "cell_type": "markdown",
      "metadata": {
        "id": "oOkNV3nFbrSr"
      },
      "source": [
        "# Data"
      ]
    },
    {
      "cell_type": "code",
      "metadata": {
        "id": "CANcF93KSf_M"
      },
      "source": [
        "def ceemdan_Run(S_train, parallel=False, max_imf = 11 ):\n",
        "  ceemdan = CEEMDAN(parallel = parallel)\n",
        "  cIMFs = ceemdan(S_train, max_imf=max_imf)\n",
        "  return cIMFs"
      ],
      "execution_count": null,
      "outputs": []
    },
    {
      "cell_type": "code",
      "metadata": {
        "id": "SjvYH-dSTcg_"
      },
      "source": [
        "#cIMFs= ceemdan_Run(data[0,:256], parallel=True, max_imf = 2)\n",
        "#cIMFs.shape"
      ],
      "execution_count": null,
      "outputs": []
    },
    {
      "cell_type": "code",
      "metadata": {
        "id": "tSrcwux4bSid"
      },
      "source": [
        "def _bytes_feature(value):\n",
        "  \"\"\"Returns a bytes_list from a string / byte.\"\"\"\n",
        "  if isinstance(value, type(tf.constant(0))):\n",
        "    value = value.numpy() # BytesList won't unpack a string from an EagerTensor.\n",
        "  return tf.train.Feature(bytes_list=tf.train.BytesList(value=[value]))\n",
        "\n",
        "def _float_feature(value):\n",
        "  \"\"\"Returns a float_list from a float / double.\"\"\"\n",
        "  return tf.train.Feature(float_list=tf.train.FloatList(value=value))\n",
        "\n",
        "def _int64_feature(value):\n",
        "  \"\"\"Returns an int64_list from a bool / enum / int / uint.\"\"\"\n",
        "  return tf.train.Feature(int64_list=tf.train.Int64List(value=value))\n",
        "\n",
        "def serialize_example(data, target):\n",
        "  feature = {\n",
        "      'data': _float_feature(data),\n",
        "      'target': _float_feature(target)\n",
        "  }\n",
        "  example_proto = tf.train.Example(features=tf.train.Features(feature=feature))\n",
        "  return example_proto.SerializeToString()\n"
      ],
      "execution_count": null,
      "outputs": []
    },
    {
      "cell_type": "code",
      "metadata": {
        "id": "XPGsuJjcecbP"
      },
      "source": [
        "!mkdir /content/drive/MyDrive/wsp/data"
      ],
      "execution_count": null,
      "outputs": []
    },
    {
      "cell_type": "code",
      "metadata": {
        "id": "c6h0ynNUbSeb",
        "colab": {
          "base_uri": "https://localhost:8080/"
        },
        "outputId": "116bf70e-90d7-4382-9f8e-8ced8729d62b"
      },
      "source": [
        "!mkdir /content/data"
      ],
      "execution_count": null,
      "outputs": [
        {
          "output_type": "stream",
          "text": [
            "mkdir: cannot create directory ‘/content/data’: File exists\n"
          ],
          "name": "stdout"
        }
      ]
    },
    {
      "cell_type": "code",
      "metadata": {
        "id": "TfcBWTuwfE_S"
      },
      "source": [
        "#!rm -r /content/data/val"
      ],
      "execution_count": null,
      "outputs": []
    },
    {
      "cell_type": "markdown",
      "metadata": {
        "id": "MOGWYr3mbQgn"
      },
      "source": [
        "# Create Tfrecords"
      ]
    },
    {
      "cell_type": "code",
      "metadata": {
        "id": "jDnrRIG1bdYy"
      },
      "source": [
        "def create_tfrecs(subjects_lists, save_path = '/content/data'):\n",
        "  i = 0\n",
        "  num_all = []\n",
        "  with progressbar.ProgressBar(max_value=len(subjects_lists)) as bar:\n",
        "    for rec in subjects_lists:\n",
        "      data = pd.read_excel(rec)\n",
        "      data = data.dropna()\n",
        "      data = data.to_numpy()\n",
        "      data = data.astype(np.float64)\n",
        "      number_of_arrays = data.shape[0]//256\n",
        "      num_all.append(number_of_arrays)\n",
        "      rec = rec.split('/')[-1].split('.xlsx')[0]\n",
        "      with tf.io.TFRecordWriter(os.path.join(save_path, rec + '.tfrec')) as writer:\n",
        "        for j in range(number_of_arrays):\n",
        "          sub_data = data[j*256:(j+1)*256,:]\n",
        "          target = sub_data[:,-1].copy()\n",
        "          sub_data = sub_data[:,:-1]\n",
        "\n",
        "          #for k in range(6):\n",
        "          #  cIMF = ceemdan_Run(sub_data[k,:], parallel=True, max_imf = 2)\n",
        "          #  sub_data = np.concatenate((sub_data, cIMF), axis=0)\n",
        "          #print(sub_data.shape)\n",
        "\n",
        "          example = serialize_example(sub_data.reshape(-1,1), target.reshape(-1,1))\n",
        "          writer.write(example)\n",
        "      i +=1\n",
        "      bar.update(i)\n",
        "  return num_all"
      ],
      "execution_count": null,
      "outputs": []
    },
    {
      "cell_type": "code",
      "metadata": {
        "colab": {
          "base_uri": "https://localhost:8080/"
        },
        "id": "ZpxZpDoPcXV0",
        "outputId": "390febbe-eca7-4d0f-c5e4-72ded11dc710"
      },
      "source": [
        "datasets_names"
      ],
      "execution_count": null,
      "outputs": [
        {
          "output_type": "execute_result",
          "data": {
            "text/plain": [
              "['/content/drive/MyDrive/wsp/Binalood.xlsx',\n",
              " '/content/drive/MyDrive/wsp/Davarzan.xlsx',\n",
              " '/content/drive/MyDrive/wsp/Ghadamgah.xlsx',\n",
              " '/content/drive/MyDrive/wsp/Khaf.xlsx',\n",
              " '/content/drive/MyDrive/wsp/Jangaal.xlsx']"
            ]
          },
          "metadata": {
            "tags": []
          },
          "execution_count": 81
        }
      ]
    },
    {
      "cell_type": "code",
      "metadata": {
        "colab": {
          "base_uri": "https://localhost:8080/"
        },
        "id": "9s_f4a0HaF_r",
        "outputId": "fa25422c-4289-41ce-b91f-766b9dbedf68"
      },
      "source": [
        "save_path = '/content/drive/MyDrive/wsp/data'\n",
        "if not os.path.isdir(save_path):\n",
        "  os.mkdir(save_path)\n",
        "num_samples = create_tfrecs(datasets_names, save_path = save_path)\n",
        "num_samples"
      ],
      "execution_count": null,
      "outputs": [
        {
          "output_type": "stream",
          "text": [
            "100% (5 of 5) |##########################| Elapsed Time: 0:00:18 Time:  0:00:18\n"
          ],
          "name": "stderr"
        },
        {
          "output_type": "execute_result",
          "data": {
            "text/plain": [
              "[255, 265, 287, 308, 314]"
            ]
          },
          "metadata": {
            "tags": []
          },
          "execution_count": 82
        }
      ]
    },
    {
      "cell_type": "code",
      "metadata": {
        "id": "HL2yOkLqch5e"
      },
      "source": [
        "num_samples = [255, 265, 287, 308, 314]"
      ],
      "execution_count": null,
      "outputs": []
    },
    {
      "cell_type": "markdown",
      "metadata": {
        "id": "XVEW6_jNbt_z"
      },
      "source": [
        "# Generator"
      ]
    },
    {
      "cell_type": "code",
      "metadata": {
        "id": "9Yyc8r-fbtix"
      },
      "source": [
        "# Create a dictionary describing the features.\n",
        "feature_description = {\n",
        "    'data': tf.io.FixedLenFeature([256*5], tf.float32, default_value=[0.0]*256*5),\n",
        "    'target': tf.io.FixedLenFeature([256], tf.float32, default_value=[0.0]*256),\n",
        "  }\n",
        "\n",
        "def _parse_function(example_proto):\n",
        "  # Parse the input tf.train.Example proto using the dictionary above.\n",
        "  return tf.io.parse_single_example(example_proto, feature_description)\n",
        "\n",
        "def preprocess(features,effesionet=True):\n",
        "  data = features['data']\n",
        "  #data = tf.io.decode_raw(data, tf.int16)\n",
        "  label = features['target']\n",
        "  #label = tf.io.decode_raw(label, tf.int16)\n",
        "  return data, label\n",
        "\n",
        "\n",
        "def normalize(data ,label):\n",
        "  #standard\n",
        "  data = tf.cast(data, tf.float32)\n",
        "  scale = tf.constant(max_data) - tf.constant(min_data)\n",
        "  offset = tf.constant(min_data)\n",
        "\n",
        "  data -= offset\n",
        "  data /= scale\n",
        "  label = tf.cast(label, tf.float32)\n",
        "  scale =  tf.constant([max_label]) - tf.constant([min_label])\n",
        "  offset = tf.constant([min_label])\n",
        "  label -= offset\n",
        "  label /= scale\n",
        "  return data , label\n",
        "\n",
        "@tf.function\n",
        "def augment(data,label):\n",
        "\n",
        "  return data , label\n",
        "\n",
        "def Resize(data,label):\n",
        "  data = tf.reshape(data, [256,5])\n",
        "  label = tf.reshape(label, [256,1])\n",
        "  return data , label\n"
      ],
      "execution_count": null,
      "outputs": []
    },
    {
      "cell_type": "code",
      "metadata": {
        "id": "7eJ5dbVHWjiS"
      },
      "source": [
        "def find_stats(all_tfrecs):\n",
        "  ds_stat= tf.data.TFRecordDataset(all_tfrecs)\n",
        "  ds_stat = ds_stat.map(_parse_function, num_parallel_calls=tf.data.experimental.AUTOTUNE).prefetch(100)\n",
        "  ds_stat  =  ds_stat.map(preprocess)\n",
        "  ds_stat  = ds_stat.map(Resize).batch(16,drop_remainder=True)\n",
        "\n",
        "  mean_data = np.zeros((5,))\n",
        "  std_data = np.zeros((5,))\n",
        "  max_data = np.ones((5,))*(-10000000000) # -inf\n",
        "  min_data = np.ones((5,))*(10000000000) #+inf\n",
        "\n",
        "  mean_label = 0\n",
        "  std_label = 0\n",
        "  max_label = -10000000000\n",
        "  min_label = 10000000000\n",
        "  k = 0\n",
        "  for i in ds_stat:\n",
        "    data1, label = i\n",
        "    mean_data = mean_data + np.mean(np.mean(data1.numpy(),axis=1),axis=0)\n",
        "    std_data = std_data + np.std(np.std(data1.numpy(),axis=1),axis=0)\n",
        "    mean_label = mean_label + np.mean(np.mean(label.numpy(),axis=1),axis=0)\n",
        "    std_label = std_label + np.std(np.std(label.numpy(),axis=1),axis=0)\n",
        "\n",
        "    data =np.max(np.max(data1,axis=1),axis=0)\n",
        "    max_data[np.where(max_data< data)] = data[np.where(max_data< data)]\n",
        "    data =np.min(np.min(data1,axis=1),axis=0)\n",
        "    min_data[np.where(min_data> data)] = data[np.where(min_data> data)]\n",
        "\n",
        "    if np.max(np.max(label.numpy(),axis=1))>max_label:\n",
        "      max_label = np.max(np.max(label.numpy(),axis=1))\n",
        "    if np.min(np.min(label.numpy()))<min_label:\n",
        "      min_label = np.min(np.min(label.numpy()))\n",
        "\n",
        "    k = k+1\n",
        "  std_data = std_data/k\n",
        "  mean_data = mean_data/k\n",
        "  mean_label = mean_label/k\n",
        "  std_label = std_label/k\n",
        "  print('min data')\n",
        "  print(min_data)\n",
        "  print('max data')\n",
        "  print(max_data)\n",
        "  print('std data')\n",
        "  print(std_data)\n",
        "  print('mean data')\n",
        "  print(mean_data)\n",
        "\n",
        "  print('std label')\n",
        "  print(std_label)\n",
        "  print('mean label')\n",
        "  print(mean_label)\n",
        "  print('min label')\n",
        "  print(min_label)\n",
        "  print('max label')\n",
        "  print(max_label)\n",
        "  del ds_stat\n",
        "  return min_data, max_data, min_label, max_label"
      ],
      "execution_count": null,
      "outputs": []
    },
    {
      "cell_type": "code",
      "metadata": {
        "id": "wc_k3OJAWjYB"
      },
      "source": [
        "all_tfrecs = glob.glob(os.path.join('/content/drive/MyDrive/wsp/data','*.tfrec'))\n",
        "np.random.seed(60)\n",
        "indices = np.arange(len(all_tfrecs))\n",
        "np.random.shuffle(indices)\n",
        "indices.tolist()\n",
        "test_tfrecs = all_tfrecs[indices[0]]\n",
        "num_test = num_samples[indices[0]]\n",
        "val_tfrecs = all_tfrecs[indices[1]]\n",
        "num_vals = num_samples[indices[1]]\n",
        "train_tfrecs = [all_tfrecs[indices[i]] for i in range(2,len(all_tfrecs))]\n",
        "num_train= num_samples[indices[2]] +  num_samples[indices[3]] +  num_samples[indices[4]]"
      ],
      "execution_count": null,
      "outputs": []
    },
    {
      "cell_type": "code",
      "metadata": {
        "colab": {
          "base_uri": "https://localhost:8080/"
        },
        "id": "4kU4HYcEdA_r",
        "outputId": "8ce6364c-683d-48fc-9eb4-06cd3225bb9c"
      },
      "source": [
        "print(num_test, num_vals, num_train)"
      ],
      "execution_count": null,
      "outputs": [
        {
          "output_type": "stream",
          "text": [
            "255 314 860\n"
          ],
          "name": "stdout"
        }
      ]
    },
    {
      "cell_type": "code",
      "metadata": {
        "colab": {
          "base_uri": "https://localhost:8080/"
        },
        "id": "BfdXT4_sZ7n5",
        "outputId": "bd46c438-ab33-4f42-c6d5-967257cdca3e"
      },
      "source": [
        "train_tfrecs"
      ],
      "execution_count": null,
      "outputs": [
        {
          "output_type": "execute_result",
          "data": {
            "text/plain": [
              "['/content/drive/MyDrive/wsp/data/Khaf.tfrec',\n",
              " '/content/drive/MyDrive/wsp/data/Ghadamgah.tfrec',\n",
              " '/content/drive/MyDrive/wsp/data/Davarzan.tfrec']"
            ]
          },
          "metadata": {
            "tags": []
          },
          "execution_count": 8
        }
      ]
    },
    {
      "cell_type": "code",
      "metadata": {
        "colab": {
          "base_uri": "https://localhost:8080/"
        },
        "id": "fgz3eaapZnox",
        "outputId": "25f0129d-20d4-476b-fc0f-9ea43705659c"
      },
      "source": [
        "min_data, max_data, min_label, max_label = find_stats(train_tfrecs)\n",
        "max_data = max_data.tolist()\n",
        "min_data = min_data.tolist()"
      ],
      "execution_count": null,
      "outputs": [
        {
          "output_type": "stream",
          "text": [
            "min data\n",
            "[  0.           0.           0.         -18.60000038   0.        ]\n",
            "max data\n",
            "[  30.29999924  360.          360.           40.         1200.        ]\n",
            "std data\n",
            "[ 0.71320939  6.71210985 18.94165501  1.11519899 33.02555599]\n",
            "mean data\n",
            "[  5.52331553  48.54242493 163.28330907  15.77729289 222.05220147]\n",
            "std label\n",
            "[7.169572]\n",
            "mean label\n",
            "[332.72876]\n",
            "min label\n",
            "210.31071\n",
            "max label\n",
            "594.70905\n"
          ],
          "name": "stdout"
        }
      ]
    },
    {
      "cell_type": "code",
      "metadata": {
        "id": "8DoV6Gf1beUe"
      },
      "source": [
        "BATCH_SIZE = 6\n",
        "ds_train = tf.data.TFRecordDataset(train_tfrecs)\n",
        "ds_train = ds_train.map(_parse_function, num_parallel_calls=tf.data.experimental.AUTOTUNE).shuffle(1000).prefetch(100)\n",
        "ds_train  =  ds_train.map(preprocess)#.map(agment)\n",
        "ds_train  = ds_train.map(Resize).map(normalize).batch(BATCH_SIZE,drop_remainder=True).repeat()"
      ],
      "execution_count": null,
      "outputs": []
    },
    {
      "cell_type": "code",
      "metadata": {
        "id": "8OmPrQYebeRs"
      },
      "source": [
        "BATCH_SIZE = 6\n",
        "ds_val= tf.data.TFRecordDataset([val_tfrecs])\n",
        "ds_val = ds_val.map(_parse_function, num_parallel_calls=tf.data.experimental.AUTOTUNE)\n",
        "ds_val  =  ds_val.map(preprocess)\n",
        "ds_val  = ds_val.map(Resize).map(normalize).batch(BATCH_SIZE,drop_remainder=True).repeat()"
      ],
      "execution_count": null,
      "outputs": []
    },
    {
      "cell_type": "code",
      "metadata": {
        "colab": {
          "base_uri": "https://localhost:8080/"
        },
        "id": "o-OetuMpbeOq",
        "outputId": "8278c37c-5695-40cd-814a-2f2954cd8dac"
      },
      "source": [
        "data1, label = next(iter(ds_train))\n",
        "data1.shape"
      ],
      "execution_count": null,
      "outputs": [
        {
          "output_type": "execute_result",
          "data": {
            "text/plain": [
              "TensorShape([8, 256, 5])"
            ]
          },
          "metadata": {
            "tags": []
          },
          "execution_count": 14
        }
      ]
    },
    {
      "cell_type": "code",
      "metadata": {
        "colab": {
          "base_uri": "https://localhost:8080/"
        },
        "id": "iubrV8g-bmEz",
        "outputId": "87117402-08e8-41a7-e6bd-9c66cb84ef1d"
      },
      "source": [
        "np.max(np.max(data1,axis = 1), axis = 0)"
      ],
      "execution_count": null,
      "outputs": [
        {
          "output_type": "execute_result",
          "data": {
            "text/plain": [
              "array([0.8415842 , 0.99722224, 1.        , 0.9558102 , 0.76549995],\n",
              "      dtype=float32)"
            ]
          },
          "metadata": {
            "tags": []
          },
          "execution_count": 69
        }
      ]
    },
    {
      "cell_type": "code",
      "metadata": {
        "colab": {
          "base_uri": "https://localhost:8080/"
        },
        "id": "P1z3xpZVbQK_",
        "outputId": "2519f156-0e2b-4560-937e-96e1f33dcfca"
      },
      "source": [
        "np.min(np.min(data1,axis = 1), axis = 0)"
      ],
      "execution_count": null,
      "outputs": [
        {
          "output_type": "execute_result",
          "data": {
            "text/plain": [
              "array([0.        , 0.        , 0.        , 0.31751227, 0.        ],\n",
              "      dtype=float32)"
            ]
          },
          "metadata": {
            "tags": []
          },
          "execution_count": 68
        }
      ]
    },
    {
      "cell_type": "code",
      "metadata": {
        "colab": {
          "base_uri": "https://localhost:8080/"
        },
        "id": "omOKUtcPzUq1",
        "outputId": "f8d7875a-acd8-490b-fb77-67a392a78476"
      },
      "source": [
        "label.shape"
      ],
      "execution_count": null,
      "outputs": [
        {
          "output_type": "execute_result",
          "data": {
            "text/plain": [
              "TensorShape([64, 256, 1])"
            ]
          },
          "metadata": {
            "tags": []
          },
          "execution_count": 53
        }
      ]
    },
    {
      "cell_type": "code",
      "metadata": {
        "colab": {
          "base_uri": "https://localhost:8080/"
        },
        "id": "_SXC3M7Qmoih",
        "outputId": "a5244e1d-b596-455f-f806-2f7afa9766f5"
      },
      "source": [
        "label.shape"
      ],
      "execution_count": null,
      "outputs": [
        {
          "output_type": "execute_result",
          "data": {
            "text/plain": [
              "TensorShape([64, 256, 1])"
            ]
          },
          "metadata": {
            "tags": []
          },
          "execution_count": 22
        }
      ]
    },
    {
      "cell_type": "code",
      "metadata": {
        "colab": {
          "base_uri": "https://localhost:8080/"
        },
        "id": "TKyRoP8TbeLD",
        "outputId": "cd0a76e8-1cb2-4fd6-8dff-6d304c138a59"
      },
      "source": [
        "np.std(data1.numpy())"
      ],
      "execution_count": null,
      "outputs": [
        {
          "output_type": "execute_result",
          "data": {
            "text/plain": [
              "0.002372507"
            ]
          },
          "metadata": {
            "tags": []
          },
          "execution_count": 23
        }
      ]
    },
    {
      "cell_type": "markdown",
      "metadata": {
        "id": "nz2sccwdb__D"
      },
      "source": [
        "# model"
      ]
    },
    {
      "cell_type": "markdown",
      "metadata": {
        "id": "-ow7WPVLPOdv"
      },
      "source": [
        "## Primary Classes"
      ]
    },
    {
      "cell_type": "code",
      "metadata": {
        "id": "a5H7acQsb_zy"
      },
      "source": [
        "from tensorflow.keras.activations import selu, relu\n",
        "\n",
        "class BB (tf.keras.layers.Layer):\n",
        "  def __init__(self,\n",
        "               filters = 64,\n",
        "               kernel_size = 9):\n",
        "    super(BB, self).__init__()\n",
        "\n",
        "    self.filters = filters\n",
        "    self.kernel_size = kernel_size\n",
        "\n",
        "    self.conv1 = tf.keras.layers.Conv1D(filters, kernel_size, activation=None, padding='same')\n",
        "\n",
        "    self.bn1 = tf.keras.layers.BatchNormalization()\n",
        "    self.bn2 = tf.keras.layers.BatchNormalization()\n",
        "    self.bn3 = tf.keras.layers.BatchNormalization()\n",
        "    self.conv2 = tf.keras.layers.Conv1D(filters, kernel_size, activation=None, padding='same')\n",
        "\n",
        "\n",
        "  def call(self, z, training = True):\n",
        "    x = self.conv1(z)\n",
        "    x = self.bn1(x, training = training)\n",
        "    x = selu(x)\n",
        "\n",
        "    x = self.conv2(x)\n",
        "    x = self.bn2(x, training = training)\n",
        "    x = selu(x)\n",
        "    x = tf.keras.layers.Add()([x, z])\n",
        "\n",
        "    x = self.bn3(x, training = training)\n",
        "    x = selu(x)\n",
        "    return x"
      ],
      "execution_count": null,
      "outputs": []
    },
    {
      "cell_type": "code",
      "metadata": {
        "id": "6yzrZV3iTRdJ"
      },
      "source": [
        "def tf_max_pool_with_masks(x,\n",
        "                           ksize = [1,1,2,1],\n",
        "                           strides = [1,1,2,1],\n",
        "                           padding = \"VALID\",\n",
        "                           data_format='NHWC',\n",
        "                           output_dtype=tf.dtypes.int64,\n",
        "                           include_batch_in_index=True):\n",
        "  \"\"\"\n",
        "    x = input tensor of size BTC, B=Batch, T:Time step, C:Channel\n",
        "    ksize: kernel size for each dim\n",
        "    strides: strides of each dim\n",
        "    data_format:channel last or not\n",
        "    output_dtype: int64 or int32\n",
        "    include_batch_in_index:An optional boolean. Defaults to True. Whether to include batch dimension in flattened index of argmax.\n",
        "  \"\"\"\n",
        "  input = tf.reshape(x, shape=(x.shape[0], 1, x.shape[1],x.shape[2]))\n",
        "  output, argmax = tf.nn.max_pool_with_argmax(input,\n",
        "                                              ksize = [1,1,2,1],\n",
        "                                              strides = [1,1,2,1],\n",
        "                                              padding = \"VALID\",\n",
        "                                              data_format='NHWC',\n",
        "                                              output_dtype=tf.dtypes.int64,\n",
        "                                              include_batch_in_index=True\n",
        "                                              )\n",
        "\n",
        "  #a = tf.reshape(output, shape=(-1,1))\n",
        "  indices = tf.reshape(argmax, shape=(-1,1))\n",
        "  input_flatten = tf.reshape(input, shape=(-1,1))\n",
        "  tensor = tf.zeros_like(input_flatten, dtype=tf.float32)\n",
        "  updates = tf.ones_like(indices, dtype=tf.float32)\n",
        "  mask = tf.tensor_scatter_nd_update(tensor, indices, updates)\n",
        "  mask = tf.reshape(mask, shape=x.get_shape().as_list())\n",
        "  output = tf.reshape(output, shape=(output.shape[0],output.shape[2],output.shape[3]))\n",
        "  return output, mask"
      ],
      "execution_count": null,
      "outputs": []
    },
    {
      "cell_type": "code",
      "metadata": {
        "id": "cBHE3f_nXa1e"
      },
      "source": [
        "x = tf.constant(1.0, dtype=tf.float32, shape=(16,16,512))*np.random.rand()"
      ],
      "execution_count": null,
      "outputs": []
    },
    {
      "cell_type": "code",
      "metadata": {
        "id": "TMWV6UJ_XazB"
      },
      "source": [
        "a,b = tf_max_pool_with_masks(x)"
      ],
      "execution_count": null,
      "outputs": []
    },
    {
      "cell_type": "code",
      "metadata": {
        "colab": {
          "base_uri": "https://localhost:8080/"
        },
        "id": "9SpnwzKnXawF",
        "outputId": "362862e4-31e4-4892-91e4-743af2a7db83"
      },
      "source": [
        "a.shape"
      ],
      "execution_count": null,
      "outputs": [
        {
          "output_type": "execute_result",
          "data": {
            "text/plain": [
              "TensorShape([16, 8, 512])"
            ]
          },
          "metadata": {
            "tags": []
          },
          "execution_count": 20
        }
      ]
    },
    {
      "cell_type": "code",
      "metadata": {
        "colab": {
          "base_uri": "https://localhost:8080/"
        },
        "id": "dNMWh1E0XatJ",
        "outputId": "dee6ab13-e347-4389-bb0a-f19c5356285d"
      },
      "source": [
        "b.shape"
      ],
      "execution_count": null,
      "outputs": [
        {
          "output_type": "execute_result",
          "data": {
            "text/plain": [
              "TensorShape([16, 16, 512])"
            ]
          },
          "metadata": {
            "tags": []
          },
          "execution_count": 21
        }
      ]
    },
    {
      "cell_type": "markdown",
      "metadata": {
        "id": "KgjE7lbCPIrS"
      },
      "source": [
        "## Model1"
      ]
    },
    {
      "cell_type": "code",
      "metadata": {
        "id": "qQdqZNnBb_wF"
      },
      "source": [
        "from tensorflow import keras\n",
        "\n",
        "class eUNet1D (keras.Model):\n",
        "  def __init__(self,\n",
        "               kernel_size = 9,\n",
        "               strides = 2):\n",
        "    super(eUNet1D, self).__init__()\n",
        "    self.kernel_size        = kernel_size\n",
        "    self.strides            = strides\n",
        "    self.conv1_0 = tf.keras.layers.Conv1D(64, kernel_size, activation='selu', padding='same')\n",
        "    self.bb1_1 = BB(filters = 64, kernel_size = self.kernel_size)\n",
        "    self.bb1_2 = BB(filters = 64, kernel_size = self.kernel_size)\n",
        "\n",
        "    #self.down2 = tf.keras.layers.MaxPool1D(pool_size=2, strides=self.strides, padding='valid')\n",
        "    self.conv2_0 = tf.keras.layers.Conv1D(128, kernel_size, activation='selu', padding='same')\n",
        "    self.bb2_1 = BB(filters = 128, kernel_size = self.kernel_size)\n",
        "    self.bb2_2 = BB(filters = 128, kernel_size = self.kernel_size)\n",
        "\n",
        "    #self.down3 = tf.keras.layers.MaxPool1D(pool_size=2, strides=self.strides, padding='valid')\n",
        "    self.conv3_0 = tf.keras.layers.Conv1D(256, kernel_size, activation='selu', padding='same')\n",
        "    self.bb3_1 = BB(filters = 256, kernel_size = self.kernel_size)\n",
        "    self.bb3_2 = BB(filters = 256, kernel_size = self.kernel_size)\n",
        "    self.bb3_3 = BB(filters = 256, kernel_size = self.kernel_size)\n",
        "\n",
        "    #self.down4 = tf.keras.layers.MaxPool1D(pool_size=2, strides=self.strides, padding='valid')\n",
        "    self.conv4_0 = tf.keras.layers.Conv1D(512, kernel_size, activation='selu', padding='same')\n",
        "    self.bb4_1 = BB(filters = 512, kernel_size = self.kernel_size)\n",
        "    self.bb4_2 = BB(filters = 512, kernel_size = self.kernel_size)\n",
        "    self.bb4_3 = BB(filters = 512, kernel_size = self.kernel_size)\n",
        "\n",
        "    #self.down5 = tf.keras.layers.MaxPool1D(pool_size=2, strides=self.strides, padding='valid')\n",
        "    self.bb5_1 = BB(filters = 512, kernel_size = self.kernel_size)\n",
        "    self.bb5_2 = BB(filters = 512, kernel_size = self.kernel_size)\n",
        "    self.bb5_3 = BB(filters = 512, kernel_size = self.kernel_size)\n",
        "\n",
        "    self.bb5_1_ = BB(filters = 512, kernel_size = self.kernel_size)\n",
        "    self.bb5_2_ = BB(filters = 512, kernel_size = self.kernel_size)\n",
        "    self.bb5_3_ = BB(filters = 512, kernel_size = self.kernel_size)\n",
        "    self.up5 =  tf.keras.layers.Conv1DTranspose(filters = 512, kernel_size = 2, strides=self.strides, padding='valid')\n",
        "\n",
        "    self.conv4_0_ = tf.keras.layers.Conv1D(256, kernel_size, activation='selu', padding='same')\n",
        "    self.bb4_1_ = BB(filters = 256, kernel_size = self.kernel_size)\n",
        "    self.bb4_2_ = BB(filters = 256, kernel_size = self.kernel_size)\n",
        "    self.bb4_3_ = BB(filters = 256, kernel_size = self.kernel_size)\n",
        "    self.up4 =  tf.keras.layers.Conv1DTranspose(filters = 256, kernel_size = 2, strides=self.strides, padding='valid')\n",
        "\n",
        "    self.conv3_0_ = tf.keras.layers.Conv1D(128, kernel_size, activation='selu', padding='same')\n",
        "    self.bb3_1_ = BB(filters = 128, kernel_size = self.kernel_size)\n",
        "    self.bb3_2_ = BB(filters = 128, kernel_size = self.kernel_size)\n",
        "    self.bb3_3_ = BB(filters = 128, kernel_size = self.kernel_size)\n",
        "    self.up3 =  tf.keras.layers.Conv1DTranspose(filters = 128, kernel_size = 2, strides=self.strides, padding='valid')\n",
        "\n",
        "    self.conv2_0_ = tf.keras.layers.Conv1D(64, kernel_size, activation='selu', padding='same')\n",
        "    self.bb2_1_ = BB(filters = 64, kernel_size = self.kernel_size)\n",
        "    self.bb2_2_ = BB(filters = 64, kernel_size = self.kernel_size)\n",
        "    self.up2 =  tf.keras.layers.Conv1DTranspose(filters = 64, kernel_size = 2, strides=self.strides, padding='valid')\n",
        "\n",
        "    self.bb1_1_ = BB(filters = 64, kernel_size = self.kernel_size)\n",
        "    self.bb1_2_ = BB(filters = 64, kernel_size = self.kernel_size)\n",
        "    #self.up1 =  tf.keras.layers.Conv1DTranspose(filters = 64, kernel_size = 2, strides=self.strides, padding='same')\n",
        "    self.conv_out = tf.keras.layers.Conv1D(1, 1, activation='sigmoid')\n",
        "\n",
        "\n",
        "\n",
        "  def call(self, z, training = True):\n",
        "    \"\"\"\n",
        "      z: (btach, time steps, channels)--> input\n",
        "    \"\"\"\n",
        "    #######################################\n",
        "    ############ Row 1 ####################\n",
        "    #######################################\n",
        "    x = self.conv1_0(z)#(None, 256, 64)\n",
        "    x = self.bb1_1(x) #(None, 256, 64)\n",
        "    x1 = self.bb1_2(x) #(None, 256, 64)\n",
        "\n",
        "    #######################################\n",
        "    ############ Row 2 ####################\n",
        "    #######################################\n",
        "    x, mask2 = tf_max_pool_with_masks(x1) #(None, 128, 64)\n",
        "    x = self.conv2_0(x)\n",
        "    x = self.bb2_1(x) #(None, 128, 128)\n",
        "    x2 = self.bb2_2(x) #(None, 128, 128)\n",
        "\n",
        "    #######################################\n",
        "    ############ Row 3 ####################\n",
        "    #######################################\n",
        "    x, mask3 = tf_max_pool_with_masks(x2) #(None, 64, 128)\n",
        "    x = self.conv3_0(x)\n",
        "    x = self.bb3_1(x) #(None, 64, 256)\n",
        "    x = self.bb3_2(x) #(None, 64, 256)\n",
        "    x3 = self.bb3_3(x) #(None, 64, 256)\n",
        "\n",
        "    #######################################\n",
        "    ############ Row 4 ####################\n",
        "    #######################################\n",
        "    x, mask4 = tf_max_pool_with_masks(x3) #(None, 32, 256)\n",
        "    x = self.conv4_0(x)\n",
        "    x = self.bb4_1(x) #(None, 32, 512)\n",
        "    x = self.bb4_2(x) #(None, 32, 512)\n",
        "    x4 = self.bb4_3(x) #(None, 32, 512)\n",
        "\n",
        "    #######################################\n",
        "    ############ Row 5 ####################\n",
        "    #######################################\n",
        "    x, mask5 = tf_max_pool_with_masks(x4) #(None, 16, 512)\n",
        "    x = self.bb5_1(x) #(None, 16, 512)\n",
        "    x = self.bb5_2(x) #(None, 16, 512)\n",
        "    x = self.bb5_3(x) #(None, 16, 512)\n",
        "\n",
        "    #######################################\n",
        "    ############ Row 5_1 ##################\n",
        "    #######################################\n",
        "    x = self.bb5_1_(x) #(None, 16, 512)\n",
        "    x = self.bb5_2_(x) #(None, 16, 512)\n",
        "    x = self.bb5_3_(x) #(None, 16, 512)\n",
        "    x = self.up5(x) #(None, 32, 512)\n",
        "    x = tf.math.multiply(x, mask5) #(None, 32, 512)\n",
        "\n",
        "    #######################################\n",
        "    ############ Row 4_1 ##################\n",
        "    #######################################\n",
        "    x = tf.keras.layers.Add()([x, x4]) #(None, 32, 512)\n",
        "    x = self.conv4_0_(x)\n",
        "    x = self.bb4_1_(x) #(None, 32, 256)\n",
        "    x = self.bb4_2_(x) #(None, 32, 256)\n",
        "    x = self.bb4_3_(x) #(None, 32, 256)\n",
        "    x = self.up4(x) #(None, 64, 256)\n",
        "    x = tf.math.multiply(x, mask4) #(None, 64, 256)\n",
        "\n",
        "    #######################################\n",
        "    ############ Row 3_1 ##################\n",
        "    #######################################\n",
        "    x = tf.keras.layers.Add()([x, x3]) #(None, 64, 256)\n",
        "    x = self.conv3_0_(x)\n",
        "    x = self.bb3_1_(x) #(None, 64, 128)\n",
        "    x = self.bb3_2_(x) #(None, 64, 128)\n",
        "    x = self.bb3_3_(x) #(None, 64, 128)\n",
        "    x = self.up3(x) #(None, 128, 128)\n",
        "    x = tf.math.multiply(x, mask3) #(None, 128, 128)\n",
        "\n",
        "    #######################################\n",
        "    ############ Row 2_1 ##################\n",
        "    #######################################\n",
        "    x = tf.keras.layers.Add()([x, x2]) #(None, 128, 128)\n",
        "    x = self.conv2_0_(x)\n",
        "    x = self.bb2_1_(x) #(None, 128, 64)\n",
        "    x = self.bb2_2_(x) #(None, 128, 64)\n",
        "    x = self.up2(x) #(None, 256, 64)\n",
        "    x = tf.math.multiply(x, mask2) #(None, 256, 64)\n",
        "\n",
        "    #######################################\n",
        "    ############ Row 1_1 ##################\n",
        "    #######################################\n",
        "    x = tf.keras.layers.Add()([x, x1]) #(None, 256, 64)\n",
        "    x = self.bb1_1_(x) #(None, 256, 64)\n",
        "    x = self.bb1_2_(x) #(None, 256, 64)\n",
        "    #x = self.up1(x) #(None, 512, 64)\n",
        "\n",
        "    x = self.conv_out(x)\n",
        "    return x"
      ],
      "execution_count": null,
      "outputs": []
    },
    {
      "cell_type": "markdown",
      "metadata": {
        "id": "ri6CZFf1PFu7"
      },
      "source": [
        "## Model2"
      ]
    },
    {
      "cell_type": "code",
      "metadata": {
        "id": "IKF-oLXgRpTk"
      },
      "source": [
        "from tensorflow import keras\n",
        "\n",
        "class eUNet1D_2 (keras.Model):\n",
        "  def __init__(self,\n",
        "               kernel_size = 9,\n",
        "               strides = 2):\n",
        "    super(eUNet1D_2, self).__init__()\n",
        "    self.kernel_size        = kernel_size\n",
        "    self.strides            = strides\n",
        "    self.conv1_0 = tf.keras.layers.Conv1D(64, kernel_size, activation='relu', padding='same')\n",
        "    self.bb1_1 = BB(filters = 64, kernel_size = self.kernel_size)\n",
        "    self.bb1_2 = BB(filters = 64, kernel_size = self.kernel_size)\n",
        "\n",
        "    self.down2 = tf.keras.layers.MaxPool1D(pool_size=2, strides=self.strides, padding='valid')\n",
        "    self.conv2_0 = tf.keras.layers.Conv1D(128, kernel_size, activation='relu', padding='same')\n",
        "    self.bb2_1 = BB(filters = 128, kernel_size = self.kernel_size)\n",
        "    self.bb2_2 = BB(filters = 128, kernel_size = self.kernel_size)\n",
        "\n",
        "    self.down3 = tf.keras.layers.MaxPool1D(pool_size=2, strides=self.strides, padding='valid')\n",
        "    self.conv3_0 = tf.keras.layers.Conv1D(256, kernel_size, activation='relu', padding='same')\n",
        "    self.bb3_1 = BB(filters = 256, kernel_size = self.kernel_size)\n",
        "    self.bb3_2 = BB(filters = 256, kernel_size = self.kernel_size)\n",
        "    self.bb3_3 = BB(filters = 256, kernel_size = self.kernel_size)\n",
        "\n",
        "    self.down4 = tf.keras.layers.MaxPool1D(pool_size=2, strides=self.strides, padding='valid')\n",
        "    self.conv4_0 = tf.keras.layers.Conv1D(512, kernel_size, activation='relu', padding='same')\n",
        "    self.bb4_1 = BB(filters = 512, kernel_size = self.kernel_size)\n",
        "    self.bb4_2 = BB(filters = 512, kernel_size = self.kernel_size)\n",
        "    self.bb4_3 = BB(filters = 512, kernel_size = self.kernel_size)\n",
        "\n",
        "    self.down5 = tf.keras.layers.MaxPool1D(pool_size=2, strides=self.strides, padding='valid')\n",
        "    self.bb5_1 = BB(filters = 512, kernel_size = self.kernel_size)\n",
        "    self.bb5_2 = BB(filters = 512, kernel_size = self.kernel_size)\n",
        "    self.bb5_3 = BB(filters = 512, kernel_size = self.kernel_size)\n",
        "\n",
        "    self.bb5_1_ = BB(filters = 512, kernel_size = self.kernel_size)\n",
        "    self.bb5_2_ = BB(filters = 512, kernel_size = self.kernel_size)\n",
        "    self.bb5_3_ = BB(filters = 512, kernel_size = self.kernel_size)\n",
        "    self.up5 =  tf.keras.layers.Conv1DTranspose(filters = 512, kernel_size = 2, strides=self.strides, padding='valid')\n",
        "\n",
        "    self.conv4_0_ = tf.keras.layers.Conv1D(256, kernel_size, activation='relu', padding='same')\n",
        "    self.bb4_1_ = BB(filters = 256, kernel_size = self.kernel_size)\n",
        "    self.bb4_2_ = BB(filters = 256, kernel_size = self.kernel_size)\n",
        "    self.bb4_3_ = BB(filters = 256, kernel_size = self.kernel_size)\n",
        "    self.up4 =  tf.keras.layers.Conv1DTranspose(filters = 256, kernel_size = 2, strides=self.strides, padding='valid')\n",
        "\n",
        "    self.conv3_0_ = tf.keras.layers.Conv1D(128, kernel_size, activation='relu', padding='same')\n",
        "    self.bb3_1_ = BB(filters = 128, kernel_size = self.kernel_size)\n",
        "    self.bb3_2_ = BB(filters = 128, kernel_size = self.kernel_size)\n",
        "    self.bb3_3_ = BB(filters = 128, kernel_size = self.kernel_size)\n",
        "    self.up3 =  tf.keras.layers.Conv1DTranspose(filters = 128, kernel_size = 2, strides=self.strides, padding='valid')\n",
        "\n",
        "    self.conv2_0_ = tf.keras.layers.Conv1D(64, kernel_size, activation='relu', padding='same')\n",
        "    self.bb2_1_ = BB(filters = 64, kernel_size = self.kernel_size)\n",
        "    self.bb2_2_ = BB(filters = 64, kernel_size = self.kernel_size)\n",
        "    self.up2 =  tf.keras.layers.Conv1DTranspose(filters = 64, kernel_size = 2, strides=self.strides, padding='valid')\n",
        "\n",
        "    self.bb1_1_ = BB(filters = 64, kernel_size = self.kernel_size)\n",
        "    self.bb1_2_ = BB(filters = 64, kernel_size = self.kernel_size)\n",
        "    #self.up1 =  tf.keras.layers.Conv1DTranspose(filters = 64, kernel_size = 2, strides=self.strides, padding='same')\n",
        "    self.conv_out = tf.keras.layers.Conv1D(1, 1, activation='relu')\n",
        "\n",
        "\n",
        "\n",
        "  def call(self, z, training = True):\n",
        "    \"\"\"\n",
        "      z: (btach, time steps, channels)--> input\n",
        "    \"\"\"\n",
        "    #######################################\n",
        "    ############ Row 1 ####################\n",
        "    #######################################\n",
        "    x = self.conv1_0(z)#(None, 256, 64)\n",
        "    x = self.bb1_1(x) #(None, 256, 64)\n",
        "    x1 = self.bb1_2(x) #(None, 256, 64)\n",
        "\n",
        "    #######################################\n",
        "    ############ Row 2 ####################\n",
        "    #######################################\n",
        "    x = self.down2(x1)\n",
        "    #x, mask2 = tf_max_pool_with_masks(x1) #(None, 128, 64)\n",
        "    x = self.conv2_0(x)\n",
        "    x = self.bb2_1(x) #(None, 128, 128)\n",
        "    x2 = self.bb2_2(x) #(None, 128, 128)\n",
        "\n",
        "    #######################################\n",
        "    ############ Row 3 ####################\n",
        "    #######################################\n",
        "    x = self.down3(x2)\n",
        "    #x, mask3 = tf_max_pool_with_masks(x2) #(None, 64, 128)\n",
        "    x = self.conv3_0(x)\n",
        "    x = self.bb3_1(x) #(None, 64, 256)\n",
        "    x = self.bb3_2(x) #(None, 64, 256)\n",
        "    x3 = self.bb3_3(x) #(None, 64, 256)\n",
        "\n",
        "    #######################################\n",
        "    ############ Row 4 ####################\n",
        "    #######################################\n",
        "    x = self.down4(x3)\n",
        "    #x, mask4 = tf_max_pool_with_masks(x3) #(None, 32, 256)\n",
        "    x = self.conv4_0(x)\n",
        "    x = self.bb4_1(x) #(None, 32, 512)\n",
        "    x = self.bb4_2(x) #(None, 32, 512)\n",
        "    x4 = self.bb4_3(x) #(None, 32, 512)\n",
        "\n",
        "    #######################################\n",
        "    ############ Row 5 ####################\n",
        "    #######################################\n",
        "    x = self.down2(x4)\n",
        "    #x, mask5 = tf_max_pool_with_masks(x4) #(None, 16, 512)\n",
        "    x = self.bb5_1(x) #(None, 16, 512)\n",
        "    x = self.bb5_2(x) #(None, 16, 512)\n",
        "    x = self.bb5_3(x) #(None, 16, 512)\n",
        "\n",
        "    #######################################\n",
        "    ############ Row 5_1 ##################\n",
        "    #######################################\n",
        "    x = self.bb5_1_(x) #(None, 16, 512)\n",
        "    x = self.bb5_2_(x) #(None, 16, 512)\n",
        "    x = self.bb5_3_(x) #(None, 16, 512)\n",
        "    x = self.up5(x) #(None, 32, 512)\n",
        "    #x = tf.math.multiply(x, mask5) #(None, 32, 512)\n",
        "\n",
        "    #######################################\n",
        "    ############ Row 4_1 ##################\n",
        "    #######################################\n",
        "    x = tf.keras.layers.Add()([x, x4]) #(None, 32, 512)\n",
        "    x = self.conv4_0_(x)\n",
        "    x = self.bb4_1_(x) #(None, 32, 256)\n",
        "    x = self.bb4_2_(x) #(None, 32, 256)\n",
        "    x = self.bb4_3_(x) #(None, 32, 256)\n",
        "    x = self.up4(x) #(None, 64, 256)\n",
        "    #x = tf.math.multiply(x, mask4) #(None, 64, 256)\n",
        "\n",
        "    #######################################\n",
        "    ############ Row 3_1 ##################\n",
        "    #######################################\n",
        "    x = tf.keras.layers.Add()([x, x3]) #(None, 64, 256)\n",
        "    x = self.conv3_0_(x)\n",
        "    x = self.bb3_1_(x) #(None, 64, 128)\n",
        "    x = self.bb3_2_(x) #(None, 64, 128)\n",
        "    x = self.bb3_3_(x) #(None, 64, 128)\n",
        "    x = self.up3(x) #(None, 128, 128)\n",
        "    #x = tf.math.multiply(x, mask3) #(None, 128, 128)\n",
        "\n",
        "    #######################################\n",
        "    ############ Row 2_1 ##################\n",
        "    #######################################\n",
        "    x = tf.keras.layers.Add()([x, x2]) #(None, 128, 128)\n",
        "    x = self.conv2_0_(x)\n",
        "    x = self.bb2_1_(x) #(None, 128, 64)\n",
        "    x = self.bb2_2_(x) #(None, 128, 64)\n",
        "    x = self.up2(x) #(None, 256, 64)\n",
        "    #x = tf.math.multiply(x, mask2) #(None, 256, 64)\n",
        "\n",
        "    #######################################\n",
        "    ############ Row 1_1 ##################\n",
        "    #######################################\n",
        "    x = tf.keras.layers.Add()([x, x1]) #(None, 256, 64)\n",
        "    x = self.bb1_1_(x) #(None, 256, 64)\n",
        "    x = self.bb1_2_(x) #(None, 256, 64)\n",
        "    #x = self.up1(x) #(None, 512, 64)\n",
        "\n",
        "    x = self.conv_out(x)\n",
        "    return x"
      ],
      "execution_count": null,
      "outputs": []
    },
    {
      "cell_type": "code",
      "metadata": {
        "id": "t2gTqGdiXaqh"
      },
      "source": [
        "x = tf.constant(1.0, dtype=tf.float32, shape=(512,256,5))*np.random.rand()\n",
        "model = eUNet1D(kernel_size = 50)\n",
        "temp_out = model(x, training = False)\n",
        "temp_out.shape"
      ],
      "execution_count": null,
      "outputs": []
    },
    {
      "cell_type": "code",
      "metadata": {
        "colab": {
          "base_uri": "https://localhost:8080/"
        },
        "id": "5vUEZ40ZSCJS",
        "outputId": "859b0713-9d1e-4dec-cd82-48445bf40f3a"
      },
      "source": [
        "x = tf.constant(1.0, dtype=tf.float32, shape=(512,256,5))*np.random.rand()\n",
        "model = eUNet1D_2(kernel_size = 5)\n",
        "temp_out = model(x, training = False)\n",
        "temp_out.shape"
      ],
      "execution_count": null,
      "outputs": [
        {
          "output_type": "execute_result",
          "data": {
            "text/plain": [
              "TensorShape([512, 256, 1])"
            ]
          },
          "metadata": {
            "tags": []
          },
          "execution_count": 55
        }
      ]
    },
    {
      "cell_type": "markdown",
      "metadata": {
        "id": "c7_0gDL887as"
      },
      "source": [
        "# Training"
      ]
    },
    {
      "cell_type": "code",
      "metadata": {
        "id": "E6-139PVXano"
      },
      "source": [
        "TRAIN_STEPS = 860//BATCH_SIZE+1\n",
        "VAL_STEPS = 314//BATCH_SIZE"
      ],
      "execution_count": null,
      "outputs": []
    },
    {
      "cell_type": "code",
      "metadata": {
        "id": "NLng2QUt91bQ"
      },
      "source": [
        "!mkdir /content/drive/MyDrive/wsp/saved_model10"
      ],
      "execution_count": null,
      "outputs": []
    },
    {
      "cell_type": "code",
      "metadata": {
        "id": "apIMfcybvaMN"
      },
      "source": [
        "def loss(y_true,y_pred):\n",
        "  lmbda = .01\n",
        "  mse = tf.keras.losses.MeanAbsoluteError()\n",
        "  l = mse(y_true, y_pred) + lmbda*tf.math.reduce_sum(tf.math.square(y_pred))\n",
        "  return l"
      ],
      "execution_count": null,
      "outputs": []
    },
    {
      "cell_type": "code",
      "metadata": {
        "id": "AYoX4jtJ94OU"
      },
      "source": [
        "#optimizer = tf.keras.optimizers.Adam(learning_rate=1e-3)\n",
        "lr_sc = tf.keras.optimizers.schedules.ExponentialDecay(1e-3, TRAIN_STEPS ,decay_rate=0.96)\n",
        "optimizer = tf.keras.optimizers.Adam(lr_sc,beta_1=0.9,beta_2=0.999)\n",
        "model.compile(loss= 'mae',\n",
        "              optimizer = optimizer,\n",
        "              metrics=['mse', 'mean_squared_logarithmic_error'])"
      ],
      "execution_count": null,
      "outputs": []
    },
    {
      "cell_type": "code",
      "metadata": {
        "id": "lRhR3an1-Oyg"
      },
      "source": [
        "EPOCHS = 64"
      ],
      "execution_count": null,
      "outputs": []
    },
    {
      "cell_type": "code",
      "metadata": {
        "colab": {
          "base_uri": "https://localhost:8080/"
        },
        "id": "UjcB1gbl-f-J",
        "outputId": "200eb43a-b0e1-471f-b26a-620e62aef402"
      },
      "source": [
        "from tensorflow.keras.callbacks import ModelCheckpoint\n",
        "# checkpoint\n",
        "filepath=\"/content/drive/MyDrive/wsp/saved_model10/saved_model\"\n",
        "checkpoint = ModelCheckpoint(filepath, monitor='val_mse',\n",
        "                             save_weights_only=True,\n",
        "                             verbose=1, save_best_only=True,\n",
        "                             mode='min')\n",
        "#callbacks_list = [ checkpoint,tf.keras.callbacks.EarlyStopping(monitor='val_loss',patience=3,) ]\n",
        "callbacks_list = [ checkpoint]\n",
        "\n",
        "history = model.fit(ds_train,\n",
        "                    epochs= EPOCHS,\n",
        "                    validation_data = ds_val,\n",
        "                    steps_per_epoch= TRAIN_STEPS,\n",
        "                    validation_steps = VAL_STEPS,\n",
        "                    callbacks = callbacks_list)"
      ],
      "execution_count": null,
      "outputs": [
        {
          "output_type": "stream",
          "text": [
            "Epoch 1/64\n",
            "144/144 [==============================] - 26s 89ms/step - loss: 0.2093 - mse: 0.0779 - mean_squared_logarithmic_error: 0.0411 - val_loss: 0.5089 - val_mse: 0.3304 - val_mean_squared_logarithmic_error: 0.1349\n",
            "\n",
            "Epoch 00001: val_mse improved from inf to 0.33045, saving model to /content/drive/MyDrive/wsp/saved_model10/saved_model\n",
            "Epoch 2/64\n",
            "144/144 [==============================] - 12s 81ms/step - loss: 0.1231 - mse: 0.0245 - mean_squared_logarithmic_error: 0.0136 - val_loss: 0.1506 - val_mse: 0.0311 - val_mean_squared_logarithmic_error: 0.0180\n",
            "\n",
            "Epoch 00002: val_mse improved from 0.33045 to 0.03108, saving model to /content/drive/MyDrive/wsp/saved_model10/saved_model\n",
            "Epoch 3/64\n",
            "144/144 [==============================] - 13s 87ms/step - loss: 0.1111 - mse: 0.0199 - mean_squared_logarithmic_error: 0.0108 - val_loss: 0.1251 - val_mse: 0.0233 - val_mean_squared_logarithmic_error: 0.0135\n",
            "\n",
            "Epoch 00003: val_mse improved from 0.03108 to 0.02331, saving model to /content/drive/MyDrive/wsp/saved_model10/saved_model\n",
            "Epoch 4/64\n",
            "144/144 [==============================] - 11s 76ms/step - loss: 0.1039 - mse: 0.0176 - mean_squared_logarithmic_error: 0.0095 - val_loss: 0.1033 - val_mse: 0.0156 - val_mean_squared_logarithmic_error: 0.0089\n",
            "\n",
            "Epoch 00004: val_mse improved from 0.02331 to 0.01560, saving model to /content/drive/MyDrive/wsp/saved_model10/saved_model\n",
            "Epoch 5/64\n",
            "144/144 [==============================] - 11s 80ms/step - loss: 0.1041 - mse: 0.0176 - mean_squared_logarithmic_error: 0.0095 - val_loss: 0.1110 - val_mse: 0.0188 - val_mean_squared_logarithmic_error: 0.0108\n",
            "\n",
            "Epoch 00005: val_mse did not improve from 0.01560\n",
            "Epoch 6/64\n",
            "144/144 [==============================] - 11s 79ms/step - loss: 0.1047 - mse: 0.0179 - mean_squared_logarithmic_error: 0.0096 - val_loss: 0.0993 - val_mse: 0.0148 - val_mean_squared_logarithmic_error: 0.0084\n",
            "\n",
            "Epoch 00006: val_mse improved from 0.01560 to 0.01479, saving model to /content/drive/MyDrive/wsp/saved_model10/saved_model\n",
            "Epoch 7/64\n",
            "144/144 [==============================] - 13s 87ms/step - loss: 0.1041 - mse: 0.0176 - mean_squared_logarithmic_error: 0.0095 - val_loss: 0.1006 - val_mse: 0.0147 - val_mean_squared_logarithmic_error: 0.0084\n",
            "\n",
            "Epoch 00007: val_mse improved from 0.01479 to 0.01470, saving model to /content/drive/MyDrive/wsp/saved_model10/saved_model\n",
            "Epoch 8/64\n",
            "144/144 [==============================] - 13s 92ms/step - loss: 0.1029 - mse: 0.0173 - mean_squared_logarithmic_error: 0.0093 - val_loss: 0.1011 - val_mse: 0.0153 - val_mean_squared_logarithmic_error: 0.0087\n",
            "\n",
            "Epoch 00008: val_mse did not improve from 0.01470\n",
            "Epoch 9/64\n",
            "144/144 [==============================] - 11s 74ms/step - loss: 0.1015 - mse: 0.0168 - mean_squared_logarithmic_error: 0.0090 - val_loss: 0.1032 - val_mse: 0.0163 - val_mean_squared_logarithmic_error: 0.0092\n",
            "\n",
            "Epoch 00009: val_mse did not improve from 0.01470\n",
            "Epoch 10/64\n",
            "144/144 [==============================] - 11s 75ms/step - loss: 0.1010 - mse: 0.0167 - mean_squared_logarithmic_error: 0.0090 - val_loss: 0.0978 - val_mse: 0.0151 - val_mean_squared_logarithmic_error: 0.0085\n",
            "\n",
            "Epoch 00010: val_mse did not improve from 0.01470\n",
            "Epoch 11/64\n",
            "144/144 [==============================] - 11s 75ms/step - loss: 0.1024 - mse: 0.0172 - mean_squared_logarithmic_error: 0.0092 - val_loss: 0.1011 - val_mse: 0.0151 - val_mean_squared_logarithmic_error: 0.0086\n",
            "\n",
            "Epoch 00011: val_mse did not improve from 0.01470\n",
            "Epoch 12/64\n",
            "144/144 [==============================] - 11s 75ms/step - loss: 0.1019 - mse: 0.0170 - mean_squared_logarithmic_error: 0.0091 - val_loss: 0.0976 - val_mse: 0.0149 - val_mean_squared_logarithmic_error: 0.0084\n",
            "\n",
            "Epoch 00012: val_mse did not improve from 0.01470\n",
            "Epoch 13/64\n",
            "144/144 [==============================] - 11s 77ms/step - loss: 0.1009 - mse: 0.0166 - mean_squared_logarithmic_error: 0.0089 - val_loss: 0.1029 - val_mse: 0.0158 - val_mean_squared_logarithmic_error: 0.0091\n",
            "\n",
            "Epoch 00013: val_mse did not improve from 0.01470\n",
            "Epoch 14/64\n",
            "144/144 [==============================] - 11s 79ms/step - loss: 0.0996 - mse: 0.0163 - mean_squared_logarithmic_error: 0.0087 - val_loss: 0.1046 - val_mse: 0.0176 - val_mean_squared_logarithmic_error: 0.0100\n",
            "\n",
            "Epoch 00014: val_mse did not improve from 0.01470\n",
            "Epoch 15/64\n",
            "144/144 [==============================] - 11s 76ms/step - loss: 0.0996 - mse: 0.0163 - mean_squared_logarithmic_error: 0.0087 - val_loss: 0.0999 - val_mse: 0.0158 - val_mean_squared_logarithmic_error: 0.0089\n",
            "\n",
            "Epoch 00015: val_mse did not improve from 0.01470\n",
            "Epoch 16/64\n",
            "144/144 [==============================] - 11s 77ms/step - loss: 0.1001 - mse: 0.0165 - mean_squared_logarithmic_error: 0.0088 - val_loss: 0.1029 - val_mse: 0.0169 - val_mean_squared_logarithmic_error: 0.0095\n",
            "\n",
            "Epoch 00016: val_mse did not improve from 0.01470\n",
            "Epoch 17/64\n",
            "144/144 [==============================] - 11s 76ms/step - loss: 0.0984 - mse: 0.0159 - mean_squared_logarithmic_error: 0.0085 - val_loss: 0.0981 - val_mse: 0.0150 - val_mean_squared_logarithmic_error: 0.0085\n",
            "\n",
            "Epoch 00017: val_mse did not improve from 0.01470\n",
            "Epoch 18/64\n",
            "144/144 [==============================] - 11s 76ms/step - loss: 0.0989 - mse: 0.0162 - mean_squared_logarithmic_error: 0.0086 - val_loss: 0.0985 - val_mse: 0.0152 - val_mean_squared_logarithmic_error: 0.0086\n",
            "\n",
            "Epoch 00018: val_mse did not improve from 0.01470\n",
            "Epoch 19/64\n",
            "144/144 [==============================] - 11s 78ms/step - loss: 0.0986 - mse: 0.0161 - mean_squared_logarithmic_error: 0.0086 - val_loss: 0.1003 - val_mse: 0.0147 - val_mean_squared_logarithmic_error: 0.0084\n",
            "\n",
            "Epoch 00019: val_mse improved from 0.01470 to 0.01469, saving model to /content/drive/MyDrive/wsp/saved_model10/saved_model\n",
            "Epoch 20/64\n",
            "144/144 [==============================] - 11s 80ms/step - loss: 0.0986 - mse: 0.0161 - mean_squared_logarithmic_error: 0.0086 - val_loss: 0.1000 - val_mse: 0.0149 - val_mean_squared_logarithmic_error: 0.0085\n",
            "\n",
            "Epoch 00020: val_mse did not improve from 0.01469\n",
            "Epoch 21/64\n",
            "144/144 [==============================] - 11s 79ms/step - loss: 0.0990 - mse: 0.0162 - mean_squared_logarithmic_error: 0.0086 - val_loss: 0.1064 - val_mse: 0.0158 - val_mean_squared_logarithmic_error: 0.0092\n",
            "\n",
            "Epoch 00021: val_mse did not improve from 0.01469\n",
            "Epoch 22/64\n",
            "144/144 [==============================] - 11s 75ms/step - loss: 0.0987 - mse: 0.0161 - mean_squared_logarithmic_error: 0.0086 - val_loss: 0.0964 - val_mse: 0.0145 - val_mean_squared_logarithmic_error: 0.0081\n",
            "\n",
            "Epoch 00022: val_mse improved from 0.01469 to 0.01447, saving model to /content/drive/MyDrive/wsp/saved_model10/saved_model\n",
            "Epoch 23/64\n",
            "144/144 [==============================] - 11s 77ms/step - loss: 0.0987 - mse: 0.0161 - mean_squared_logarithmic_error: 0.0086 - val_loss: 0.1043 - val_mse: 0.0164 - val_mean_squared_logarithmic_error: 0.0094\n",
            "\n",
            "Epoch 00023: val_mse did not improve from 0.01447\n",
            "Epoch 24/64\n",
            "144/144 [==============================] - 12s 83ms/step - loss: 0.0980 - mse: 0.0159 - mean_squared_logarithmic_error: 0.0085 - val_loss: 0.0981 - val_mse: 0.0147 - val_mean_squared_logarithmic_error: 0.0083\n",
            "\n",
            "Epoch 00024: val_mse did not improve from 0.01447\n",
            "Epoch 25/64\n",
            "144/144 [==============================] - 11s 78ms/step - loss: 0.0990 - mse: 0.0161 - mean_squared_logarithmic_error: 0.0086 - val_loss: 0.1016 - val_mse: 0.0154 - val_mean_squared_logarithmic_error: 0.0088\n",
            "\n",
            "Epoch 00025: val_mse did not improve from 0.01447\n",
            "Epoch 26/64\n",
            "144/144 [==============================] - 11s 77ms/step - loss: 0.0974 - mse: 0.0157 - mean_squared_logarithmic_error: 0.0084 - val_loss: 0.0953 - val_mse: 0.0142 - val_mean_squared_logarithmic_error: 0.0080\n",
            "\n",
            "Epoch 00026: val_mse improved from 0.01447 to 0.01422, saving model to /content/drive/MyDrive/wsp/saved_model10/saved_model\n",
            "Epoch 27/64\n",
            "144/144 [==============================] - 11s 78ms/step - loss: 0.0980 - mse: 0.0159 - mean_squared_logarithmic_error: 0.0085 - val_loss: 0.0954 - val_mse: 0.0142 - val_mean_squared_logarithmic_error: 0.0080\n",
            "\n",
            "Epoch 00027: val_mse improved from 0.01422 to 0.01418, saving model to /content/drive/MyDrive/wsp/saved_model10/saved_model\n",
            "Epoch 28/64\n",
            "144/144 [==============================] - 13s 87ms/step - loss: 0.0972 - mse: 0.0157 - mean_squared_logarithmic_error: 0.0083 - val_loss: 0.0978 - val_mse: 0.0145 - val_mean_squared_logarithmic_error: 0.0083\n",
            "\n",
            "Epoch 00028: val_mse did not improve from 0.01418\n",
            "Epoch 29/64\n",
            "144/144 [==============================] - 11s 80ms/step - loss: 0.0979 - mse: 0.0158 - mean_squared_logarithmic_error: 0.0085 - val_loss: 0.0975 - val_mse: 0.0145 - val_mean_squared_logarithmic_error: 0.0082\n",
            "\n",
            "Epoch 00029: val_mse did not improve from 0.01418\n",
            "Epoch 30/64\n",
            "144/144 [==============================] - 11s 77ms/step - loss: 0.0979 - mse: 0.0158 - mean_squared_logarithmic_error: 0.0084 - val_loss: 0.0981 - val_mse: 0.0154 - val_mean_squared_logarithmic_error: 0.0087\n",
            "\n",
            "Epoch 00030: val_mse did not improve from 0.01418\n",
            "Epoch 31/64\n",
            "144/144 [==============================] - 11s 79ms/step - loss: 0.0976 - mse: 0.0157 - mean_squared_logarithmic_error: 0.0084 - val_loss: 0.0980 - val_mse: 0.0148 - val_mean_squared_logarithmic_error: 0.0084\n",
            "\n",
            "Epoch 00031: val_mse did not improve from 0.01418\n",
            "Epoch 32/64\n",
            "144/144 [==============================] - 11s 76ms/step - loss: 0.0962 - mse: 0.0154 - mean_squared_logarithmic_error: 0.0082 - val_loss: 0.0955 - val_mse: 0.0139 - val_mean_squared_logarithmic_error: 0.0078\n",
            "\n",
            "Epoch 00032: val_mse improved from 0.01418 to 0.01387, saving model to /content/drive/MyDrive/wsp/saved_model10/saved_model\n",
            "Epoch 33/64\n",
            "144/144 [==============================] - 12s 81ms/step - loss: 0.0965 - mse: 0.0154 - mean_squared_logarithmic_error: 0.0082 - val_loss: 0.0968 - val_mse: 0.0145 - val_mean_squared_logarithmic_error: 0.0082\n",
            "\n",
            "Epoch 00033: val_mse did not improve from 0.01387\n",
            "Epoch 34/64\n",
            "144/144 [==============================] - 12s 82ms/step - loss: 0.0969 - mse: 0.0156 - mean_squared_logarithmic_error: 0.0083 - val_loss: 0.1008 - val_mse: 0.0148 - val_mean_squared_logarithmic_error: 0.0085\n",
            "\n",
            "Epoch 00034: val_mse did not improve from 0.01387\n",
            "Epoch 35/64\n",
            "144/144 [==============================] - 11s 77ms/step - loss: 0.0958 - mse: 0.0152 - mean_squared_logarithmic_error: 0.0082 - val_loss: 0.0970 - val_mse: 0.0141 - val_mean_squared_logarithmic_error: 0.0080\n",
            "\n",
            "Epoch 00035: val_mse did not improve from 0.01387\n",
            "Epoch 36/64\n",
            "144/144 [==============================] - 11s 74ms/step - loss: 0.0958 - mse: 0.0153 - mean_squared_logarithmic_error: 0.0081 - val_loss: 0.0951 - val_mse: 0.0142 - val_mean_squared_logarithmic_error: 0.0080\n",
            "\n",
            "Epoch 00036: val_mse did not improve from 0.01387\n",
            "Epoch 37/64\n",
            "144/144 [==============================] - 11s 76ms/step - loss: 0.0959 - mse: 0.0154 - mean_squared_logarithmic_error: 0.0082 - val_loss: 0.0955 - val_mse: 0.0141 - val_mean_squared_logarithmic_error: 0.0079\n",
            "\n",
            "Epoch 00037: val_mse did not improve from 0.01387\n",
            "Epoch 38/64\n",
            "144/144 [==============================] - 11s 77ms/step - loss: 0.0967 - mse: 0.0156 - mean_squared_logarithmic_error: 0.0083 - val_loss: 0.0972 - val_mse: 0.0142 - val_mean_squared_logarithmic_error: 0.0080\n",
            "\n",
            "Epoch 00038: val_mse did not improve from 0.01387\n",
            "Epoch 39/64\n",
            "144/144 [==============================] - 11s 79ms/step - loss: 0.0962 - mse: 0.0153 - mean_squared_logarithmic_error: 0.0082 - val_loss: 0.0973 - val_mse: 0.0142 - val_mean_squared_logarithmic_error: 0.0081\n",
            "\n",
            "Epoch 00039: val_mse did not improve from 0.01387\n",
            "Epoch 40/64\n",
            "144/144 [==============================] - 11s 76ms/step - loss: 0.0959 - mse: 0.0154 - mean_squared_logarithmic_error: 0.0082 - val_loss: 0.0979 - val_mse: 0.0148 - val_mean_squared_logarithmic_error: 0.0083\n",
            "\n",
            "Epoch 00040: val_mse did not improve from 0.01387\n",
            "Epoch 41/64\n",
            "144/144 [==============================] - 11s 75ms/step - loss: 0.0953 - mse: 0.0151 - mean_squared_logarithmic_error: 0.0080 - val_loss: 0.0958 - val_mse: 0.0140 - val_mean_squared_logarithmic_error: 0.0079\n",
            "\n",
            "Epoch 00041: val_mse did not improve from 0.01387\n",
            "Epoch 42/64\n",
            "144/144 [==============================] - 11s 77ms/step - loss: 0.0974 - mse: 0.0158 - mean_squared_logarithmic_error: 0.0084 - val_loss: 0.0957 - val_mse: 0.0144 - val_mean_squared_logarithmic_error: 0.0080\n",
            "\n",
            "Epoch 00042: val_mse did not improve from 0.01387\n",
            "Epoch 43/64\n",
            "144/144 [==============================] - 11s 76ms/step - loss: 0.0952 - mse: 0.0151 - mean_squared_logarithmic_error: 0.0080 - val_loss: 0.0986 - val_mse: 0.0144 - val_mean_squared_logarithmic_error: 0.0082\n",
            "\n",
            "Epoch 00043: val_mse did not improve from 0.01387\n",
            "Epoch 44/64\n",
            "144/144 [==============================] - 11s 76ms/step - loss: 0.0943 - mse: 0.0149 - mean_squared_logarithmic_error: 0.0079 - val_loss: 0.0961 - val_mse: 0.0141 - val_mean_squared_logarithmic_error: 0.0080\n",
            "\n",
            "Epoch 00044: val_mse did not improve from 0.01387\n",
            "Epoch 45/64\n",
            "144/144 [==============================] - 11s 80ms/step - loss: 0.0972 - mse: 0.0157 - mean_squared_logarithmic_error: 0.0084 - val_loss: 0.0952 - val_mse: 0.0140 - val_mean_squared_logarithmic_error: 0.0079\n",
            "\n",
            "Epoch 00045: val_mse did not improve from 0.01387\n",
            "Epoch 46/64\n",
            "144/144 [==============================] - 12s 80ms/step - loss: 0.0947 - mse: 0.0150 - mean_squared_logarithmic_error: 0.0080 - val_loss: 0.0950 - val_mse: 0.0139 - val_mean_squared_logarithmic_error: 0.0078\n",
            "\n",
            "Epoch 00046: val_mse did not improve from 0.01387\n",
            "Epoch 47/64\n",
            "144/144 [==============================] - 11s 77ms/step - loss: 0.0945 - mse: 0.0149 - mean_squared_logarithmic_error: 0.0079 - val_loss: 0.0957 - val_mse: 0.0142 - val_mean_squared_logarithmic_error: 0.0080\n",
            "\n",
            "Epoch 00047: val_mse did not improve from 0.01387\n",
            "Epoch 48/64\n",
            "144/144 [==============================] - 11s 77ms/step - loss: 0.0966 - mse: 0.0156 - mean_squared_logarithmic_error: 0.0083 - val_loss: 0.0949 - val_mse: 0.0142 - val_mean_squared_logarithmic_error: 0.0079\n",
            "\n",
            "Epoch 00048: val_mse did not improve from 0.01387\n",
            "Epoch 49/64\n",
            "144/144 [==============================] - 11s 77ms/step - loss: 0.0955 - mse: 0.0152 - mean_squared_logarithmic_error: 0.0081 - val_loss: 0.0970 - val_mse: 0.0143 - val_mean_squared_logarithmic_error: 0.0081\n",
            "\n",
            "Epoch 00049: val_mse did not improve from 0.01387\n",
            "Epoch 50/64\n",
            "144/144 [==============================] - 11s 78ms/step - loss: 0.0934 - mse: 0.0145 - mean_squared_logarithmic_error: 0.0078 - val_loss: 0.0948 - val_mse: 0.0139 - val_mean_squared_logarithmic_error: 0.0079\n",
            "\n",
            "Epoch 00050: val_mse did not improve from 0.01387\n",
            "Epoch 51/64\n",
            "144/144 [==============================] - 11s 78ms/step - loss: 0.0962 - mse: 0.0155 - mean_squared_logarithmic_error: 0.0082 - val_loss: 0.0947 - val_mse: 0.0142 - val_mean_squared_logarithmic_error: 0.0080\n",
            "\n",
            "Epoch 00051: val_mse did not improve from 0.01387\n",
            "Epoch 52/64\n",
            "144/144 [==============================] - 11s 79ms/step - loss: 0.0945 - mse: 0.0149 - mean_squared_logarithmic_error: 0.0080 - val_loss: 0.0955 - val_mse: 0.0139 - val_mean_squared_logarithmic_error: 0.0079\n",
            "\n",
            "Epoch 00052: val_mse did not improve from 0.01387\n",
            "Epoch 53/64\n",
            "144/144 [==============================] - 11s 75ms/step - loss: 0.0943 - mse: 0.0149 - mean_squared_logarithmic_error: 0.0079 - val_loss: 0.0950 - val_mse: 0.0140 - val_mean_squared_logarithmic_error: 0.0079\n",
            "\n",
            "Epoch 00053: val_mse did not improve from 0.01387\n",
            "Epoch 54/64\n",
            "144/144 [==============================] - 11s 75ms/step - loss: 0.0946 - mse: 0.0150 - mean_squared_logarithmic_error: 0.0080 - val_loss: 0.0953 - val_mse: 0.0139 - val_mean_squared_logarithmic_error: 0.0079\n",
            "\n",
            "Epoch 00054: val_mse did not improve from 0.01387\n",
            "Epoch 55/64\n",
            "144/144 [==============================] - 11s 77ms/step - loss: 0.0956 - mse: 0.0153 - mean_squared_logarithmic_error: 0.0081 - val_loss: 0.0978 - val_mse: 0.0141 - val_mean_squared_logarithmic_error: 0.0080\n",
            "\n",
            "Epoch 00055: val_mse did not improve from 0.01387\n",
            "Epoch 56/64\n",
            "144/144 [==============================] - 11s 77ms/step - loss: 0.0944 - mse: 0.0149 - mean_squared_logarithmic_error: 0.0079 - val_loss: 0.0952 - val_mse: 0.0139 - val_mean_squared_logarithmic_error: 0.0078\n",
            "\n",
            "Epoch 00056: val_mse did not improve from 0.01387\n",
            "Epoch 57/64\n",
            "144/144 [==============================] - 11s 79ms/step - loss: 0.0940 - mse: 0.0147 - mean_squared_logarithmic_error: 0.0079 - val_loss: 0.0951 - val_mse: 0.0141 - val_mean_squared_logarithmic_error: 0.0079\n",
            "\n",
            "Epoch 00057: val_mse did not improve from 0.01387\n",
            "Epoch 58/64\n",
            "144/144 [==============================] - 11s 79ms/step - loss: 0.0952 - mse: 0.0153 - mean_squared_logarithmic_error: 0.0081 - val_loss: 0.0970 - val_mse: 0.0142 - val_mean_squared_logarithmic_error: 0.0080\n",
            "\n",
            "Epoch 00058: val_mse did not improve from 0.01387\n",
            "Epoch 59/64\n",
            "144/144 [==============================] - 11s 78ms/step - loss: 0.0942 - mse: 0.0149 - mean_squared_logarithmic_error: 0.0079 - val_loss: 0.0946 - val_mse: 0.0141 - val_mean_squared_logarithmic_error: 0.0079\n",
            "\n",
            "Epoch 00059: val_mse did not improve from 0.01387\n",
            "Epoch 60/64\n",
            "144/144 [==============================] - 11s 78ms/step - loss: 0.0946 - mse: 0.0149 - mean_squared_logarithmic_error: 0.0079 - val_loss: 0.0953 - val_mse: 0.0140 - val_mean_squared_logarithmic_error: 0.0079\n",
            "\n",
            "Epoch 00060: val_mse did not improve from 0.01387\n",
            "Epoch 61/64\n",
            "144/144 [==============================] - 11s 76ms/step - loss: 0.0940 - mse: 0.0148 - mean_squared_logarithmic_error: 0.0079 - val_loss: 0.0952 - val_mse: 0.0141 - val_mean_squared_logarithmic_error: 0.0079\n",
            "\n",
            "Epoch 00061: val_mse did not improve from 0.01387\n",
            "Epoch 62/64\n",
            "144/144 [==============================] - 11s 75ms/step - loss: 0.0940 - mse: 0.0148 - mean_squared_logarithmic_error: 0.0079 - val_loss: 0.0957 - val_mse: 0.0139 - val_mean_squared_logarithmic_error: 0.0079\n",
            "\n",
            "Epoch 00062: val_mse did not improve from 0.01387\n",
            "Epoch 63/64\n",
            "144/144 [==============================] - 11s 77ms/step - loss: 0.0942 - mse: 0.0149 - mean_squared_logarithmic_error: 0.0079 - val_loss: 0.0953 - val_mse: 0.0139 - val_mean_squared_logarithmic_error: 0.0079\n",
            "\n",
            "Epoch 00063: val_mse did not improve from 0.01387\n",
            "Epoch 64/64\n",
            "144/144 [==============================] - 11s 75ms/step - loss: 0.0938 - mse: 0.0147 - mean_squared_logarithmic_error: 0.0078 - val_loss: 0.0946 - val_mse: 0.0142 - val_mean_squared_logarithmic_error: 0.0079\n",
            "\n",
            "Epoch 00064: val_mse did not improve from 0.01387\n"
          ],
          "name": "stdout"
        }
      ]
    },
    {
      "cell_type": "code",
      "metadata": {
        "id": "hujNsaLyFACP"
      },
      "source": [
        "!mkdir /content/drive/MyDrive/wsp/imgs"
      ],
      "execution_count": null,
      "outputs": []
    },
    {
      "cell_type": "code",
      "metadata": {
        "id": "I6L4crrkzzK8",
        "colab": {
          "base_uri": "https://localhost:8080/",
          "height": 545
        },
        "outputId": "be4a4ff0-2489-4332-aef0-7e8dba695c72"
      },
      "source": [
        "# plot loss\n",
        "plt.plot( history.history['loss'],'',  history.history['val_loss'],'-')\n",
        "plt.title('Loss')\n",
        "plt.legend(['train','val'])\n",
        "plt.grid()\n",
        "plt.savefig('/content/drive/MyDrive/wsp/imgs/loss10.jpg')\n",
        "plt.show()\n",
        "# plot mse\n",
        "plt.plot(history.history['mse'],'', history.history['val_mse'],'-')\n",
        "plt.title('MSE')\n",
        "plt.legend(['train','val'])\n",
        "plt.grid()\n",
        "plt.savefig('/content/drive/MyDrive/wsp/imgs/mse10.jpg')\n",
        "plt.show()\n"
      ],
      "execution_count": null,
      "outputs": [
        {
          "output_type": "display_data",
          "data": {
            "image/png": "[encoded data removed]",
            "text/plain": [
              "<Figure size 432x288 with 1 Axes>"
            ]
          },
          "metadata": {
            "tags": [],
            "needs_background": "light"
          }
        },
        {
          "output_type": "display_data",
          "data": {
            "image/png": "[encoded data removed]",
            "text/plain": [
              "<Figure size 432x288 with 1 Axes>"
            ]
          },
          "metadata": {
            "tags": [],
            "needs_background": "light"
          }
        }
      ]
    },
    {
      "cell_type": "code",
      "metadata": {
        "id": "mL-jKgKPkWn4"
      },
      "source": [],
      "execution_count": null,
      "outputs": []
    },
    {
      "cell_type": "code",
      "metadata": {
        "id": "A3WHAxIzkgWK"
      },
      "source": [],
      "execution_count": null,
      "outputs": []
    },
    {
      "cell_type": "code",
      "metadata": {
        "id": "fENhWEy9kgRz"
      },
      "source": [
        "def predict_one_fold(model, ds_test):\n",
        "  mse = tf.keras.metrics.MeanSquaredError()\n",
        "  mae = tf.keras.metrics.MeanAbsoluteError()\n",
        "  msle = tf.keras.metrics.MeanSquaredLogarithmicError()\n",
        "  predictions = np.array([], dtype=np.float32).reshape(0,1)\n",
        "  target = np.array([], dtype=np.float32).reshape(0,1)\n",
        "  #signals = np.array([], dtype=np.float32).reshape(0,6)\n",
        "  for batch in ds_test:\n",
        "    data, label = batch\n",
        "    preds = model(data, training=False)\n",
        "    preds = preds.numpy()\n",
        "    #signals = np.concatenate((signals, data), axis=0)\n",
        "    mse.update_state(label, preds)\n",
        "    mae.update_state(label, preds)\n",
        "    msle.update_state(label, preds)\n",
        "    label = label.numpy()\n",
        "    target = np.vstack([target, label.reshape(-1, 1)])\n",
        "    predictions = np.vstack([predictions, preds.reshape(-1, 1)])\n",
        "  print('MSE:', mse.result().numpy())\n",
        "  print('MAE:', mae.result().numpy())\n",
        "  print('MSLE:', msle.result().numpy())\n",
        "  print('---------------------------------------')\n",
        "  return predictions, target\n"
      ],
      "execution_count": null,
      "outputs": []
    },
    {
      "cell_type": "code",
      "metadata": {
        "id": "KlO9X_nxkgN3"
      },
      "source": [
        "def get_test_dataset(sample_name):\n",
        "  ds_test= tf.data.TFRecordDataset([sample_name])\n",
        "  ds_test = ds_test.map(_parse_function, num_parallel_calls=tf.data.experimental.AUTOTUNE)\n",
        "  ds_test  =  ds_test.map(preprocess)\n",
        "  ds_test  = ds_test.map(Resize).map(normalize).batch(BATCH_SIZE,drop_remainder=True)\n",
        "  return ds_test"
      ],
      "execution_count": null,
      "outputs": []
    },
    {
      "cell_type": "code",
      "metadata": {
        "colab": {
          "base_uri": "https://localhost:8080/",
          "height": 36
        },
        "id": "MLJmfzDel0ec",
        "outputId": "f27cd95c-350a-47f1-8f63-452f0825ec86"
      },
      "source": [
        "test_tfrecs"
      ],
      "execution_count": null,
      "outputs": [
        {
          "output_type": "execute_result",
          "data": {
            "application/vnd.google.colaboratory.intrinsic+json": {
              "type": "string"
            },
            "text/plain": [
              "'/content/drive/MyDrive/wsp/data/Binalood.tfrec'"
            ]
          },
          "metadata": {
            "tags": []
          },
          "execution_count": 34
        }
      ]
    },
    {
      "cell_type": "code",
      "metadata": {
        "colab": {
          "base_uri": "https://localhost:8080/"
        },
        "id": "E6x6wTw7kgKf",
        "outputId": "566ccdc0-794b-4909-aacd-5187d2454783"
      },
      "source": [
        "min_data, max_data, min_label, max_label = find_stats(train_tfrecs)\n",
        "max_data = max_data.tolist()\n",
        "min_data = min_data.tolist()"
      ],
      "execution_count": null,
      "outputs": [
        {
          "output_type": "stream",
          "text": [
            "min data\n",
            "[  0.           0.           0.         -18.60000038   0.        ]\n",
            "max data\n",
            "[  30.29999924  360.          360.           40.         1200.        ]\n",
            "std data\n",
            "[ 0.71320939  6.71210985 18.94165501  1.11519899 33.02555599]\n",
            "mean data\n",
            "[  5.52331553  48.54242493 163.28330907  15.77729289 222.05220147]\n",
            "std label\n",
            "[7.169572]\n",
            "mean label\n",
            "[332.72876]\n",
            "min label\n",
            "210.31071\n",
            "max label\n",
            "594.70905\n"
          ],
          "name": "stdout"
        }
      ]
    },
    {
      "cell_type": "code",
      "metadata": {
        "colab": {
          "base_uri": "https://localhost:8080/"
        },
        "id": "SiyYpmf-m3tJ",
        "outputId": "835763fd-5563-48fb-8bc3-5e8ee087da5e"
      },
      "source": [
        "data1, label = next(iter(a))\n",
        "data1.shape"
      ],
      "execution_count": null,
      "outputs": [
        {
          "output_type": "execute_result",
          "data": {
            "text/plain": [
              "TensorShape([8, 256, 5])"
            ]
          },
          "metadata": {
            "tags": []
          },
          "execution_count": 36
        }
      ]
    },
    {
      "cell_type": "code",
      "metadata": {
        "colab": {
          "base_uri": "https://localhost:8080/"
        },
        "id": "rzK9gj0VoAoV",
        "outputId": "cb8e9ccc-5677-4b87-81fe-ae9d2e8f8dea"
      },
      "source": [
        "preds = model(data1, training=False)\n",
        "preds.shape"
      ],
      "execution_count": null,
      "outputs": [
        {
          "output_type": "execute_result",
          "data": {
            "text/plain": [
              "TensorShape([8, 256, 1])"
            ]
          },
          "metadata": {
            "tags": []
          },
          "execution_count": 37
        }
      ]
    },
    {
      "cell_type": "markdown",
      "metadata": {
        "id": "g0YDukwEAcqi"
      },
      "source": [
        "**model02 : 9**\n",
        "\n",
        "**model03 : 5**\n",
        "\n",
        "**model04 : 5**\n",
        "\n",
        "**model05 : 5**\n",
        "\n",
        "**model05 : 50**"
      ]
    },
    {
      "cell_type": "code",
      "metadata": {
        "colab": {
          "base_uri": "https://localhost:8080/"
        },
        "id": "e2cmFr5ikgGm",
        "outputId": "881585b8-3b84-41c7-d4a5-146ce93d0b7f"
      },
      "source": [
        "BATCH_SIZE = 8\n",
        "model = eUNet1D_2(kernel_size = 5)\n",
        "model.load_weights('/content/drive/MyDrive/wsp/saved_model10/saved_model').expect_partial()\n",
        "a = get_test_dataset(test_tfrecs)\n",
        "preds, target = predict_one_fold(model, a)"
      ],
      "execution_count": null,
      "outputs": [
        {
          "output_type": "stream",
          "text": [
            "MSE: 0.010506325\n",
            "MAE: 0.08166102\n",
            "MSLE: 0.006078821\n",
            "---------------------------------------\n"
          ],
          "name": "stdout"
        }
      ]
    },
    {
      "cell_type": "code",
      "metadata": {
        "colab": {
          "base_uri": "https://localhost:8080/",
          "height": 545
        },
        "id": "RcTQ09Ycl_Xx",
        "outputId": "6d11a8cc-b613-4c1c-c9c6-3027896c37ce"
      },
      "source": [
        "# plot loss\n",
        "plt.plot( target[0:1000],'')\n",
        "plt.title('real')\n",
        "plt.grid()\n",
        "plt.savefig('/content/drive/MyDrive/wsp/real.png')\n",
        "plt.show()\n",
        "\n",
        "plt.plot(preds[0:1000],'-')\n",
        "plt.title('pred')\n",
        "plt.grid()\n",
        "plt.savefig('/content/drive/MyDrive/wsp/pred_09.png')\n",
        "plt.show()\n"
      ],
      "execution_count": null,
      "outputs": [
        {
          "output_type": "display_data",
          "data": {
            "image/png": "[encoded data removed]",
            "text/plain": [
              "<Figure size 432x288 with 1 Axes>"
            ]
          },
          "metadata": {
            "tags": [],
            "needs_background": "light"
          }
        },
        {
          "output_type": "display_data",
          "data": {
            "image/png": "[encoded data removed]",
            "text/plain": [
              "<Figure size 432x288 with 1 Axes>"
            ]
          },
          "metadata": {
            "tags": [],
            "needs_background": "light"
          }
        }
      ]
    },
    {
      "cell_type": "code",
      "metadata": {
        "id": "RoIchHbGkgDW"
      },
      "source": [],
      "execution_count": null,
      "outputs": []
    },
    {
      "cell_type": "code",
      "metadata": {
        "id": "exb1SES0kWf9"
      },
      "source": [],
      "execution_count": null,
      "outputs": []
    },
    {
      "cell_type": "code",
      "metadata": {
        "id": "QVJr1mPekWYa"
      },
      "source": [],
      "execution_count": null,
      "outputs": []
    },
    {
      "cell_type": "code",
      "metadata": {
        "id": "iJLYxrSVkWR8"
      },
      "source": [],
      "execution_count": null,
      "outputs": []
    },
    {
      "cell_type": "markdown",
      "metadata": {
        "id": "mm1MlUFAR6Ii"
      },
      "source": [
        "# six fold"
      ]
    },
    {
      "cell_type": "code",
      "metadata": {
        "id": "BFLKdattzy7z"
      },
      "source": [
        "subjects= [ 'tr03-0333',\n",
        "            'tr03-0373',\n",
        "            'tr03-0532',\n",
        "            'tr03-1183',\n",
        "            'tr04-0332',\n",
        "            'tr05-0827',\n",
        "            'tr05-1042',\n",
        "            'tr06-0447',\n",
        "            'tr03-1129',\n",
        "            'tr06-1010',\n",
        "            'tr03-0100',\n",
        "            'tr07-0605']"
      ],
      "execution_count": null,
      "outputs": []
    },
    {
      "cell_type": "code",
      "metadata": {
        "id": "-ORMuo9eHtc6"
      },
      "source": [
        "outlier_subjects = ['tr06-0447', 'tr06-1010', 'tr07-0605', 'tr03-0373', ]"
      ],
      "execution_count": null,
      "outputs": []
    },
    {
      "cell_type": "code",
      "metadata": {
        "id": "f3iWOMTW6m4Z"
      },
      "source": [
        "#!rm -r /content/drive/MyDrive/eunet1d/fold1"
      ],
      "execution_count": null,
      "outputs": []
    },
    {
      "cell_type": "code",
      "metadata": {
        "id": "zQlX12tL5vjx"
      },
      "source": [
        "#!rm -r /content/drive/MyDrive/filtered"
      ],
      "execution_count": null,
      "outputs": []
    },
    {
      "cell_type": "code",
      "metadata": {
        "id": "Hmbu84mVMbgv"
      },
      "source": [
        "def _bytes_feature(value):\n",
        "  \"\"\"Returns a bytes_list from a string / byte.\"\"\"\n",
        "  if isinstance(value, type(tf.constant(0))):\n",
        "    value = value.numpy() # BytesList won't unpack a string from an EagerTensor.\n",
        "  return tf.train.Feature(bytes_list=tf.train.BytesList(value=[value]))\n",
        "\n",
        "def _float_feature(value):\n",
        "  \"\"\"Returns a float_list from a float / double.\"\"\"\n",
        "  return tf.train.Feature(float_list=tf.train.FloatList(value=value))\n",
        "\n",
        "def _int64_feature(value):\n",
        "  \"\"\"Returns an int64_list from a bool / enum / int / uint.\"\"\"\n",
        "  return tf.train.Feature(int64_list=tf.train.Int64List(value=value))\n",
        "\n",
        "def serialize_example(data, target):\n",
        "  feature = {\n",
        "      'data': _float_feature(data),\n",
        "      'target': _float_feature(target)\n",
        "  }\n",
        "  example_proto = tf.train.Example(features=tf.train.Features(feature=feature))\n",
        "  return example_proto.SerializeToString()\n"
      ],
      "execution_count": null,
      "outputs": []
    },
    {
      "cell_type": "code",
      "metadata": {
        "id": "PCbf1LB8S9BR"
      },
      "source": [
        "def create_tfrecs(subjects_lists, save_path = '/content/data'):\n",
        "  i = 0\n",
        "  num_all = []\n",
        "  with progressbar.ProgressBar(max_value=len(subjects_lists)) as bar:\n",
        "    for rec in subjects_lists:\n",
        "      labelURL = 'https://physionet.org/files/challenge-2018/1.0.0/training/' + rec + '/' + rec+ '.mat?download'\n",
        "      urllib.request.urlretrieve(labelURL, '/content/data.mat')\n",
        "\n",
        "      data = io.loadmat('/content/data.mat')\n",
        "      data = data['val']\n",
        "      data = data.astype(np.float32)\n",
        "\n",
        "      path_to_filtred = '/content/drive/MyDrive/eunet1d/filtered/subjects'\n",
        "      af = io.loadmat(os.path.join(path_to_filtred, rec+'.mat'))\n",
        "      af = af['airflow_final']\n",
        "      af = af.astype(np.float32)\n",
        "      data[10,:] = af\n",
        "      number_of_arrays = data.shape[1]//256\n",
        "      num_all.append(number_of_arrays)\n",
        "      with tf.io.TFRecordWriter(os.path.join(save_path, rec + '.tfrec')) as writer:\n",
        "        for j in range(number_of_arrays):\n",
        "          sub_data = data[0:6,j*256:(j+1)*256]\n",
        "          sub_data = sub_data.astype(np.float32)\n",
        "          sub_data = sub_data.reshape(256,6)\n",
        "          target = data[10,j*256:(j+1)*256]\n",
        "          target = target.astype(np.float32)\n",
        "          target = target.reshape(256,1)\n",
        "\n",
        "          example = serialize_example(sub_data.reshape(-1,1), target.reshape(-1,1))\n",
        "          writer.write(example)\n",
        "      i +=1\n",
        "      bar.update(i)\n",
        "  return num_all"
      ],
      "execution_count": null,
      "outputs": []
    },
    {
      "cell_type": "code",
      "metadata": {
        "id": "zcV9fyNJ-1Eq"
      },
      "source": [
        "save_path = '/content/data/'\n",
        "if not os.path.isdir(save_path):\n",
        "  os.mkdir(save_path)\n",
        "num_samples = create_tfrecs(subjects, save_path = save_path)\n",
        "num_samples"
      ],
      "execution_count": null,
      "outputs": []
    },
    {
      "cell_type": "code",
      "metadata": {
        "id": "riRbFfwvMhmu"
      },
      "source": [
        "# Create a dictionary describing the features.\n",
        "feature_description = {\n",
        "    'data': tf.io.FixedLenFeature([1536], tf.float32, default_value=[0.0]*1536),\n",
        "    'target': tf.io.FixedLenFeature([256], tf.float32, default_value=[0.0]*256),\n",
        "  }\n",
        "\n",
        "def _parse_function(example_proto):\n",
        "  # Parse the input tf.train.Example proto using the dictionary above.\n",
        "  return tf.io.parse_single_example(example_proto, feature_description)\n",
        "\n",
        "def preprocess(features,effesionet=True):\n",
        "  data = features['data']\n",
        "  #data = tf.io.decode_raw(data, tf.int16)\n",
        "  label = features['target']\n",
        "  #label = tf.io.decode_raw(label, tf.int16)\n",
        "  return data, label\n",
        "\n",
        "\n",
        "def normalize(data ,label):\n",
        "  #standard\n",
        "  data = tf.cast(data, tf.float32)\n",
        "  scale = tf.constant(max_data) - tf.constant(min_data)\n",
        "  offset = tf.constant(min_data)\n",
        "\n",
        "  data -= offset\n",
        "  data /= scale\n",
        "  label = tf.cast(label, tf.float32)\n",
        "  scale =  tf.constant([max_label]) - tf.constant([min_label])\n",
        "  offset = tf.constant([min_label])\n",
        "  label -= offset\n",
        "  label /= scale\n",
        "  return data , label\n",
        "\n",
        "@tf.function\n",
        "def augment(data,label):\n",
        "\n",
        "  return data , label\n",
        "\n",
        "def Resize(data,label):\n",
        "  data = tf.reshape(data, [256,6])\n",
        "  label = tf.reshape(label, [256,1])\n",
        "  return data , label\n"
      ],
      "execution_count": null,
      "outputs": []
    },
    {
      "cell_type": "code",
      "metadata": {
        "id": "ilhr_BllzdCg"
      },
      "source": [
        "BATCH_SIZE = 64\n",
        "ds_test= tf.data.TFRecordDataset(['/content/data/tr03-0100.tfrec'])\n",
        "ds_test = ds_test.map(_parse_function, num_parallel_calls=tf.data.experimental.AUTOTUNE)\n",
        "ds_test  =  ds_test.map(preprocess)\n",
        "ds_test  = ds_test.map(Resize).batch(BATCH_SIZE,drop_remainder=True)"
      ],
      "execution_count": null,
      "outputs": []
    },
    {
      "cell_type": "code",
      "metadata": {
        "id": "xvdOhIRBzb3Z"
      },
      "source": [
        "data1, label = next(iter(ds_test))\n",
        "data1.shape"
      ],
      "execution_count": null,
      "outputs": []
    },
    {
      "cell_type": "code",
      "metadata": {
        "colab": {
          "base_uri": "https://localhost:8080/"
        },
        "id": "ADK2lTV2z6cX",
        "outputId": "4285979f-8cbd-4c09-a226-658f1cec1c38"
      },
      "source": [
        "label.shape"
      ],
      "execution_count": null,
      "outputs": [
        {
          "output_type": "execute_result",
          "data": {
            "text/plain": [
              "TensorShape([64, 256, 1])"
            ]
          },
          "metadata": {
            "tags": []
          },
          "execution_count": 119
        }
      ]
    },
    {
      "cell_type": "code",
      "metadata": {
        "id": "e-HONY2Rz6aF"
      },
      "source": [
        "def find_stats(all_tfrecs):\n",
        "  ds_stat= tf.data.TFRecordDataset(all_tfrecs)\n",
        "  ds_stat = ds_stat.map(_parse_function, num_parallel_calls=tf.data.experimental.AUTOTUNE).prefetch(100)\n",
        "  ds_stat  =  ds_stat.map(preprocess)\n",
        "  ds_stat  = ds_stat.map(Resize).batch(1024,drop_remainder=True)\n",
        "\n",
        "  mean_data = np.zeros((6,))\n",
        "  std_data = np.zeros((6,))\n",
        "  max_data = np.ones((6,))*-100000 # -inf\n",
        "  min_data = np.ones((6,))*(100000) #+inf\n",
        "\n",
        "  mean_label = 0\n",
        "  std_label = 0\n",
        "  max_label = -100000000000\n",
        "  min_label = 10000000000\n",
        "  k = 0\n",
        "  for i in ds_stat:\n",
        "    data1, label = i\n",
        "    mean_data = mean_data + np.mean(np.mean(data1.numpy(),axis=1),axis=0)\n",
        "    std_data = std_data + np.std(np.std(data1.numpy(),axis=1),axis=0)\n",
        "    mean_label = mean_label + np.mean(np.mean(label.numpy(),axis=1),axis=0)\n",
        "    std_label = std_label + np.std(np.std(label.numpy(),axis=1),axis=0)\n",
        "\n",
        "    data =np.max(np.max(data1,axis=1),axis=0)\n",
        "    max_data[np.where(max_data< data)] = data[np.where(max_data< data)]\n",
        "    data =np.min(np.min(data1,axis=1),axis=0)\n",
        "    min_data[np.where(min_data> data)] = data[np.where(min_data> data)]\n",
        "\n",
        "    if np.max(np.max(label.numpy(),axis=1))>max_label:\n",
        "      max_label = np.max(np.max(label.numpy(),axis=1))\n",
        "    if np.min(np.min(label.numpy()))<min_label:\n",
        "      min_label = np.min(np.min(label.numpy()))\n",
        "\n",
        "    k = k+1\n",
        "  std_data = std_data/k\n",
        "  mean_data = mean_data/k\n",
        "  mean_label = mean_label/k\n",
        "  std_label = std_label/k\n",
        "  print('min data')\n",
        "  print(min_data)\n",
        "  print('max data')\n",
        "  print(max_data)\n",
        "  print('std data')\n",
        "  print(std_data)\n",
        "  print('mean data')\n",
        "  print(mean_data)\n",
        "\n",
        "  print('std label')\n",
        "  print(std_label)\n",
        "  print('mean label')\n",
        "  print(mean_label)\n",
        "  print('min label')\n",
        "  print(min_label)\n",
        "  print('max label')\n",
        "  print(max_label)\n",
        "  del ds_stat\n",
        "  return min_data, max_data, min_label, max_label"
      ],
      "execution_count": null,
      "outputs": []
    },
    {
      "cell_type": "code",
      "metadata": {
        "id": "vgKrpvY6Yxc4",
        "colab": {
          "base_uri": "https://localhost:8080/"
        },
        "outputId": "afd26cc1-0ff1-4384-b66d-2531ae73c1bc"
      },
      "source": [
        "np.random.seed(55)\n",
        "indices = np.arange(len(subjects))\n",
        "np.random.shuffle(indices)\n",
        "indices.tolist()"
      ],
      "execution_count": null,
      "outputs": [
        {
          "output_type": "execute_result",
          "data": {
            "text/plain": [
              "[6, 4, 0, 2, 1, 3, 9, 11, 5, 8, 7, 10]"
            ]
          },
          "metadata": {
            "tags": []
          },
          "execution_count": 15
        }
      ]
    },
    {
      "cell_type": "code",
      "metadata": {
        "colab": {
          "base_uri": "https://localhost:8080/"
        },
        "id": "xr90QmWXIglX",
        "outputId": "a61d65e4-7ee9-425f-b92a-625c3f203065"
      },
      "source": [
        "subjects_without_outliers = [subject for subject in subjects if subject not in outlier_subjects]\n",
        "subjects_without_outliers"
      ],
      "execution_count": null,
      "outputs": [
        {
          "output_type": "execute_result",
          "data": {
            "text/plain": [
              "['tr03-0333',\n",
              " 'tr03-0532',\n",
              " 'tr03-1183',\n",
              " 'tr04-0332',\n",
              " 'tr05-0827',\n",
              " 'tr05-1042',\n",
              " 'tr03-1129',\n",
              " 'tr03-0100']"
            ]
          },
          "metadata": {
            "tags": []
          },
          "execution_count": 16
        }
      ]
    },
    {
      "cell_type": "code",
      "metadata": {
        "colab": {
          "base_uri": "https://localhost:8080/"
        },
        "id": "ipFrBKmUZEXM",
        "outputId": "b3267b70-6347-4d1a-8c73-28b01b8777e5"
      },
      "source": [
        "subjects = [subjects[i] for i in indices.tolist()]\n",
        "subjects"
      ],
      "execution_count": null,
      "outputs": [
        {
          "output_type": "execute_result",
          "data": {
            "text/plain": [
              "['tr05-1042',\n",
              " 'tr04-0332',\n",
              " 'tr03-0333',\n",
              " 'tr03-0532',\n",
              " 'tr03-0373',\n",
              " 'tr03-1183',\n",
              " 'tr06-1010',\n",
              " 'tr07-0605',\n",
              " 'tr05-0827',\n",
              " 'tr03-1129',\n",
              " 'tr06-0447',\n",
              " 'tr03-0100']"
            ]
          },
          "metadata": {
            "tags": []
          },
          "execution_count": 17
        }
      ]
    },
    {
      "cell_type": "code",
      "metadata": {
        "colab": {
          "base_uri": "https://localhost:8080/"
        },
        "id": "RQ0QsHEuJFBZ",
        "outputId": "1cb7d506-4bd0-446e-c88b-2d76f41b8b59"
      },
      "source": [
        "all_tfrecs_witout_outliers = [ '/content/data/'+ subjects_without_outliers[i] + '.tfrec' for i in range(len(subjects_without_outliers))]\n",
        "all_tfrecs_witout_outliers"
      ],
      "execution_count": null,
      "outputs": [
        {
          "output_type": "execute_result",
          "data": {
            "text/plain": [
              "['/content/data/tr03-0333.tfrec',\n",
              " '/content/data/tr03-0532.tfrec',\n",
              " '/content/data/tr03-1183.tfrec',\n",
              " '/content/data/tr04-0332.tfrec',\n",
              " '/content/data/tr05-0827.tfrec',\n",
              " '/content/data/tr05-1042.tfrec',\n",
              " '/content/data/tr03-1129.tfrec',\n",
              " '/content/data/tr03-0100.tfrec']"
            ]
          },
          "metadata": {
            "tags": []
          },
          "execution_count": 19
        }
      ]
    },
    {
      "cell_type": "code",
      "metadata": {
        "id": "OBh2SIyrJVTj"
      },
      "source": [
        "find_stats(all_tfrecs_witout_outliers)"
      ],
      "execution_count": null,
      "outputs": []
    },
    {
      "cell_type": "markdown",
      "metadata": {
        "id": "sceXgDqEJauo"
      },
      "source": [
        "**so based on our observations, we choose the max = 100 and min = -100 as threshold**\n",
        "\n",
        "let's create the new tfrecs without the noisy samples"
      ]
    },
    {
      "cell_type": "code",
      "metadata": {
        "id": "FVMDIOXsJj9_"
      },
      "source": [
        "threshold_max = 41\n",
        "threshold_min = -34"
      ],
      "execution_count": null,
      "outputs": []
    },
    {
      "cell_type": "code",
      "metadata": {
        "id": "FRVJvaXHLkfG"
      },
      "source": [
        "rec = outlier_subjects[0]\n",
        "labelURL = 'https://physionet.org/files/challenge-2018/1.0.0/training/' + rec + '/' + rec+ '.mat?download'\n",
        "urllib.request.urlretrieve(labelURL, '/content/data.mat')\n",
        "\n",
        "data = io.loadmat('/content/data.mat')\n",
        "data = data['val']\n",
        "data = data.astype(np.float32)\n",
        "\n",
        "path_to_filtred = '/content/drive/MyDrive/eunet1d/filtered/subjects'\n",
        "af = io.loadmat(os.path.join(path_to_filtred, rec+'.mat'))\n",
        "af = af['airflow_final']\n",
        "af = af.astype(np.float32)"
      ],
      "execution_count": null,
      "outputs": []
    },
    {
      "cell_type": "code",
      "metadata": {
        "colab": {
          "base_uri": "https://localhost:8080/"
        },
        "id": "G3zzGV0JLwNV",
        "outputId": "77956456-6670-4518-92ed-3a54183b198a"
      },
      "source": [
        "af.shape"
      ],
      "execution_count": null,
      "outputs": [
        {
          "output_type": "execute_result",
          "data": {
            "text/plain": [
              "(1, 5162400)"
            ]
          },
          "metadata": {
            "tags": []
          },
          "execution_count": 41
        }
      ]
    },
    {
      "cell_type": "code",
      "metadata": {
        "colab": {
          "base_uri": "https://localhost:8080/"
        },
        "id": "yzYvyhegLyL-",
        "outputId": "70955a40-fa10-4233-ecb8-17cad1108710"
      },
      "source": [
        "data.shape"
      ],
      "execution_count": null,
      "outputs": [
        {
          "output_type": "execute_result",
          "data": {
            "text/plain": [
              "(13, 5162400)"
            ]
          },
          "metadata": {
            "tags": []
          },
          "execution_count": 42
        }
      ]
    },
    {
      "cell_type": "code",
      "metadata": {
        "colab": {
          "base_uri": "https://localhost:8080/"
        },
        "id": "GrsC-1m7Lv_s",
        "outputId": "8debf142-f457-4702-b285-d3b93962ad21"
      },
      "source": [
        "\n",
        "clean_af = np.delete(af, np.where(af >= threshold_max), 1)\n",
        "clean_af.shape"
      ],
      "execution_count": null,
      "outputs": [
        {
          "output_type": "execute_result",
          "data": {
            "text/plain": [
              "(1, 3176815)"
            ]
          },
          "metadata": {
            "tags": []
          },
          "execution_count": 43
        }
      ]
    },
    {
      "cell_type": "code",
      "metadata": {
        "colab": {
          "base_uri": "https://localhost:8080/"
        },
        "id": "znNbxI6iML6S",
        "outputId": "638138fd-8371-4203-c94c-97500ae9d977"
      },
      "source": [
        "clean_data= np.delete(data, np.where(af >= threshold_max), 1)\n",
        "clean_data.shape"
      ],
      "execution_count": null,
      "outputs": [
        {
          "output_type": "execute_result",
          "data": {
            "text/plain": [
              "(13, 3176815)"
            ]
          },
          "metadata": {
            "tags": []
          },
          "execution_count": 44
        }
      ]
    },
    {
      "cell_type": "code",
      "metadata": {
        "colab": {
          "base_uri": "https://localhost:8080/"
        },
        "id": "-P22thw6MS0k",
        "outputId": "70cf9967-70d6-471a-94a6-dd2f4addb2c5"
      },
      "source": [
        "\n",
        "clean_af2 = np.delete(clean_af, np.where(clean_af <= threshold_min), 1)\n",
        "clean_af2.shape"
      ],
      "execution_count": null,
      "outputs": [
        {
          "output_type": "execute_result",
          "data": {
            "text/plain": [
              "(1, 1193682)"
            ]
          },
          "metadata": {
            "tags": []
          },
          "execution_count": 46
        }
      ]
    },
    {
      "cell_type": "code",
      "metadata": {
        "colab": {
          "base_uri": "https://localhost:8080/"
        },
        "id": "txYtVJzwMeSl",
        "outputId": "10b78003-93cf-41d9-9fbb-040315e75b4e"
      },
      "source": [
        "clean_data2 = np.delete(clean_data, np.where(clean_af <= threshold_min), 1)\n",
        "clean_data2.shape"
      ],
      "execution_count": null,
      "outputs": [
        {
          "output_type": "execute_result",
          "data": {
            "text/plain": [
              "(13, 1193682)"
            ]
          },
          "metadata": {
            "tags": []
          },
          "execution_count": 47
        }
      ]
    },
    {
      "cell_type": "code",
      "metadata": {
        "id": "Xh5MqvfqNRaf"
      },
      "source": [
        "!rm -r /content/data"
      ],
      "execution_count": null,
      "outputs": []
    },
    {
      "cell_type": "code",
      "metadata": {
        "id": "JyWptQY1KBX7"
      },
      "source": [
        "def create_tfrecs2(subjects_lists, save_path = '/content/data'):\n",
        "  i = 0\n",
        "  num_all = []\n",
        "  with progressbar.ProgressBar(max_value=len(subjects_lists)) as bar:\n",
        "    for rec in subjects_lists:\n",
        "      labelURL = 'https://physionet.org/files/challenge-2018/1.0.0/training/' + rec + '/' + rec+ '.mat?download'\n",
        "      urllib.request.urlretrieve(labelURL, '/content/data.mat')\n",
        "\n",
        "      data = io.loadmat('/content/data.mat')\n",
        "      data = data['val']\n",
        "      data = data.astype(np.float32)\n",
        "\n",
        "      path_to_filtred = '/content/drive/MyDrive/eunet1d/filtered/subjects'\n",
        "      af = io.loadmat(os.path.join(path_to_filtred, rec+'.mat'))\n",
        "      af = af['airflow_final']\n",
        "      af = af.astype(np.float32)\n",
        "\n",
        "      clean_af = np.delete(af, np.where(af >= threshold_max), 1)\n",
        "      clean_data= np.delete(data, np.where(af >= threshold_max), 1)\n",
        "\n",
        "      af = np.delete(clean_af, np.where(clean_af <= threshold_min), 1)\n",
        "      data = np.delete(clean_data, np.where(clean_af <= threshold_min), 1)\n",
        "\n",
        "      data[10,:] = af\n",
        "      number_of_arrays = data.shape[1]//256\n",
        "      num_all.append(number_of_arrays)\n",
        "      with tf.io.TFRecordWriter(os.path.join(save_path, rec + '.tfrec')) as writer:\n",
        "        for j in range(number_of_arrays):\n",
        "          sub_data = data[0:6,j*256:(j+1)*256]\n",
        "          sub_data = sub_data.astype(np.float32)\n",
        "          sub_data = sub_data.reshape(256,6)\n",
        "          target = data[10,j*256:(j+1)*256]\n",
        "          target = target.astype(np.float32)\n",
        "          target = target.reshape(256,1)\n",
        "\n",
        "          example = serialize_example(sub_data.reshape(-1,1), target.reshape(-1,1))\n",
        "          writer.write(example)\n",
        "      i +=1\n",
        "      bar.update(i)\n",
        "  return num_all"
      ],
      "execution_count": null,
      "outputs": []
    },
    {
      "cell_type": "code",
      "metadata": {
        "colab": {
          "base_uri": "https://localhost:8080/"
        },
        "id": "VxYEN9PRNh0r",
        "outputId": "4b0f9e52-ba4b-4a76-d770-481a6c32dc7d"
      },
      "source": [
        "save_path = '/content/data/'\n",
        "if not os.path.isdir(save_path):\n",
        "  os.mkdir(save_path)\n",
        "num_samples = create_tfrecs2(subjects, save_path = save_path)\n",
        "num_samples"
      ],
      "execution_count": null,
      "outputs": [
        {
          "output_type": "stream",
          "text": [
            "100% (12 of 12) |########################| Elapsed Time: 0:04:40 Time:  0:04:40\n"
          ],
          "name": "stderr"
        },
        {
          "output_type": "execute_result",
          "data": {
            "text/plain": [
              "[21144,\n",
              " 21738,\n",
              " 20250,\n",
              " 21113,\n",
              " 20256,\n",
              " 21117,\n",
              " 1610,\n",
              " 2227,\n",
              " 19589,\n",
              " 25160,\n",
              " 2138,\n",
              " 19417]"
            ]
          },
          "metadata": {
            "tags": []
          },
          "execution_count": 22
        }
      ]
    },
    {
      "cell_type": "code",
      "metadata": {
        "id": "JAZEEk9yz6S2"
      },
      "source": [
        "all_tfrecs_fold0 = [ '/content/data/'+ subjects[i] + '.tfrec' for i in range(12) if i>=2]\n",
        "all_tfrecs_fold0"
      ],
      "execution_count": null,
      "outputs": []
    },
    {
      "cell_type": "code",
      "metadata": {
        "colab": {
          "base_uri": "https://localhost:8080/"
        },
        "id": "c9_rBaQpz6Qi",
        "outputId": "a0305afc-138e-4702-b01e-a13ea66461b2"
      },
      "source": [
        "min_data, max_data, min_label, max_label = find_stats(all_tfrecs_fold0 )\n",
        "max_data = max_data.tolist()\n",
        "min_data = min_data.tolist()"
      ],
      "execution_count": null,
      "outputs": [
        {
          "output_type": "stream",
          "text": [
            "min data\n",
            "[-4275. -4252. -4251. -4234. -4252. -4202.]\n",
            "max data\n",
            "[4417. 4410. 4427. 4419. 4431. 4419.]\n",
            "std data\n",
            "[25.44579222 25.44752649 25.46093955 25.4553366  25.46962522 25.47624383]\n",
            "mean data\n",
            "[7.88879395e-05 2.57288615e-04 2.85212199e-04 9.93525187e-04\n",
            " 4.82228597e-04 5.84640503e-04]\n",
            "std label\n",
            "[1.6994076]\n",
            "mean label\n",
            "[-0.00667412]\n",
            "min label\n",
            "-49.99991\n",
            "max label\n",
            "49.99994\n"
          ],
          "name": "stdout"
        }
      ]
    },
    {
      "cell_type": "code",
      "metadata": {
        "colab": {
          "base_uri": "https://localhost:8080/"
        },
        "id": "Wt0bNMcwSlVi",
        "outputId": "eac38cdf-2f33-4c1e-9317-3f216ac5aabe"
      },
      "source": [
        "subjects"
      ],
      "execution_count": null,
      "outputs": [
        {
          "output_type": "execute_result",
          "data": {
            "text/plain": [
              "['tr05-1042',\n",
              " 'tr04-0332',\n",
              " 'tr03-0333',\n",
              " 'tr03-0532',\n",
              " 'tr03-0373',\n",
              " 'tr03-1183',\n",
              " 'tr06-1010',\n",
              " 'tr07-0605',\n",
              " 'tr05-0827',\n",
              " 'tr03-1129',\n",
              " 'tr06-0447',\n",
              " 'tr03-0100']"
            ]
          },
          "metadata": {
            "tags": []
          },
          "execution_count": 24
        }
      ]
    },
    {
      "cell_type": "code",
      "metadata": {
        "id": "C6HvO9dXaSG1"
      },
      "source": [
        "#def create_tfrecs(subjects_lists, save_path = '/content/data'):\n",
        "  # i = 0\n",
        "  # num_all = []\n",
        "  # with progressbar.ProgressBar(max_value=len(subjects_lists)) as bar:\n",
        "    # for rec in subjects_lists:\n",
        "      # labelURL = 'https://physionet.org/files/challenge-2018/1.0.0/training/' + rec + '/' + rec+ '.mat?download'\n",
        "      # urllib.request.urlretrieve(labelURL, '/content/data.mat')\n",
        "\n",
        "      # data = io.loadmat('/content/data.mat')\n",
        "      # data = data['val']\n",
        "      # data = data.astype(np.int16)\n",
        "      # number_of_arrays = data.shape[1]//256\n",
        "      # num_all.append(number_of_arrays)\n",
        "      # with tf.io.TFRecordWriter(os.path.join(save_path, rec + '.tfrec')) as writer:\n",
        "        # for j in range(number_of_arrays):\n",
        "          # sub_data = data[0:6,j*256:(j+1)*256]\n",
        "          # sub_data = sub_data.astype(np.int16)\n",
        "          # sub_data = sub_data.reshape(256,6)\n",
        "          # target = data[10,j*256:(j+1)*256]\n",
        "          # target = target.astype(np.int16)\n",
        "          # target = target.reshape(256,1)\n",
        "\n",
        "          # example = serialize_example(sub_data.tostring(), target.tostring())\n",
        "          # writer.write(example)\n",
        "      # i +=1\n",
        "      # bar.update(i)\n",
        "  # return num_all"
      ],
      "execution_count": null,
      "outputs": []
    },
    {
      "cell_type": "code",
      "metadata": {
        "id": "u6q9_yhFVCAo"
      },
      "source": [
        "#!rm -r /content/drive/MyDrive/eunet1d/fold0"
      ],
      "execution_count": null,
      "outputs": []
    },
    {
      "cell_type": "code",
      "metadata": {
        "id": "O4mH_xNKVFAc"
      },
      "source": [
        "#!rm -r /content/drive/MyDrive/eunet1d/fold1"
      ],
      "execution_count": null,
      "outputs": []
    },
    {
      "cell_type": "code",
      "metadata": {
        "id": "637FW5azVE55"
      },
      "source": [
        "#!rm -r /content/drive/MyDrive/eunet1d/fold2"
      ],
      "execution_count": null,
      "outputs": []
    },
    {
      "cell_type": "code",
      "metadata": {
        "id": "WZo8U4xPVEyG"
      },
      "source": [
        "#!rm -r /content/drive/MyDrive/eunet1d/fold3"
      ],
      "execution_count": null,
      "outputs": []
    },
    {
      "cell_type": "code",
      "metadata": {
        "id": "6_H54miYVEo8"
      },
      "source": [
        "#!rm -r /content/drive/MyDrive/eunet1d/fold4"
      ],
      "execution_count": null,
      "outputs": []
    },
    {
      "cell_type": "code",
      "metadata": {
        "id": "ZNEvyOvDVEkm"
      },
      "source": [
        "#!rm -r /content/drive/MyDrive/eunet1d/fold5"
      ],
      "execution_count": null,
      "outputs": []
    },
    {
      "cell_type": "code",
      "metadata": {
        "id": "fJV43HI-a705"
      },
      "source": [
        "def get_datasets(subjects, num_samples,\n",
        "                 min_data, max_data, min_label, max_label,\n",
        "                 path = '/content/data/', fold_number = 0, BATCH_SIZE = 64):\n",
        "  train_tfrecs = [os.path.join(path, subjects[i]+'.tfrec') for i in range(len(subjects)) if i!=2*fold_number and i!=(2*fold_number+1)]\n",
        "  indices = np.arange(len(train_tfrecs))\n",
        "  np.random.shuffle(indices)\n",
        "  indices = indices.tolist()\n",
        "  num_samples_val = num_samples[indices[0]] + num_samples[indices[1]]\n",
        "  val_tfrecs = [train_tfrecs[indices[0]],\n",
        "                train_tfrecs[indices[1]]]\n",
        "  train_tfrecs = [recs for recs in train_tfrecs if recs not in val_tfrecs]\n",
        "  num_samples_train = 0\n",
        "  for k in range(2, len(train_tfrecs)):\n",
        "    num_samples_train = num_samples_train + num_samples[k]\n",
        "\n",
        "  ds_train = tf.data.TFRecordDataset(train_tfrecs)\n",
        "  ds_train = ds_train.map(_parse_function, num_parallel_calls=tf.data.experimental.AUTOTUNE).shuffle(1000).prefetch(100)\n",
        "  ds_train  =  ds_train.map(preprocess)#.map(agment)\n",
        "  ds_train  = ds_train.map(Resize).map(normalize).batch(BATCH_SIZE,drop_remainder=True).repeat()\n",
        "\n",
        "\n",
        "  ds_val= tf.data.TFRecordDataset(val_tfrecs)\n",
        "  ds_val = ds_val.map(_parse_function, num_parallel_calls=tf.data.experimental.AUTOTUNE)\n",
        "  ds_val  =  ds_val.map(preprocess)\n",
        "  ds_val  = ds_val.map(Resize).map(normalize).batch(BATCH_SIZE,drop_remainder=True).repeat()\n",
        "\n",
        "  num_samples_test = num_samples[2*fold_number] + num_samples[2*fold_number+1]\n",
        "  ds_test= tf.data.TFRecordDataset([os.path.join(path, subjects[fold_number*2]+'.tfrec'),\n",
        "                                   os.path.join(path, subjects[fold_number*2+1]+'.tfrec')])\n",
        "\n",
        "  ds_test = ds_test.map(_parse_function, num_parallel_calls=tf.data.experimental.AUTOTUNE)\n",
        "  ds_test  =  ds_test.map(preprocess)\n",
        "  ds_test  = ds_test.map(Resize).map(normalize).batch(BATCH_SIZE,drop_remainder=True).repeat()\n",
        "\n",
        "  return ds_train, ds_val, ds_test, num_samples_train, num_samples_test, num_samples_val"
      ],
      "execution_count": null,
      "outputs": []
    },
    {
      "cell_type": "code",
      "metadata": {
        "id": "TbxodeACcpow"
      },
      "source": [
        "BATCH_SIZE = 64"
      ],
      "execution_count": null,
      "outputs": []
    },
    {
      "cell_type": "code",
      "metadata": {
        "id": "gc3NM_uEc9Oq",
        "colab": {
          "base_uri": "https://localhost:8080/"
        },
        "outputId": "36464238-343d-42c2-fd3b-6a8a5c6b3a12"
      },
      "source": [
        "fold_number = 0\n",
        "path= '/content/data'\n",
        "train_tfrecs = [os.path.join(path, subjects[i]+'.tfrec') for i in range(len(subjects)) if i!=2*fold_number and i!=(2*fold_number+1)]\n",
        "min_data, max_data, min_label, max_label = find_stats(train_tfrecs)\n",
        "max_data = max_data.tolist()\n",
        "min_data = min_data.tolist()\n",
        "\n",
        "a,b,c, d,e,f = get_datasets(subjects, num_samples,\n",
        "                            min_data, max_data, min_label, max_label,\n",
        "                            path = '/content/data/', fold_number = 0, BATCH_SIZE = BATCH_SIZE)"
      ],
      "execution_count": null,
      "outputs": [
        {
          "output_type": "stream",
          "text": [
            "min data\n",
            "[-4275. -4252. -4251. -4234. -4252. -4202.]\n",
            "max data\n",
            "[4417. 4410. 4427. 4419. 4431. 4419.]\n",
            "std data\n",
            "[26.44840025 26.45628394 26.46351025 26.45626756 26.50211073 26.50308111]\n",
            "mean data\n",
            "[0.00017578 0.00061197 0.00122442 0.00191732 0.00051162 0.00028695]\n",
            "std label\n",
            "[1.5336614]\n",
            "mean label\n",
            "[-0.00354299]\n",
            "min label\n",
            "-49.999886\n",
            "max label\n",
            "49.99994\n"
          ],
          "name": "stdout"
        }
      ]
    },
    {
      "cell_type": "code",
      "metadata": {
        "colab": {
          "base_uri": "https://localhost:8080/"
        },
        "id": "m8zYzj8QjOmr",
        "outputId": "a2a26608-437d-4406-91f1-2448fc446f75"
      },
      "source": [
        "data1, label = next(iter(a))\n",
        "data1.shape"
      ],
      "execution_count": null,
      "outputs": [
        {
          "output_type": "execute_result",
          "data": {
            "text/plain": [
              "TensorShape([64, 256, 6])"
            ]
          },
          "metadata": {
            "tags": []
          },
          "execution_count": 25
        }
      ]
    },
    {
      "cell_type": "code",
      "metadata": {
        "colab": {
          "base_uri": "https://localhost:8080/"
        },
        "id": "7oyYMN8WdCXf",
        "outputId": "a384b449-6fea-4c95-89b0-9fe73a298361"
      },
      "source": [
        "a = label.numpy()\n",
        "np.max(np.max(a, axis=1), axis=0)"
      ],
      "execution_count": null,
      "outputs": [
        {
          "output_type": "execute_result",
          "data": {
            "text/plain": [
              "array([0.56647784], dtype=float32)"
            ]
          },
          "metadata": {
            "tags": []
          },
          "execution_count": 26
        }
      ]
    },
    {
      "cell_type": "code",
      "metadata": {
        "id": "ZxLrQTQNdD5H",
        "colab": {
          "base_uri": "https://localhost:8080/"
        },
        "outputId": "0cfc345e-6a16-4314-f88d-03a9c1b7f1b1"
      },
      "source": [
        "c"
      ],
      "execution_count": null,
      "outputs": [
        {
          "output_type": "execute_result",
          "data": {
            "text/plain": [
              "<RepeatDataset shapes: ((64, 256, 6), (64, 256, 1)), types: (tf.float32, tf.float32)>"
            ]
          },
          "metadata": {
            "tags": []
          },
          "execution_count": 44
        }
      ]
    },
    {
      "cell_type": "code",
      "metadata": {
        "colab": {
          "base_uri": "https://localhost:8080/"
        },
        "id": "aL-RqF-jdFnM",
        "outputId": "2e4745d1-4a40-4e33-d0ff-6b3a67054b94"
      },
      "source": [
        "np.sum(num_samples)"
      ],
      "execution_count": null,
      "outputs": [
        {
          "output_type": "execute_result",
          "data": {
            "text/plain": [
              "204007"
            ]
          },
          "metadata": {
            "tags": []
          },
          "execution_count": 45
        }
      ]
    },
    {
      "cell_type": "code",
      "metadata": {
        "id": "QejbsphMdGYw"
      },
      "source": [
        "from tensorflow.keras.callbacks import ModelCheckpoint\n",
        "\n",
        "def train_one_fold(model, subjects, num_samples,\n",
        "                   min_data, max_data, min_label, max_label,\n",
        "                   path = '/content/data/', fold_number = 0, EPOCHS = 50):\n",
        "  ds_train, ds_val, ds_test, num_samples_train, num_samples_test, num_samples_val = get_datasets(subjects = subjects,\n",
        "                                                                                                 num_samples =num_samples,\n",
        "                                                                                                 min_data = min_data,\n",
        "                                                                                                 max_data = max_data,\n",
        "                                                                                                 min_label = min_label,\n",
        "                                                                                                 max_label = max_label,\n",
        "                                                                                                 path = path,\n",
        "                                                                                                 fold_number = fold_number,\n",
        "                                                                                                 BATCH_SIZE = BATCH_SIZE)\n",
        "\n",
        "  optimizer = tf.keras.optimizers.Adam(learning_rate=1e-6)\n",
        "  #lr_sc = tf.keras.optimizers.schedules.ExponentialDecay(1e-4, TRAIN_STEPS ,decay_rate=0.96)\n",
        "  #optimizer = tf.keras.optimizers.Adam(lr_sc,beta_1=0.9,beta_2=0.999)\n",
        "  model.compile(loss= 'mae',\n",
        "                optimizer = optimizer,\n",
        "                metrics=['mse', 'mean_squared_logarithmic_error'])\n",
        "\n",
        "  # checkpoint\n",
        "  if not os.path.isdir('/content/drive/MyDrive/eunet1d'):\n",
        "    os.mkdir('/content/drive/MyDrive/eunet1d')\n",
        "  if not os.path.isdir('/content/drive/MyDrive/eunet1d/fold_33' + str(fold_number)):\n",
        "    os.mkdir('/content/drive/MyDrive/eunet1d/fold_33'+str(fold_number))\n",
        "\n",
        "  filepath='/content/drive/MyDrive/eunet1d/fold_33' + str(fold_number)+ \"/saved_model\"\n",
        "  checkpoint = ModelCheckpoint(filepath, monitor='val_mse',\n",
        "                               save_weights_only=True,\n",
        "                               verbose=1, save_best_only=True,\n",
        "                               mode='min')\n",
        "  #callbacks_list = [ checkpoint,tf.keras.callbacks.EarlyStopping(monitor='val_loss',patience=3,) ]\n",
        "  callbacks_list = [ checkpoint]\n",
        "  TRAIN_STEPS = num_samples_train//BATCH_SIZE + 1\n",
        "  VAL_STEPS = num_samples_val//BATCH_SIZE\n",
        "  history = model.fit(ds_train,\n",
        "                      epochs= EPOCHS,\n",
        "                      validation_data = ds_val,\n",
        "                      steps_per_epoch= TRAIN_STEPS,\n",
        "                      validation_steps = VAL_STEPS,\n",
        "                      callbacks = callbacks_list)\n",
        "\n",
        "  return history, ds_test, num_samples_test"
      ],
      "execution_count": null,
      "outputs": []
    },
    {
      "cell_type": "code",
      "metadata": {
        "id": "zskC9xI2WTTP"
      },
      "source": [
        "del max_data\n",
        "del min_data\n",
        "del max_label\n",
        "del min_label\n",
        "del model"
      ],
      "execution_count": null,
      "outputs": []
    },
    {
      "cell_type": "code",
      "metadata": {
        "id": "s0iDwPrLVV4g"
      },
      "source": [
        "#!rm -r /content/drive/MyDrive/eunet1d/fold_0"
      ],
      "execution_count": null,
      "outputs": []
    },
    {
      "cell_type": "code",
      "metadata": {
        "colab": {
          "base_uri": "https://localhost:8080/",
          "height": 1000
        },
        "id": "w2n0OlwOpofN",
        "outputId": "a58a5400-8a7d-4f17-a492-e306b0d4c319"
      },
      "source": [
        "EPOCHS = 50\n",
        "load = True\n",
        "BATCH_SIZE = 128\n",
        "for f in range(3,6):\n",
        "  if not load:\n",
        "    model = eUNet1D(kernel_size = 50)\n",
        "  else:\n",
        "    model = eUNet1D(kernel_size = 50)\n",
        "    model.load_weights('/content/drive/MyDrive/eunet1d/fold_33/saved_model')\n",
        "    load = False\n",
        "  if f == 3 and True:\n",
        "    EPOCHS = 33\n",
        "  else:\n",
        "    EPOCHS = 50\n",
        "  path = '/content/data'\n",
        "  train_tfrecs = [os.path.join(path, subjects[i]+'.tfrec') for i in range(len(subjects)) if i!=2*f and i!=(2*f+1)]\n",
        "  min_data, max_data, min_label, max_label = find_stats(train_tfrecs)\n",
        "  max_data = max_data.tolist()\n",
        "  min_data = min_data.tolist()\n",
        "\n",
        "  history, ds_test, num_samples_test = train_one_fold(model,\n",
        "                                                      subjects,\n",
        "                                                      num_samples,\n",
        "                                                      min_data,\n",
        "                                                      max_data,\n",
        "                                                      min_label,\n",
        "                                                      max_label,\n",
        "                                                      path = '/content/data/',\n",
        "                                                      fold_number =f,\n",
        "                                                      EPOCHS = EPOCHS)"
      ],
      "execution_count": null,
      "outputs": [
        {
          "output_type": "stream",
          "text": [
            "min data\n",
            "[-4252. -4258. -4209. -4251. -4200. -4252.]\n",
            "max data\n",
            "[4387. 4380. 4389. 4385. 4393. 4388.]\n",
            "std data\n",
            "[25.39431661 25.39165189 25.39412934 25.40022884 25.4458338  25.44797304]\n",
            "mean data\n",
            "[0.00359504 0.00346752 0.00351701 0.0040886  0.00400072 0.00382402]\n",
            "std label\n",
            "[1.2886109]\n",
            "mean label\n",
            "[0.03133305]\n",
            "min label\n",
            "-33.999912\n",
            "max label\n",
            "40.99993\n",
            "Epoch 1/50\n",
            "677/677 [==============================] - 1290s 2s/step - loss: 0.0524 - mse: 0.0064 - mean_squared_logarithmic_error: 0.0029 - val_loss: 0.1146 - val_mse: 0.0221 - val_mean_squared_logarithmic_error: 0.0106\n",
            "\n",
            "Epoch 00001: val_mse improved from inf to 0.02211, saving model to /content/drive/MyDrive/eunet1d/fold_3/saved_model\n",
            "Epoch 2/50\n",
            "677/677 [==============================] - 1251s 2s/step - loss: 0.0368 - mse: 0.0027 - mean_squared_logarithmic_error: 0.0013 - val_loss: 0.1099 - val_mse: 0.0206 - val_mean_squared_logarithmic_error: 0.0099\n",
            "\n",
            "Epoch 00002: val_mse improved from 0.02211 to 0.02058, saving model to /content/drive/MyDrive/eunet1d/fold_3/saved_model\n",
            "Epoch 3/50\n",
            "677/677 [==============================] - 1253s 2s/step - loss: 0.0344 - mse: 0.0022 - mean_squared_logarithmic_error: 0.0011 - val_loss: 0.1071 - val_mse: 0.0198 - val_mean_squared_logarithmic_error: 0.0094\n",
            "\n",
            "Epoch 00003: val_mse improved from 0.02058 to 0.01980, saving model to /content/drive/MyDrive/eunet1d/fold_3/saved_model\n",
            "Epoch 4/50\n",
            "677/677 [==============================] - 1273s 2s/step - loss: 0.0309 - mse: 0.0020 - mean_squared_logarithmic_error: 9.4318e-04 - val_loss: 0.1060 - val_mse: 0.0195 - val_mean_squared_logarithmic_error: 0.0093\n",
            "\n",
            "Epoch 00004: val_mse improved from 0.01980 to 0.01949, saving model to /content/drive/MyDrive/eunet1d/fold_3/saved_model\n",
            "Epoch 5/50\n",
            "677/677 [==============================] - 1251s 2s/step - loss: 0.0353 - mse: 0.0024 - mean_squared_logarithmic_error: 0.0011 - val_loss: 0.1067 - val_mse: 0.0197 - val_mean_squared_logarithmic_error: 0.0094\n",
            "\n",
            "Epoch 00005: val_mse did not improve from 0.01949\n",
            "Epoch 6/50\n",
            "677/677 [==============================] - 1251s 2s/step - loss: 0.0277 - mse: 0.0016 - mean_squared_logarithmic_error: 7.5751e-04 - val_loss: 0.1057 - val_mse: 0.0194 - val_mean_squared_logarithmic_error: 0.0092\n",
            "\n",
            "Epoch 00006: val_mse improved from 0.01949 to 0.01939, saving model to /content/drive/MyDrive/eunet1d/fold_3/saved_model\n",
            "Epoch 7/50\n",
            "677/677 [==============================] - 1251s 2s/step - loss: 0.0366 - mse: 0.0026 - mean_squared_logarithmic_error: 0.0012 - val_loss: 0.1071 - val_mse: 0.0198 - val_mean_squared_logarithmic_error: 0.0094\n",
            "\n",
            "Epoch 00007: val_mse did not improve from 0.01939\n",
            "Epoch 8/50\n",
            "677/677 [==============================] - 1251s 2s/step - loss: 0.0258 - mse: 0.0013 - mean_squared_logarithmic_error: 6.4178e-04 - val_loss: 0.1054 - val_mse: 0.0193 - val_mean_squared_logarithmic_error: 0.0092\n",
            "\n",
            "Epoch 00008: val_mse improved from 0.01939 to 0.01931, saving model to /content/drive/MyDrive/eunet1d/fold_3/saved_model\n",
            "Epoch 9/50\n",
            "677/677 [==============================] - 1273s 2s/step - loss: 0.0375 - mse: 0.0027 - mean_squared_logarithmic_error: 0.0013 - val_loss: 0.1068 - val_mse: 0.0196 - val_mean_squared_logarithmic_error: 0.0094\n",
            "\n",
            "Epoch 00009: val_mse did not improve from 0.01931\n",
            "Epoch 10/50\n",
            "677/677 [==============================] - 1272s 2s/step - loss: 0.0242 - mse: 0.0011 - mean_squared_logarithmic_error: 5.4567e-04 - val_loss: 0.1053 - val_mse: 0.0193 - val_mean_squared_logarithmic_error: 0.0092\n",
            "\n",
            "Epoch 00010: val_mse improved from 0.01931 to 0.01927, saving model to /content/drive/MyDrive/eunet1d/fold_3/saved_model\n",
            "Epoch 11/50\n",
            "677/677 [==============================] - 1251s 2s/step - loss: 0.0384 - mse: 0.0028 - mean_squared_logarithmic_error: 0.0014 - val_loss: 0.1061 - val_mse: 0.0195 - val_mean_squared_logarithmic_error: 0.0093\n",
            "\n",
            "Epoch 00011: val_mse did not improve from 0.01927\n",
            "Epoch 12/50\n",
            "677/677 [==============================] - 1272s 2s/step - loss: 0.0235 - mse: 0.0011 - mean_squared_logarithmic_error: 5.0147e-04 - val_loss: 0.1056 - val_mse: 0.0193 - val_mean_squared_logarithmic_error: 0.0093\n",
            "\n",
            "Epoch 00012: val_mse did not improve from 0.01927\n",
            "Epoch 13/50\n",
            "677/677 [==============================] - 1250s 2s/step - loss: 0.0382 - mse: 0.0028 - mean_squared_logarithmic_error: 0.0013 - val_loss: 0.1057 - val_mse: 0.0194 - val_mean_squared_logarithmic_error: 0.0092\n",
            "\n",
            "Epoch 00013: val_mse did not improve from 0.01927\n",
            "Epoch 14/50\n",
            "677/677 [==============================] - 1272s 2s/step - loss: 0.0237 - mse: 0.0011 - mean_squared_logarithmic_error: 5.0897e-04 - val_loss: 0.1055 - val_mse: 0.0194 - val_mean_squared_logarithmic_error: 0.0092\n",
            "\n",
            "Epoch 00014: val_mse did not improve from 0.01927\n",
            "Epoch 15/50\n",
            "677/677 [==============================] - 1271s 2s/step - loss: 0.0376 - mse: 0.0028 - mean_squared_logarithmic_error: 0.0013 - val_loss: 0.1100 - val_mse: 0.0206 - val_mean_squared_logarithmic_error: 0.0097\n",
            "\n",
            "Epoch 00015: val_mse did not improve from 0.01927\n",
            "Epoch 16/50\n",
            "677/677 [==============================] - 1252s 2s/step - loss: 0.0241 - mse: 0.0011 - mean_squared_logarithmic_error: 5.2651e-04 - val_loss: 0.1057 - val_mse: 0.0193 - val_mean_squared_logarithmic_error: 0.0093\n",
            "\n",
            "Epoch 00016: val_mse did not improve from 0.01927\n",
            "Epoch 17/50\n",
            "677/677 [==============================] - 1273s 2s/step - loss: 0.0371 - mse: 0.0027 - mean_squared_logarithmic_error: 0.0013 - val_loss: 0.1080 - val_mse: 0.0201 - val_mean_squared_logarithmic_error: 0.0094\n",
            "\n",
            "Epoch 00017: val_mse did not improve from 0.01927\n",
            "Epoch 18/50\n",
            " 39/677 [>.............................] - ETA: 17:51 - loss: 0.0259 - mse: 0.0013 - mean_squared_logarithmic_error: 6.3830e-04"
          ],
          "name": "stdout"
        },
        {
          "output_type": "error",
          "ename": "KeyboardInterrupt",
          "evalue": "ignored",
          "traceback": [
            "\u001b[0;31m---------------------------------------------------------------------------\u001b[0m",
            "\u001b[0;31mKeyboardInterrupt\u001b[0m                         Traceback (most recent call last)",
            "\u001b[0;32m<ipython-input-26-922bb7f80b81>\u001b[0m in \u001b[0;36m<module>\u001b[0;34m()\u001b[0m\n\u001b[1;32m     28\u001b[0m                                                       \u001b[0mpath\u001b[0m \u001b[0;34m=\u001b[0m \u001b[0;34m'/content/data/'\u001b[0m\u001b[0;34m,\u001b[0m\u001b[0;34m\u001b[0m\u001b[0;34m\u001b[0m\u001b[0m\n\u001b[1;32m     29\u001b[0m                                                       \u001b[0mfold_number\u001b[0m \u001b[0;34m=\u001b[0m\u001b[0mf\u001b[0m\u001b[0;34m,\u001b[0m\u001b[0;34m\u001b[0m\u001b[0;34m\u001b[0m\u001b[0m\n\u001b[0;32m---> 30\u001b[0;31m                                                       EPOCHS = EPOCHS)\n\u001b[0m",
            "\u001b[0;32m<ipython-input-23-3b5c49dcdee0>\u001b[0m in \u001b[0;36mtrain_one_fold\u001b[0;34m(model, subjects, num_samples, min_data, max_data, min_label, max_label, path, fold_number, EPOCHS)\u001b[0m\n\u001b[1;32m     41\u001b[0m                       \u001b[0msteps_per_epoch\u001b[0m\u001b[0;34m=\u001b[0m \u001b[0mTRAIN_STEPS\u001b[0m\u001b[0;34m,\u001b[0m\u001b[0;34m\u001b[0m\u001b[0;34m\u001b[0m\u001b[0m\n\u001b[1;32m     42\u001b[0m                       \u001b[0mvalidation_steps\u001b[0m \u001b[0;34m=\u001b[0m \u001b[0mVAL_STEPS\u001b[0m\u001b[0;34m,\u001b[0m\u001b[0;34m\u001b[0m\u001b[0;34m\u001b[0m\u001b[0m\n\u001b[0;32m---> 43\u001b[0;31m                       callbacks = callbacks_list)\n\u001b[0m\u001b[1;32m     44\u001b[0m \u001b[0;34m\u001b[0m\u001b[0m\n\u001b[1;32m     45\u001b[0m   \u001b[0;32mreturn\u001b[0m \u001b[0mhistory\u001b[0m\u001b[0;34m,\u001b[0m \u001b[0mds_test\u001b[0m\u001b[0;34m,\u001b[0m \u001b[0mnum_samples_test\u001b[0m\u001b[0;34m\u001b[0m\u001b[0;34m\u001b[0m\u001b[0m\n",
            "\u001b[0;32m/usr/local/lib/python3.7/dist-packages/tensorflow/python/keras/engine/training.py\u001b[0m in \u001b[0;36mfit\u001b[0;34m(self, x, y, batch_size, epochs, verbose, callbacks, validation_split, validation_data, shuffle, class_weight, sample_weight, initial_epoch, steps_per_epoch, validation_steps, validation_batch_size, validation_freq, max_queue_size, workers, use_multiprocessing)\u001b[0m\n\u001b[1;32m   1186\u001b[0m               \u001b[0mlogs\u001b[0m \u001b[0;34m=\u001b[0m \u001b[0mtmp_logs\u001b[0m  \u001b[0;31m# No error, now safe to assign to logs.\u001b[0m\u001b[0;34m\u001b[0m\u001b[0;34m\u001b[0m\u001b[0m\n\u001b[1;32m   1187\u001b[0m               \u001b[0mend_step\u001b[0m \u001b[0;34m=\u001b[0m \u001b[0mstep\u001b[0m \u001b[0;34m+\u001b[0m \u001b[0mdata_handler\u001b[0m\u001b[0;34m.\u001b[0m\u001b[0mstep_increment\u001b[0m\u001b[0;34m\u001b[0m\u001b[0;34m\u001b[0m\u001b[0m\n\u001b[0;32m-> 1188\u001b[0;31m               \u001b[0mcallbacks\u001b[0m\u001b[0;34m.\u001b[0m\u001b[0mon_train_batch_end\u001b[0m\u001b[0;34m(\u001b[0m\u001b[0mend_step\u001b[0m\u001b[0;34m,\u001b[0m \u001b[0mlogs\u001b[0m\u001b[0;34m)\u001b[0m\u001b[0;34m\u001b[0m\u001b[0;34m\u001b[0m\u001b[0m\n\u001b[0m\u001b[1;32m   1189\u001b[0m               \u001b[0;32mif\u001b[0m \u001b[0mself\u001b[0m\u001b[0;34m.\u001b[0m\u001b[0mstop_training\u001b[0m\u001b[0;34m:\u001b[0m\u001b[0;34m\u001b[0m\u001b[0;34m\u001b[0m\u001b[0m\n\u001b[1;32m   1190\u001b[0m                 \u001b[0;32mbreak\u001b[0m\u001b[0;34m\u001b[0m\u001b[0;34m\u001b[0m\u001b[0m\n",
            "\u001b[0;32m/usr/local/lib/python3.7/dist-packages/tensorflow/python/keras/callbacks.py\u001b[0m in \u001b[0;36mon_train_batch_end\u001b[0;34m(self, batch, logs)\u001b[0m\n\u001b[1;32m    455\u001b[0m     \"\"\"\n\u001b[1;32m    456\u001b[0m     \u001b[0;32mif\u001b[0m \u001b[0mself\u001b[0m\u001b[0;34m.\u001b[0m\u001b[0m_should_call_train_batch_hooks\u001b[0m\u001b[0;34m:\u001b[0m\u001b[0;34m\u001b[0m\u001b[0;34m\u001b[0m\u001b[0m\n\u001b[0;32m--> 457\u001b[0;31m       \u001b[0mself\u001b[0m\u001b[0;34m.\u001b[0m\u001b[0m_call_batch_hook\u001b[0m\u001b[0;34m(\u001b[0m\u001b[0mModeKeys\u001b[0m\u001b[0;34m.\u001b[0m\u001b[0mTRAIN\u001b[0m\u001b[0;34m,\u001b[0m \u001b[0;34m'end'\u001b[0m\u001b[0;34m,\u001b[0m \u001b[0mbatch\u001b[0m\u001b[0;34m,\u001b[0m \u001b[0mlogs\u001b[0m\u001b[0;34m=\u001b[0m\u001b[0mlogs\u001b[0m\u001b[0;34m)\u001b[0m\u001b[0;34m\u001b[0m\u001b[0;34m\u001b[0m\u001b[0m\n\u001b[0m\u001b[1;32m    458\u001b[0m \u001b[0;34m\u001b[0m\u001b[0m\n\u001b[1;32m    459\u001b[0m   \u001b[0;32mdef\u001b[0m \u001b[0mon_test_batch_begin\u001b[0m\u001b[0;34m(\u001b[0m\u001b[0mself\u001b[0m\u001b[0;34m,\u001b[0m \u001b[0mbatch\u001b[0m\u001b[0;34m,\u001b[0m \u001b[0mlogs\u001b[0m\u001b[0;34m=\u001b[0m\u001b[0;32mNone\u001b[0m\u001b[0;34m)\u001b[0m\u001b[0;34m:\u001b[0m\u001b[0;34m\u001b[0m\u001b[0;34m\u001b[0m\u001b[0m\n",
            "\u001b[0;32m/usr/local/lib/python3.7/dist-packages/tensorflow/python/keras/callbacks.py\u001b[0m in \u001b[0;36m_call_batch_hook\u001b[0;34m(self, mode, hook, batch, logs)\u001b[0m\n\u001b[1;32m    315\u001b[0m       \u001b[0mself\u001b[0m\u001b[0;34m.\u001b[0m\u001b[0m_call_batch_begin_hook\u001b[0m\u001b[0;34m(\u001b[0m\u001b[0mmode\u001b[0m\u001b[0;34m,\u001b[0m \u001b[0mbatch\u001b[0m\u001b[0;34m,\u001b[0m \u001b[0mlogs\u001b[0m\u001b[0;34m)\u001b[0m\u001b[0;34m\u001b[0m\u001b[0;34m\u001b[0m\u001b[0m\n\u001b[1;32m    316\u001b[0m     \u001b[0;32melif\u001b[0m \u001b[0mhook\u001b[0m \u001b[0;34m==\u001b[0m \u001b[0;34m'end'\u001b[0m\u001b[0;34m:\u001b[0m\u001b[0;34m\u001b[0m\u001b[0;34m\u001b[0m\u001b[0m\n\u001b[0;32m--> 317\u001b[0;31m       \u001b[0mself\u001b[0m\u001b[0;34m.\u001b[0m\u001b[0m_call_batch_end_hook\u001b[0m\u001b[0;34m(\u001b[0m\u001b[0mmode\u001b[0m\u001b[0;34m,\u001b[0m \u001b[0mbatch\u001b[0m\u001b[0;34m,\u001b[0m \u001b[0mlogs\u001b[0m\u001b[0;34m)\u001b[0m\u001b[0;34m\u001b[0m\u001b[0;34m\u001b[0m\u001b[0m\n\u001b[0m\u001b[1;32m    318\u001b[0m     \u001b[0;32melse\u001b[0m\u001b[0;34m:\u001b[0m\u001b[0;34m\u001b[0m\u001b[0;34m\u001b[0m\u001b[0m\n\u001b[1;32m    319\u001b[0m       \u001b[0;32mraise\u001b[0m \u001b[0mValueError\u001b[0m\u001b[0;34m(\u001b[0m\u001b[0;34m'Unrecognized hook: {}'\u001b[0m\u001b[0;34m.\u001b[0m\u001b[0mformat\u001b[0m\u001b[0;34m(\u001b[0m\u001b[0mhook\u001b[0m\u001b[0;34m)\u001b[0m\u001b[0;34m)\u001b[0m\u001b[0;34m\u001b[0m\u001b[0;34m\u001b[0m\u001b[0m\n",
            "\u001b[0;32m/usr/local/lib/python3.7/dist-packages/tensorflow/python/keras/callbacks.py\u001b[0m in \u001b[0;36m_call_batch_end_hook\u001b[0;34m(self, mode, batch, logs)\u001b[0m\n\u001b[1;32m    335\u001b[0m       \u001b[0mself\u001b[0m\u001b[0;34m.\u001b[0m\u001b[0m_batch_times\u001b[0m\u001b[0;34m.\u001b[0m\u001b[0mappend\u001b[0m\u001b[0;34m(\u001b[0m\u001b[0mbatch_time\u001b[0m\u001b[0;34m)\u001b[0m\u001b[0;34m\u001b[0m\u001b[0;34m\u001b[0m\u001b[0m\n\u001b[1;32m    336\u001b[0m \u001b[0;34m\u001b[0m\u001b[0m\n\u001b[0;32m--> 337\u001b[0;31m     \u001b[0mself\u001b[0m\u001b[0;34m.\u001b[0m\u001b[0m_call_batch_hook_helper\u001b[0m\u001b[0;34m(\u001b[0m\u001b[0mhook_name\u001b[0m\u001b[0;34m,\u001b[0m \u001b[0mbatch\u001b[0m\u001b[0;34m,\u001b[0m \u001b[0mlogs\u001b[0m\u001b[0;34m)\u001b[0m\u001b[0;34m\u001b[0m\u001b[0;34m\u001b[0m\u001b[0m\n\u001b[0m\u001b[1;32m    338\u001b[0m \u001b[0;34m\u001b[0m\u001b[0m\n\u001b[1;32m    339\u001b[0m     \u001b[0;32mif\u001b[0m \u001b[0mlen\u001b[0m\u001b[0;34m(\u001b[0m\u001b[0mself\u001b[0m\u001b[0;34m.\u001b[0m\u001b[0m_batch_times\u001b[0m\u001b[0;34m)\u001b[0m \u001b[0;34m>=\u001b[0m \u001b[0mself\u001b[0m\u001b[0;34m.\u001b[0m\u001b[0m_num_batches_for_timing_check\u001b[0m\u001b[0;34m:\u001b[0m\u001b[0;34m\u001b[0m\u001b[0;34m\u001b[0m\u001b[0m\n",
            "\u001b[0;32m/usr/local/lib/python3.7/dist-packages/tensorflow/python/keras/callbacks.py\u001b[0m in \u001b[0;36m_call_batch_hook_helper\u001b[0;34m(self, hook_name, batch, logs)\u001b[0m\n\u001b[1;32m    373\u001b[0m     \u001b[0;32mfor\u001b[0m \u001b[0mcallback\u001b[0m \u001b[0;32min\u001b[0m \u001b[0mself\u001b[0m\u001b[0;34m.\u001b[0m\u001b[0mcallbacks\u001b[0m\u001b[0;34m:\u001b[0m\u001b[0;34m\u001b[0m\u001b[0;34m\u001b[0m\u001b[0m\n\u001b[1;32m    374\u001b[0m       \u001b[0mhook\u001b[0m \u001b[0;34m=\u001b[0m \u001b[0mgetattr\u001b[0m\u001b[0;34m(\u001b[0m\u001b[0mcallback\u001b[0m\u001b[0;34m,\u001b[0m \u001b[0mhook_name\u001b[0m\u001b[0;34m)\u001b[0m\u001b[0;34m\u001b[0m\u001b[0;34m\u001b[0m\u001b[0m\n\u001b[0;32m--> 375\u001b[0;31m       \u001b[0mhook\u001b[0m\u001b[0;34m(\u001b[0m\u001b[0mbatch\u001b[0m\u001b[0;34m,\u001b[0m \u001b[0mlogs\u001b[0m\u001b[0;34m)\u001b[0m\u001b[0;34m\u001b[0m\u001b[0;34m\u001b[0m\u001b[0m\n\u001b[0m\u001b[1;32m    376\u001b[0m \u001b[0;34m\u001b[0m\u001b[0m\n\u001b[1;32m    377\u001b[0m     \u001b[0;32mif\u001b[0m \u001b[0mself\u001b[0m\u001b[0;34m.\u001b[0m\u001b[0m_check_timing\u001b[0m\u001b[0;34m:\u001b[0m\u001b[0;34m\u001b[0m\u001b[0;34m\u001b[0m\u001b[0m\n",
            "\u001b[0;32m/usr/local/lib/python3.7/dist-packages/tensorflow/python/keras/callbacks.py\u001b[0m in \u001b[0;36mon_train_batch_end\u001b[0;34m(self, batch, logs)\u001b[0m\n\u001b[1;32m   1027\u001b[0m \u001b[0;34m\u001b[0m\u001b[0m\n\u001b[1;32m   1028\u001b[0m   \u001b[0;32mdef\u001b[0m \u001b[0mon_train_batch_end\u001b[0m\u001b[0;34m(\u001b[0m\u001b[0mself\u001b[0m\u001b[0;34m,\u001b[0m \u001b[0mbatch\u001b[0m\u001b[0;34m,\u001b[0m \u001b[0mlogs\u001b[0m\u001b[0;34m=\u001b[0m\u001b[0;32mNone\u001b[0m\u001b[0;34m)\u001b[0m\u001b[0;34m:\u001b[0m\u001b[0;34m\u001b[0m\u001b[0;34m\u001b[0m\u001b[0m\n\u001b[0;32m-> 1029\u001b[0;31m     \u001b[0mself\u001b[0m\u001b[0;34m.\u001b[0m\u001b[0m_batch_update_progbar\u001b[0m\u001b[0;34m(\u001b[0m\u001b[0mbatch\u001b[0m\u001b[0;34m,\u001b[0m \u001b[0mlogs\u001b[0m\u001b[0;34m)\u001b[0m\u001b[0;34m\u001b[0m\u001b[0;34m\u001b[0m\u001b[0m\n\u001b[0m\u001b[1;32m   1030\u001b[0m \u001b[0;34m\u001b[0m\u001b[0m\n\u001b[1;32m   1031\u001b[0m   \u001b[0;32mdef\u001b[0m \u001b[0mon_test_batch_end\u001b[0m\u001b[0;34m(\u001b[0m\u001b[0mself\u001b[0m\u001b[0;34m,\u001b[0m \u001b[0mbatch\u001b[0m\u001b[0;34m,\u001b[0m \u001b[0mlogs\u001b[0m\u001b[0;34m=\u001b[0m\u001b[0;32mNone\u001b[0m\u001b[0;34m)\u001b[0m\u001b[0;34m:\u001b[0m\u001b[0;34m\u001b[0m\u001b[0;34m\u001b[0m\u001b[0m\n",
            "\u001b[0;32m/usr/local/lib/python3.7/dist-packages/tensorflow/python/keras/callbacks.py\u001b[0m in \u001b[0;36m_batch_update_progbar\u001b[0;34m(self, batch, logs)\u001b[0m\n\u001b[1;32m   1099\u001b[0m     \u001b[0;32mif\u001b[0m \u001b[0mself\u001b[0m\u001b[0;34m.\u001b[0m\u001b[0mverbose\u001b[0m \u001b[0;34m==\u001b[0m \u001b[0;36m1\u001b[0m\u001b[0;34m:\u001b[0m\u001b[0;34m\u001b[0m\u001b[0;34m\u001b[0m\u001b[0m\n\u001b[1;32m   1100\u001b[0m       \u001b[0;31m# Only block async when verbose = 1.\u001b[0m\u001b[0;34m\u001b[0m\u001b[0;34m\u001b[0m\u001b[0;34m\u001b[0m\u001b[0m\n\u001b[0;32m-> 1101\u001b[0;31m       \u001b[0mlogs\u001b[0m \u001b[0;34m=\u001b[0m \u001b[0mtf_utils\u001b[0m\u001b[0;34m.\u001b[0m\u001b[0msync_to_numpy_or_python_type\u001b[0m\u001b[0;34m(\u001b[0m\u001b[0mlogs\u001b[0m\u001b[0;34m)\u001b[0m\u001b[0;34m\u001b[0m\u001b[0;34m\u001b[0m\u001b[0m\n\u001b[0m\u001b[1;32m   1102\u001b[0m       \u001b[0mself\u001b[0m\u001b[0;34m.\u001b[0m\u001b[0mprogbar\u001b[0m\u001b[0;34m.\u001b[0m\u001b[0mupdate\u001b[0m\u001b[0;34m(\u001b[0m\u001b[0mself\u001b[0m\u001b[0;34m.\u001b[0m\u001b[0mseen\u001b[0m\u001b[0;34m,\u001b[0m \u001b[0mlist\u001b[0m\u001b[0;34m(\u001b[0m\u001b[0mlogs\u001b[0m\u001b[0;34m.\u001b[0m\u001b[0mitems\u001b[0m\u001b[0;34m(\u001b[0m\u001b[0;34m)\u001b[0m\u001b[0;34m)\u001b[0m\u001b[0;34m,\u001b[0m \u001b[0mfinalize\u001b[0m\u001b[0;34m=\u001b[0m\u001b[0;32mFalse\u001b[0m\u001b[0;34m)\u001b[0m\u001b[0;34m\u001b[0m\u001b[0;34m\u001b[0m\u001b[0m\n\u001b[1;32m   1103\u001b[0m \u001b[0;34m\u001b[0m\u001b[0m\n",
            "\u001b[0;32m/usr/local/lib/python3.7/dist-packages/tensorflow/python/keras/utils/tf_utils.py\u001b[0m in \u001b[0;36msync_to_numpy_or_python_type\u001b[0;34m(tensors)\u001b[0m\n\u001b[1;32m    517\u001b[0m     \u001b[0;32mreturn\u001b[0m \u001b[0mt\u001b[0m  \u001b[0;31m# Don't turn ragged or sparse tensors to NumPy.\u001b[0m\u001b[0;34m\u001b[0m\u001b[0;34m\u001b[0m\u001b[0m\n\u001b[1;32m    518\u001b[0m \u001b[0;34m\u001b[0m\u001b[0m\n\u001b[0;32m--> 519\u001b[0;31m   \u001b[0;32mreturn\u001b[0m \u001b[0mnest\u001b[0m\u001b[0;34m.\u001b[0m\u001b[0mmap_structure\u001b[0m\u001b[0;34m(\u001b[0m\u001b[0m_to_single_numpy_or_python_type\u001b[0m\u001b[0;34m,\u001b[0m \u001b[0mtensors\u001b[0m\u001b[0;34m)\u001b[0m\u001b[0;34m\u001b[0m\u001b[0;34m\u001b[0m\u001b[0m\n\u001b[0m\u001b[1;32m    520\u001b[0m \u001b[0;34m\u001b[0m\u001b[0m\n\u001b[1;32m    521\u001b[0m \u001b[0;34m\u001b[0m\u001b[0m\n",
            "\u001b[0;32m/usr/local/lib/python3.7/dist-packages/tensorflow/python/util/nest.py\u001b[0m in \u001b[0;36mmap_structure\u001b[0;34m(func, *structure, **kwargs)\u001b[0m\n\u001b[1;32m    865\u001b[0m \u001b[0;34m\u001b[0m\u001b[0m\n\u001b[1;32m    866\u001b[0m   return pack_sequence_as(\n\u001b[0;32m--> 867\u001b[0;31m       \u001b[0mstructure\u001b[0m\u001b[0;34m[\u001b[0m\u001b[0;36m0\u001b[0m\u001b[0;34m]\u001b[0m\u001b[0;34m,\u001b[0m \u001b[0;34m[\u001b[0m\u001b[0mfunc\u001b[0m\u001b[0;34m(\u001b[0m\u001b[0;34m*\u001b[0m\u001b[0mx\u001b[0m\u001b[0;34m)\u001b[0m \u001b[0;32mfor\u001b[0m \u001b[0mx\u001b[0m \u001b[0;32min\u001b[0m \u001b[0mentries\u001b[0m\u001b[0;34m]\u001b[0m\u001b[0;34m,\u001b[0m\u001b[0;34m\u001b[0m\u001b[0;34m\u001b[0m\u001b[0m\n\u001b[0m\u001b[1;32m    868\u001b[0m       expand_composites=expand_composites)\n\u001b[1;32m    869\u001b[0m \u001b[0;34m\u001b[0m\u001b[0m\n",
            "\u001b[0;32m/usr/local/lib/python3.7/dist-packages/tensorflow/python/util/nest.py\u001b[0m in \u001b[0;36m<listcomp>\u001b[0;34m(.0)\u001b[0m\n\u001b[1;32m    865\u001b[0m \u001b[0;34m\u001b[0m\u001b[0m\n\u001b[1;32m    866\u001b[0m   return pack_sequence_as(\n\u001b[0;32m--> 867\u001b[0;31m       \u001b[0mstructure\u001b[0m\u001b[0;34m[\u001b[0m\u001b[0;36m0\u001b[0m\u001b[0;34m]\u001b[0m\u001b[0;34m,\u001b[0m \u001b[0;34m[\u001b[0m\u001b[0mfunc\u001b[0m\u001b[0;34m(\u001b[0m\u001b[0;34m*\u001b[0m\u001b[0mx\u001b[0m\u001b[0;34m)\u001b[0m \u001b[0;32mfor\u001b[0m \u001b[0mx\u001b[0m \u001b[0;32min\u001b[0m \u001b[0mentries\u001b[0m\u001b[0;34m]\u001b[0m\u001b[0;34m,\u001b[0m\u001b[0;34m\u001b[0m\u001b[0;34m\u001b[0m\u001b[0m\n\u001b[0m\u001b[1;32m    868\u001b[0m       expand_composites=expand_composites)\n\u001b[1;32m    869\u001b[0m \u001b[0;34m\u001b[0m\u001b[0m\n",
            "\u001b[0;32m/usr/local/lib/python3.7/dist-packages/tensorflow/python/keras/utils/tf_utils.py\u001b[0m in \u001b[0;36m_to_single_numpy_or_python_type\u001b[0;34m(t)\u001b[0m\n\u001b[1;32m    513\u001b[0m   \u001b[0;32mdef\u001b[0m \u001b[0m_to_single_numpy_or_python_type\u001b[0m\u001b[0;34m(\u001b[0m\u001b[0mt\u001b[0m\u001b[0;34m)\u001b[0m\u001b[0;34m:\u001b[0m\u001b[0;34m\u001b[0m\u001b[0;34m\u001b[0m\u001b[0m\n\u001b[1;32m    514\u001b[0m     \u001b[0;32mif\u001b[0m \u001b[0misinstance\u001b[0m\u001b[0;34m(\u001b[0m\u001b[0mt\u001b[0m\u001b[0;34m,\u001b[0m \u001b[0mops\u001b[0m\u001b[0;34m.\u001b[0m\u001b[0mTensor\u001b[0m\u001b[0;34m)\u001b[0m\u001b[0;34m:\u001b[0m\u001b[0;34m\u001b[0m\u001b[0;34m\u001b[0m\u001b[0m\n\u001b[0;32m--> 515\u001b[0;31m       \u001b[0mx\u001b[0m \u001b[0;34m=\u001b[0m \u001b[0mt\u001b[0m\u001b[0;34m.\u001b[0m\u001b[0mnumpy\u001b[0m\u001b[0;34m(\u001b[0m\u001b[0;34m)\u001b[0m\u001b[0;34m\u001b[0m\u001b[0;34m\u001b[0m\u001b[0m\n\u001b[0m\u001b[1;32m    516\u001b[0m       \u001b[0;32mreturn\u001b[0m \u001b[0mx\u001b[0m\u001b[0;34m.\u001b[0m\u001b[0mitem\u001b[0m\u001b[0;34m(\u001b[0m\u001b[0;34m)\u001b[0m \u001b[0;32mif\u001b[0m \u001b[0mnp\u001b[0m\u001b[0;34m.\u001b[0m\u001b[0mndim\u001b[0m\u001b[0;34m(\u001b[0m\u001b[0mx\u001b[0m\u001b[0;34m)\u001b[0m \u001b[0;34m==\u001b[0m \u001b[0;36m0\u001b[0m \u001b[0;32melse\u001b[0m \u001b[0mx\u001b[0m\u001b[0;34m\u001b[0m\u001b[0;34m\u001b[0m\u001b[0m\n\u001b[1;32m    517\u001b[0m     \u001b[0;32mreturn\u001b[0m \u001b[0mt\u001b[0m  \u001b[0;31m# Don't turn ragged or sparse tensors to NumPy.\u001b[0m\u001b[0;34m\u001b[0m\u001b[0;34m\u001b[0m\u001b[0m\n",
            "\u001b[0;32m/usr/local/lib/python3.7/dist-packages/tensorflow/python/framework/ops.py\u001b[0m in \u001b[0;36mnumpy\u001b[0;34m(self)\u001b[0m\n\u001b[1;32m   1092\u001b[0m     \"\"\"\n\u001b[1;32m   1093\u001b[0m     \u001b[0;31m# TODO(slebedev): Consider avoiding a copy for non-CPU or remote tensors.\u001b[0m\u001b[0;34m\u001b[0m\u001b[0;34m\u001b[0m\u001b[0;34m\u001b[0m\u001b[0m\n\u001b[0;32m-> 1094\u001b[0;31m     \u001b[0mmaybe_arr\u001b[0m \u001b[0;34m=\u001b[0m \u001b[0mself\u001b[0m\u001b[0;34m.\u001b[0m\u001b[0m_numpy\u001b[0m\u001b[0;34m(\u001b[0m\u001b[0;34m)\u001b[0m  \u001b[0;31m# pylint: disable=protected-access\u001b[0m\u001b[0;34m\u001b[0m\u001b[0;34m\u001b[0m\u001b[0m\n\u001b[0m\u001b[1;32m   1095\u001b[0m     \u001b[0;32mreturn\u001b[0m \u001b[0mmaybe_arr\u001b[0m\u001b[0;34m.\u001b[0m\u001b[0mcopy\u001b[0m\u001b[0;34m(\u001b[0m\u001b[0;34m)\u001b[0m \u001b[0;32mif\u001b[0m \u001b[0misinstance\u001b[0m\u001b[0;34m(\u001b[0m\u001b[0mmaybe_arr\u001b[0m\u001b[0;34m,\u001b[0m \u001b[0mnp\u001b[0m\u001b[0;34m.\u001b[0m\u001b[0mndarray\u001b[0m\u001b[0;34m)\u001b[0m \u001b[0;32melse\u001b[0m \u001b[0mmaybe_arr\u001b[0m\u001b[0;34m\u001b[0m\u001b[0;34m\u001b[0m\u001b[0m\n\u001b[1;32m   1096\u001b[0m \u001b[0;34m\u001b[0m\u001b[0m\n",
            "\u001b[0;32m/usr/local/lib/python3.7/dist-packages/tensorflow/python/framework/ops.py\u001b[0m in \u001b[0;36m_numpy\u001b[0;34m(self)\u001b[0m\n\u001b[1;32m   1058\u001b[0m   \u001b[0;32mdef\u001b[0m \u001b[0m_numpy\u001b[0m\u001b[0;34m(\u001b[0m\u001b[0mself\u001b[0m\u001b[0;34m)\u001b[0m\u001b[0;34m:\u001b[0m\u001b[0;34m\u001b[0m\u001b[0;34m\u001b[0m\u001b[0m\n\u001b[1;32m   1059\u001b[0m     \u001b[0;32mtry\u001b[0m\u001b[0;34m:\u001b[0m\u001b[0;34m\u001b[0m\u001b[0;34m\u001b[0m\u001b[0m\n\u001b[0;32m-> 1060\u001b[0;31m       \u001b[0;32mreturn\u001b[0m \u001b[0mself\u001b[0m\u001b[0;34m.\u001b[0m\u001b[0m_numpy_internal\u001b[0m\u001b[0;34m(\u001b[0m\u001b[0;34m)\u001b[0m\u001b[0;34m\u001b[0m\u001b[0;34m\u001b[0m\u001b[0m\n\u001b[0m\u001b[1;32m   1061\u001b[0m     \u001b[0;32mexcept\u001b[0m \u001b[0mcore\u001b[0m\u001b[0;34m.\u001b[0m\u001b[0m_NotOkStatusException\u001b[0m \u001b[0;32mas\u001b[0m \u001b[0me\u001b[0m\u001b[0;34m:\u001b[0m  \u001b[0;31m# pylint: disable=protected-access\u001b[0m\u001b[0;34m\u001b[0m\u001b[0;34m\u001b[0m\u001b[0m\n\u001b[1;32m   1062\u001b[0m       \u001b[0msix\u001b[0m\u001b[0;34m.\u001b[0m\u001b[0mraise_from\u001b[0m\u001b[0;34m(\u001b[0m\u001b[0mcore\u001b[0m\u001b[0;34m.\u001b[0m\u001b[0m_status_to_exception\u001b[0m\u001b[0;34m(\u001b[0m\u001b[0me\u001b[0m\u001b[0;34m.\u001b[0m\u001b[0mcode\u001b[0m\u001b[0;34m,\u001b[0m \u001b[0me\u001b[0m\u001b[0;34m.\u001b[0m\u001b[0mmessage\u001b[0m\u001b[0;34m)\u001b[0m\u001b[0;34m,\u001b[0m \u001b[0;32mNone\u001b[0m\u001b[0;34m)\u001b[0m  \u001b[0;31m# pylint: disable=protected-access\u001b[0m\u001b[0;34m\u001b[0m\u001b[0;34m\u001b[0m\u001b[0m\n",
            "\u001b[0;31mKeyboardInterrupt\u001b[0m: "
          ]
        }
      ]
    },
    {
      "cell_type": "markdown",
      "metadata": {
        "id": "SPHfsIeeEpSd"
      },
      "source": [
        "# prediction"
      ]
    },
    {
      "cell_type": "code",
      "metadata": {
        "id": "gqIjz_7-rI3K"
      },
      "source": [
        "def predict_one_fold(model, ds_test):\n",
        "  mse = tf.keras.metrics.MeanSquaredError()\n",
        "  mae = tf.keras.metrics.MeanAbsoluteError()\n",
        "  msle = tf.keras.metrics.MeanSquaredLogarithmicError()\n",
        "  predictions = np.array([], dtype=np.float32).reshape(0,1)\n",
        "  target = np.array([], dtype=np.float32).reshape(0,1)\n",
        "  signals = np.array([], dtype=np.float32).reshape(0,6)\n",
        "  for batch in ds_test:\n",
        "    data, label = batch\n",
        "    preds = model.predict(data)\n",
        "    data = data.numpy()\n",
        "    data = data.reshape(BATCH_SIZE*256, 6)\n",
        "    signals = np.concatenate((signals, data), axis=0)\n",
        "    mse.update_state(label, preds)\n",
        "    mae.update_state(label, preds)\n",
        "    msle.update_state(label, preds)\n",
        "    label = label.numpy()\n",
        "    target = np.vstack([target, label.reshape(-1, 1)])\n",
        "    predictions = np.vstack([predictions, preds.reshape(-1, 1)])\n",
        "  print('MSE:', mse.result().numpy())\n",
        "  print('MAE:', mae.result().numpy())\n",
        "  print('MSLE:', msle.result().numpy())\n",
        "  print('---------------------------------------')\n",
        "  return predictions, signals, target\n"
      ],
      "execution_count": null,
      "outputs": []
    },
    {
      "cell_type": "code",
      "metadata": {
        "id": "1I2Nq-5YCOp6"
      },
      "source": [
        "def get_test_dataset(sample_name, path = '/content/data'):\n",
        "  ds_test= tf.data.TFRecordDataset([os.path.join(path, sample_name+'.tfrec')])\n",
        "\n",
        "  ds_test = ds_test.map(_parse_function, num_parallel_calls=tf.data.experimental.AUTOTUNE)\n",
        "  ds_test  =  ds_test.map(preprocess)\n",
        "  ds_test  = ds_test.map(Resize).map(normalize).batch(BATCH_SIZE,drop_remainder=True)\n",
        "  return ds_test"
      ],
      "execution_count": null,
      "outputs": []
    },
    {
      "cell_type": "code",
      "metadata": {
        "colab": {
          "base_uri": "https://localhost:8080/"
        },
        "id": "IJTbEKd1P6D1",
        "outputId": "e569f233-ddd1-46fb-d4fe-c18c6a0e5091"
      },
      "source": [
        "path= '/content/data'\n",
        "f=4\n",
        "train_tfrecs = [os.path.join(path, subjects[i]+'.tfrec') for i in range(len(subjects)) if i!=2*f or i!=(2*f+1)]\n",
        "min_data, max_data, min_label, max_label = find_stats(train_tfrecs)\n",
        "max_data = max_data.tolist()\n",
        "min_data = min_data.tolist()"
      ],
      "execution_count": null,
      "outputs": [
        {
          "output_type": "stream",
          "text": [
            "min data\n",
            "[-4252. -4258. -4209. -4251. -4200. -4252.]\n",
            "max data\n",
            "[4387. 4380. 4389. 4385. 4393. 4388.]\n",
            "std data\n",
            "[25.50174839 25.49655818 25.48721858 25.49365985 25.53923994 25.5465007 ]\n",
            "mean data\n",
            "[0.00151198 0.00130537 0.00142522 0.00196848 0.00201236 0.00169828]\n",
            "std label\n",
            "[1.409408]\n",
            "mean label\n",
            "[0.09419065]\n",
            "min label\n",
            "-33.999958\n",
            "max label\n",
            "40.99993\n"
          ],
          "name": "stdout"
        }
      ]
    },
    {
      "cell_type": "code",
      "metadata": {
        "id": "Ni3xRw-WgzUc"
      },
      "source": [],
      "execution_count": null,
      "outputs": []
    },
    {
      "cell_type": "code",
      "metadata": {
        "id": "prvFjZE7D0ZT",
        "colab": {
          "base_uri": "https://localhost:8080/"
        },
        "outputId": "9643b7db-d353-4fc4-e1fe-8205965dba97"
      },
      "source": [
        "BATCH_SIZE = 128\n",
        "for f in range(1):\n",
        "  model = eUNet1D(kernel_size = 50)\n",
        "  model.load_weights('/content/drive/MyDrive/eunet1d/fold_00/saved_model')\n",
        "  ds_test = get_test_dataset(subjects[2*f], path = '/content/data')\n",
        "  preds, signals = predict_one_fold(model, ds_test)\n",
        "  io.savemat(subjects[2*f]+'.mat', {'predictions': preds})\n",
        "  io.savemat(subjects[2*f]+'_eeg.mat', {'eegs': signals})\n",
        "\n",
        "  ds_test = get_test_dataset(subjects[2*f+1], path = '/content/data')\n",
        "  preds, signals= predict_one_fold(model, ds_test)\n",
        "  io.savemat(subjects[2*f+1]+'.mat', {'predictions': preds})\n",
        "  io.savemat(subjects[2*f+1]+'_eeg.mat', {'eegs': signals})\n",
        ""
      ],
      "execution_count": null,
      "outputs": [
        {
          "output_type": "stream",
          "text": [
            "MSE: 0.0010678495\n",
            "MAE: 0.02558168\n",
            "MSLE: 0.0005083696\n",
            "---------------------------------------\n",
            "MSE: 0.0027442758\n",
            "MAE: 0.041652754\n",
            "MSLE: 0.0012997959\n",
            "---------------------------------------\n"
          ],
          "name": "stdout"
        }
      ]
    },
    {
      "cell_type": "code",
      "metadata": {
        "id": "DgkjJcXmFeJ5"
      },
      "source": [
        "scale = max_label - min_label\n",
        "offset = min_label"
      ],
      "execution_count": null,
      "outputs": []
    },
    {
      "cell_type": "code",
      "metadata": {
        "colab": {
          "base_uri": "https://localhost:8080/"
        },
        "id": "U7fYocQZJ9NU",
        "outputId": "b6ece55c-2a87-4967-85ae-50c280bfeba7"
      },
      "source": [
        "f = 4\n",
        "BATCH_SIZE = 128\n",
        "model = eUNet1D(kernel_size = 50)\n",
        "model.load_weights('/content/drive/MyDrive/eunet1d/fold_4/saved_model').expect_partial()\n",
        "a = get_test_dataset(subjects[0], path = '/content/data')\n",
        "preds, signals, target = predict_one_fold(model, a)"
      ],
      "execution_count": null,
      "outputs": [
        {
          "output_type": "stream",
          "text": [
            "MSE: 0.001049589\n",
            "MAE: 0.02537443\n",
            "MSLE: 0.00049965375\n",
            "---------------------------------------\n"
          ],
          "name": "stdout"
        }
      ]
    },
    {
      "cell_type": "code",
      "metadata": {
        "id": "eNK7lImdMNSh"
      },
      "source": [
        "a = get_test_dataset(subjects[2*f], path = '/content/data')\n",
        "target = np.array([], dtype=np.float32).reshape(0,1)\n",
        "for batch in a:\n",
        "  data, label = batch\n",
        "  label = label.numpy()\n",
        "  target = np.vstack([target, label.reshape(-1, 1)])"
      ],
      "execution_count": null,
      "outputs": []
    },
    {
      "cell_type": "code",
      "metadata": {
        "colab": {
          "base_uri": "https://localhost:8080/"
        },
        "id": "dKjPnx-CdZY7",
        "outputId": "0f986f8e-ab03-4997-cfa6-b3cdfa394faa"
      },
      "source": [
        "target.shape"
      ],
      "execution_count": null,
      "outputs": [
        {
          "output_type": "execute_result",
          "data": {
            "text/plain": [
              "(5406720, 1)"
            ]
          },
          "metadata": {
            "tags": []
          },
          "execution_count": 32
        }
      ]
    },
    {
      "cell_type": "code",
      "metadata": {
        "colab": {
          "base_uri": "https://localhost:8080/"
        },
        "id": "Wwjq_-Cmdcad",
        "outputId": "1d316c55-aa38-4c77-e2ed-f6e5c5cc558b"
      },
      "source": [
        "preds.shape"
      ],
      "execution_count": null,
      "outputs": [
        {
          "output_type": "execute_result",
          "data": {
            "text/plain": [
              "(5406720, 1)"
            ]
          },
          "metadata": {
            "tags": []
          },
          "execution_count": 33
        }
      ]
    },
    {
      "cell_type": "code",
      "metadata": {
        "colab": {
          "base_uri": "https://localhost:8080/"
        },
        "id": "ppH3ivh-n9gh",
        "outputId": "d8c7c868-ca61-4799-83ff-b79b982c2d3f"
      },
      "source": [
        "np.linalg.norm(target-preds, ord=2, axis = 0)/np.linalg.norm(target, ord=2, axis = 0)"
      ],
      "execution_count": null,
      "outputs": [
        {
          "output_type": "execute_result",
          "data": {
            "text/plain": [
              "array([0.10827047], dtype=float32)"
            ]
          },
          "metadata": {
            "tags": []
          },
          "execution_count": 39
        }
      ]
    },
    {
      "cell_type": "code",
      "metadata": {
        "id": "YPIgOaQ9hBQy",
        "colab": {
          "base_uri": "https://localhost:8080/"
        },
        "outputId": "d62c06d3-464a-44bc-9673-d3f769db232e"
      },
      "source": [
        "np.linalg.norm(target-preds, ord=2)/np.linalg.norm(target, ord=2)"
      ],
      "execution_count": null,
      "outputs": [
        {
          "output_type": "execute_result",
          "data": {
            "text/plain": [
              "0.07190952"
            ]
          },
          "metadata": {
            "tags": []
          },
          "execution_count": 44
        }
      ]
    },
    {
      "cell_type": "code",
      "metadata": {
        "id": "X1fVKOccf0BN",
        "colab": {
          "base_uri": "https://localhost:8080/"
        },
        "outputId": "f0226127-97b9-4200-b94b-68e47b6b4ed9"
      },
      "source": [
        "target.shape"
      ],
      "execution_count": null,
      "outputs": [
        {
          "output_type": "execute_result",
          "data": {
            "text/plain": [
              "(5406720, 1)"
            ]
          },
          "metadata": {
            "tags": []
          },
          "execution_count": 42
        }
      ]
    },
    {
      "cell_type": "code",
      "metadata": {
        "colab": {
          "base_uri": "https://localhost:8080/",
          "height": 544
        },
        "id": "xaH_Q_6Jdd1L",
        "outputId": "c74c0ceb-34de-44eb-8b73-73aa40966996"
      },
      "source": [
        "# plot loss\n",
        "plt.plot( target[1000000:1000000+1000,0],'')\n",
        "plt.title('real')\n",
        "plt.grid()\n",
        "plt.show()\n",
        "\n",
        "plt.plot(filt[1000000:1000000+1000],'-')\n",
        "plt.title('pred')\n",
        "plt.grid()\n",
        "plt.show()\n"
      ],
      "execution_count": null,
      "outputs": [
        {
          "output_type": "display_data",
          "data": {
            "image/png": "[encoded data removed]",
            "text/plain": [
              "<Figure size 432x288 with 1 Axes>"
            ]
          },
          "metadata": {
            "tags": [],
            "needs_background": "light"
          }
        },
        {
          "output_type": "display_data",
          "data": {
            "image/png": "[encoded data removed]",
            "text/plain": [
              "<Figure size 432x288 with 1 Axes>"
            ]
          },
          "metadata": {
            "tags": [],
            "needs_background": "light"
          }
        }
      ]
    },
    {
      "cell_type": "code",
      "metadata": {
        "id": "pgfQ9I_Dv_9F"
      },
      "source": [
        "from scipy.signal import savgol_filter\n",
        "filt = savgol_filter(preds.reshape(-1,), 199, 2)"
      ],
      "execution_count": null,
      "outputs": []
    },
    {
      "cell_type": "code",
      "metadata": {
        "id": "_2zn6m-nJp6U"
      },
      "source": [
        "label = label.numpy()"
      ],
      "execution_count": null,
      "outputs": []
    },
    {
      "cell_type": "code",
      "metadata": {
        "id": "9Dr46pMfJbk3"
      },
      "source": [
        "label[:20,:]"
      ],
      "execution_count": null,
      "outputs": []
    },
    {
      "cell_type": "code",
      "metadata": {
        "colab": {
          "base_uri": "https://localhost:8080/"
        },
        "id": "qyzpx_ycNCRj",
        "outputId": "ffc00c8c-081e-49ee-f8ad-df5d46ae096e"
      },
      "source": [
        "max(preds)"
      ],
      "execution_count": null,
      "outputs": [
        {
          "output_type": "execute_result",
          "data": {
            "text/plain": [
              "array([0.8613609], dtype=float32)"
            ]
          },
          "metadata": {
            "tags": []
          },
          "execution_count": 111
        }
      ]
    },
    {
      "cell_type": "code",
      "metadata": {
        "colab": {
          "base_uri": "https://localhost:8080/"
        },
        "id": "YPwsED38NEn1",
        "outputId": "37a42ad4-2e21-466f-c074-fd6578fed96e"
      },
      "source": [
        "max(label)"
      ],
      "execution_count": null,
      "outputs": [
        {
          "output_type": "execute_result",
          "data": {
            "text/plain": [
              "array([0.6442617], dtype=float32)"
            ]
          },
          "metadata": {
            "tags": []
          },
          "execution_count": 112
        }
      ]
    },
    {
      "cell_type": "code",
      "metadata": {
        "id": "IGE9paTRK1f2"
      },
      "source": [
        "preds[:20]"
      ],
      "execution_count": null,
      "outputs": []
    },
    {
      "cell_type": "code",
      "metadata": {
        "id": "CpSyeYdbJX2t"
      },
      "source": [
        "b = label*scale+ offset\n",
        "b[:20]"
      ],
      "execution_count": null,
      "outputs": []
    },
    {
      "cell_type": "code",
      "metadata": {
        "id": "U73Mhd4xLOnU"
      },
      "source": [
        "label[:20]"
      ],
      "execution_count": null,
      "outputs": []
    },
    {
      "cell_type": "code",
      "metadata": {
        "id": "Q2PfOlawFwrf"
      },
      "source": [
        "b = preds*scale+ offset\n",
        "b.astype(np.int32)[:20,:]"
      ],
      "execution_count": null,
      "outputs": []
    },
    {
      "cell_type": "code",
      "metadata": {
        "id": "Rxx7EX5BEuJx"
      },
      "source": [
        "scale =  tf.constant([5983.0]) + tf.constant([5815.0])\n",
        "offset = tf.constant([-5815.0])"
      ],
      "execution_count": null,
      "outputs": []
    }
  ]
}