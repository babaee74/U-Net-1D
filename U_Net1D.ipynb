{
  "nbformat": 4,
  "nbformat_minor": 0,
  "metadata": {
    "colab": {
      "provenance": []
    },
    "kernelspec": {
      "name": "python3",
      "display_name": "Python 3"
    },
    "language_info": {
      "name": "python"
    },
    "accelerator": "GPU"
  },
  "cells": [
    {
      "cell_type": "code",
      "metadata": {
        "id": "MecXqMy_bQ1T",
        "colab": {
          "base_uri": "https://localhost:8080/"
        },
        "outputId": "9ce0de9d-1a84-453f-85c3-c6b536720435"
      },
      "source": [
        "from google.colab import drive\n",
        "drive.mount('/content/drive')"
      ],
      "execution_count": null,
      "outputs": [
        {
          "output_type": "stream",
          "text": [
            "Mounted at /content/drive\n"
          ],
          "name": "stdout"
        }
      ]
    },
    {
      "cell_type": "code",
      "metadata": {
        "id": "apmdESuibSqB"
      },
      "source": [
        "import numpy as np\n",
        "import glob\n",
        "import os\n",
        "\n",
        "import tensorflow as tf\n",
        "import matplotlib.pyplot as plt\n",
        "from tensorflow.keras import models\n",
        "import urllib.request\n",
        "import scipy.io as io\n",
        "import h5py\n",
        "import progressbar"
      ],
      "execution_count": null,
      "outputs": []
    },
    {
      "cell_type": "code",
      "metadata": {
        "id": "WilptRgTbSmO"
      },
      "source": [
        "train_subjects= ['tr03-0333',\n",
        "                 'tr03-0373',\n",
        "                 'tr03-0532',\n",
        "                 'tr03-1183',\n",
        "                 'tr04-0332',\n",
        "                 'tr05-0827',\n",
        "                 'tr05-1042',\n",
        "                 'tr06-0447']"
      ],
      "execution_count": null,
      "outputs": []
    },
    {
      "cell_type": "code",
      "metadata": {
        "id": "LwAMJcnSaWxb"
      },
      "source": [
        "test_subjects = ['tr03-1129', 'tr06-1010']\n",
        "val_subjects = ['tr03-0100','tr07-0605']"
      ],
      "execution_count": null,
      "outputs": []
    },
    {
      "cell_type": "markdown",
      "metadata": {
        "id": "oOkNV3nFbrSr"
      },
      "source": [
        "# Data"
      ]
    },
    {
      "cell_type": "code",
      "metadata": {
        "colab": {
          "base_uri": "https://localhost:8080/"
        },
        "id": "wLFrwHYiQ35z",
        "outputId": "a147591f-ffee-4bf8-94c3-f9b1d245120e"
      },
      "source": [
        "labelURL = 'https://physionet.org/files/challenge-2018/1.0.0/training/' + 'tr03-0100' + '/' + 'tr03-0100'+ '.mat?download'\n",
        "urllib.request.urlretrieve(labelURL, '/content/data.mat')"
      ],
      "execution_count": null,
      "outputs": [
        {
          "output_type": "execute_result",
          "data": {
            "text/plain": [
              "('/content/data.mat', <http.client.HTTPMessage at 0x7f956bf34dd0>)"
            ]
          },
          "metadata": {
            "tags": []
          },
          "execution_count": 5
        }
      ]
    },
    {
      "cell_type": "code",
      "metadata": {
        "id": "B7ncGQ6UQ4nW",
        "colab": {
          "base_uri": "https://localhost:8080/"
        },
        "outputId": "4eed0d07-9e6f-4e8c-f154-a8711ea2b24c"
      },
      "source": [
        "data = io.loadmat('/content/data.mat')\n",
        "data = data['val']\n",
        "data"
      ],
      "execution_count": null,
      "outputs": [
        {
          "output_type": "execute_result",
          "data": {
            "text/plain": [
              "array([[     7,      3,     -2, ...,      0,      0,      0],\n",
              "       [    -6,     -6,     -5, ...,      0,      0,      0],\n",
              "       [     7,      3,      0, ...,      0,      0,      0],\n",
              "       ...,\n",
              "       [  -365,   -388,   -418, ...,  -1091,  -1091,  -1090],\n",
              "       [ 30496,  30496,  30496, ..., -32443, -32443, -32443],\n",
              "       [   183,    150,    210, ...,    -18,    -20,    -20]], dtype=int16)"
            ]
          },
          "metadata": {
            "tags": []
          },
          "execution_count": 47
        }
      ]
    },
    {
      "cell_type": "code",
      "metadata": {
        "id": "tSrcwux4bSid"
      },
      "source": [
        "def _bytes_feature(value):\n",
        "  \"\"\"Returns a bytes_list from a string / byte.\"\"\"\n",
        "  if isinstance(value, type(tf.constant(0))):\n",
        "    value = value.numpy() # BytesList won't unpack a string from an EagerTensor.\n",
        "  return tf.train.Feature(bytes_list=tf.train.BytesList(value=[value]))\n",
        "\n",
        "def _float_feature(value):\n",
        "  \"\"\"Returns a float_list from a float / double.\"\"\"\n",
        "  return tf.train.Feature(float_list=tf.train.FloatList(value=[value]))\n",
        "\n",
        "def _int64_feature(value):\n",
        "  \"\"\"Returns an int64_list from a bool / enum / int / uint.\"\"\"\n",
        "  return tf.train.Feature(int64_list=tf.train.Int64List(value=value))\n",
        "\n",
        "def serialize_example(data, target):\n",
        "  feature = {\n",
        "      'data': _bytes_feature(data),\n",
        "      'target': _bytes_feature(target)\n",
        "  }\n",
        "  example_proto = tf.train.Example(features=tf.train.Features(feature=feature))\n",
        "  return example_proto.SerializeToString()\n"
      ],
      "execution_count": null,
      "outputs": []
    },
    {
      "cell_type": "code",
      "metadata": {
        "id": "c6h0ynNUbSeb"
      },
      "source": [
        "!mkdir /content/data"
      ],
      "execution_count": null,
      "outputs": []
    },
    {
      "cell_type": "code",
      "metadata": {
        "id": "TfcBWTuwfE_S"
      },
      "source": [
        "#!rm -r /content/data/val"
      ],
      "execution_count": null,
      "outputs": []
    },
    {
      "cell_type": "code",
      "metadata": {
        "id": "jDnrRIG1bdYy"
      },
      "source": [
        "def create_tfrecs(subjects_lists, save_path = '/content/data'):\n",
        "  i = 0\n",
        "  num_all = 0\n",
        "  with progressbar.ProgressBar(max_value=len(subjects_lists)) as bar:\n",
        "    for rec in subjects_lists:\n",
        "      labelURL = 'https://physionet.org/files/challenge-2018/1.0.0/training/' + rec + '/' + rec+ '.mat?download'\n",
        "      urllib.request.urlretrieve(labelURL, '/content/data.mat')\n",
        "\n",
        "      data = io.loadmat('/content/data.mat')\n",
        "      data = data['val']\n",
        "      data = data.astype(np.int16)\n",
        "      number_of_arrays = data.shape[1]//256\n",
        "      num_all = num_all + number_of_arrays\n",
        "      with tf.io.TFRecordWriter(os.path.join(save_path, rec + '.tfrec')) as writer:\n",
        "        for j in range(number_of_arrays):\n",
        "          sub_data = data[0:6,j*256:(j+1)*256]\n",
        "          sub_data = sub_data.astype(np.int16)\n",
        "          sub_data = sub_data.reshape(256,6)\n",
        "          target = data[10,j*256:(j+1)*256]\n",
        "          target = target.astype(np.int16)\n",
        "          target = target.reshape(256,1)\n",
        "\n",
        "          example = serialize_example(sub_data.tostring(), target.tostring())\n",
        "          writer.write(example)\n",
        "      i +=1\n",
        "      bar.update(i)\n",
        "  return num_all"
      ],
      "execution_count": null,
      "outputs": []
    },
    {
      "cell_type": "code",
      "metadata": {
        "colab": {
          "base_uri": "https://localhost:8080/"
        },
        "id": "9s_f4a0HaF_r",
        "outputId": "6f0861e4-b4b5-46d1-d5c0-c652b379102b"
      },
      "source": [
        "save_path = '/content/data/train'\n",
        "if not os.path.isdir(save_path):\n",
        "  os.mkdir(save_path)\n",
        "num_train_samples = create_tfrecs(train_subjects, save_path = save_path)\n",
        "num_train_samples"
      ],
      "execution_count": null,
      "outputs": [
        {
          "output_type": "stream",
          "text": [
            "/usr/local/lib/python3.7/dist-packages/ipykernel_launcher.py:26: DeprecationWarning: tostring() is deprecated. Use tobytes() instead.\n",
            "100% (8 of 8) |##########################| Elapsed Time: 0:00:52 Time:  0:00:52\n"
          ],
          "name": "stderr"
        },
        {
          "output_type": "execute_result",
          "data": {
            "text/plain": [
              "165405"
            ]
          },
          "metadata": {
            "tags": []
          },
          "execution_count": 11
        }
      ]
    },
    {
      "cell_type": "code",
      "metadata": {
        "colab": {
          "base_uri": "https://localhost:8080/"
        },
        "id": "ueMJnLwYbZM9",
        "outputId": "35c775d0-46f1-4ec7-b7c9-22c00ef29b7f"
      },
      "source": [
        "save_path = '/content/data/test'\n",
        "if not os.path.isdir(save_path):\n",
        "  os.mkdir(save_path)\n",
        "num_test_samples = create_tfrecs(test_subjects, save_path = save_path)\n",
        "num_test_samples"
      ],
      "execution_count": null,
      "outputs": [
        {
          "output_type": "stream",
          "text": [
            "/usr/local/lib/python3.7/dist-packages/ipykernel_launcher.py:26: DeprecationWarning: tostring() is deprecated. Use tobytes() instead.\n",
            "100% (2 of 2) |##########################| Elapsed Time: 0:00:10 Time:  0:00:10\n"
          ],
          "name": "stderr"
        },
        {
          "output_type": "execute_result",
          "data": {
            "text/plain": [
              "48522"
            ]
          },
          "metadata": {
            "tags": []
          },
          "execution_count": 12
        }
      ]
    },
    {
      "cell_type": "code",
      "metadata": {
        "colab": {
          "base_uri": "https://localhost:8080/"
        },
        "id": "aI30rpQZb_5C",
        "outputId": "4736b735-00b3-4a8a-9702-88368ff75999"
      },
      "source": [
        "save_path = '/content/data/val'\n",
        "if not os.path.isdir(save_path):\n",
        "  os.mkdir(save_path)\n",
        "num_val_samples = create_tfrecs(val_subjects, save_path = save_path)\n",
        "num_val_samples"
      ],
      "execution_count": null,
      "outputs": [
        {
          "output_type": "stream",
          "text": [
            "/usr/local/lib/python3.7/dist-packages/ipykernel_launcher.py:26: DeprecationWarning: tostring() is deprecated. Use tobytes() instead.\n",
            "100% (2 of 2) |##########################| Elapsed Time: 0:00:12 Time:  0:00:12\n"
          ],
          "name": "stderr"
        },
        {
          "output_type": "execute_result",
          "data": {
            "text/plain": [
              "44048"
            ]
          },
          "metadata": {
            "tags": []
          },
          "execution_count": 13
        }
      ]
    },
    {
      "cell_type": "markdown",
      "metadata": {
        "id": "XVEW6_jNbt_z"
      },
      "source": [
        "# Generator"
      ]
    },
    {
      "cell_type": "code",
      "metadata": {
        "id": "9Yyc8r-fbtix"
      },
      "source": [
        "# Create a dictionary describing the features.\n",
        "feature_description = {\n",
        "    'data': tf.io.FixedLenFeature([], tf.string, ''),\n",
        "    'target': tf.io.FixedLenFeature([], tf.string, ''),\n",
        "  }\n",
        "\n",
        "def _parse_function(example_proto):\n",
        "  # Parse the input tf.train.Example proto using the dictionary above.\n",
        "  return tf.io.parse_single_example(example_proto, feature_description)\n",
        "\n",
        "def preprocess(features,effesionet=True):\n",
        "  data = features['data']\n",
        "  data = tf.io.decode_raw(data, tf.int16)\n",
        "  label = features['target']\n",
        "  label = tf.io.decode_raw(label, tf.int16)\n",
        "  return data, label\n",
        "\n",
        "\n",
        "def normalize(data ,label):\n",
        "  #standard\n",
        "  data = tf.cast(data, tf.float32)\n",
        "  scale = tf.constant([5895.0,5806.0,5776.0,5776.0,5953.0,6018.0]) - tf.constant([-4920.0,-4888.0,-4823.0,-4891.0,-5023.0,-4981.0])\n",
        "  offset = tf.constant([-4920.0,-4888.0,-4823.0,-4891.0,-5023.0,-4981.0])\n",
        "\n",
        "  data -= offset\n",
        "  data /= scale\n",
        "\n",
        "  label = tf.cast(label, tf.float32)\n",
        "  scale =  tf.constant([5983.0]) + tf.constant([5815.0])\n",
        "  offset = tf.constant([-5815.0])\n",
        "  label -= offset\n",
        "  label /= scale\n",
        "  return data , label\n",
        "\n",
        "@tf.function\n",
        "def augment(data,label):\n",
        "\n",
        "  return data , label\n",
        "\n",
        "def Resize(data,label):\n",
        "  data = tf.reshape(data, [256,6])\n",
        "  label = tf.reshape(label, [256,1])\n",
        "  return data , label\n"
      ],
      "execution_count": null,
      "outputs": []
    },
    {
      "cell_type": "code",
      "metadata": {
        "id": "8DoV6Gf1beUe"
      },
      "source": [
        "BATCH_SIZE = 256\n",
        "train_tfrecs = glob.glob(os.path.join('/content/data/train', '*.tfrec'))\n",
        "ds_train = tf.data.TFRecordDataset([train_tfrecs])\n",
        "ds_train = ds_train.map(_parse_function, num_parallel_calls=tf.data.experimental.AUTOTUNE).shuffle(1000).prefetch(100)\n",
        "ds_train  =  ds_train.map(preprocess)#.map(agment)\n",
        "ds_train  = ds_train.map(Resize).map(normalize).batch(BATCH_SIZE,drop_remainder=True).repeat()"
      ],
      "execution_count": null,
      "outputs": []
    },
    {
      "cell_type": "code",
      "metadata": {
        "id": "8OmPrQYebeRs"
      },
      "source": [
        "BATCH_SIZE = 256\n",
        "val_tfrecs = glob.glob(os.path.join('/content/data/val', '*.tfrec'))\n",
        "ds_val= tf.data.TFRecordDataset([val_tfrecs])\n",
        "ds_val = ds_val.map(_parse_function, num_parallel_calls=tf.data.experimental.AUTOTUNE)\n",
        "ds_val  =  ds_val.map(preprocess)\n",
        "ds_val  = ds_val.map(Resize).map(normalize).batch(BATCH_SIZE,drop_remainder=True).repeat()"
      ],
      "execution_count": null,
      "outputs": []
    },
    {
      "cell_type": "code",
      "metadata": {
        "id": "o-OetuMpbeOq",
        "colab": {
          "base_uri": "https://localhost:8080/"
        },
        "outputId": "ab6fe5b3-7d2e-4a22-8134-a5cabca2c311"
      },
      "source": [
        "data1, label = next(iter(ds_train))\n",
        "data1.shape"
      ],
      "execution_count": null,
      "outputs": [
        {
          "output_type": "execute_result",
          "data": {
            "text/plain": [
              "TensorShape([512, 256, 6])"
            ]
          },
          "metadata": {
            "tags": []
          },
          "execution_count": 17
        }
      ]
    },
    {
      "cell_type": "code",
      "metadata": {
        "colab": {
          "base_uri": "https://localhost:8080/"
        },
        "id": "omOKUtcPzUq1",
        "outputId": "ecf6b173-8f79-4ba6-ca7c-3060f7dce7fe"
      },
      "source": [
        "label.shape"
      ],
      "execution_count": null,
      "outputs": [
        {
          "output_type": "execute_result",
          "data": {
            "text/plain": [
              "TensorShape([512, 256, 1])"
            ]
          },
          "metadata": {
            "tags": []
          },
          "execution_count": 18
        }
      ]
    },
    {
      "cell_type": "code",
      "metadata": {
        "colab": {
          "base_uri": "https://localhost:8080/"
        },
        "id": "_SXC3M7Qmoih",
        "outputId": "451f395c-8d1c-49ca-f87c-699104f9ffcf"
      },
      "source": [
        "label.shape"
      ],
      "execution_count": null,
      "outputs": [
        {
          "output_type": "execute_result",
          "data": {
            "text/plain": [
              "TensorShape([512, 256, 1])"
            ]
          },
          "metadata": {
            "tags": []
          },
          "execution_count": 19
        }
      ]
    },
    {
      "cell_type": "code",
      "metadata": {
        "id": "TKyRoP8TbeLD",
        "colab": {
          "base_uri": "https://localhost:8080/"
        },
        "outputId": "70f05128-84a5-48bb-f8fc-ba3f8f539f8f"
      },
      "source": [
        "np.std(data1.numpy())"
      ],
      "execution_count": null,
      "outputs": [
        {
          "output_type": "execute_result",
          "data": {
            "text/plain": [
              "0.0026272633"
            ]
          },
          "metadata": {
            "tags": []
          },
          "execution_count": 20
        }
      ]
    },
    {
      "cell_type": "markdown",
      "metadata": {
        "id": "_DV_bXcZtIq_"
      },
      "source": [
        "## data Statistics"
      ]
    },
    {
      "cell_type": "code",
      "metadata": {
        "id": "I-bjSNu6tJm_"
      },
      "source": [
        "def find_stats(path_to_tfrecs = '/content/data/train'):\n",
        "  all_tfrecs = glob.glob(os.path.join(path_to_tfrecs, '*.tfrec'))\n",
        "  ds_stat= tf.data.TFRecordDataset(all_tfrecs)\n",
        "  ds_stat = ds_stat.map(_parse_function, num_parallel_calls=tf.data.experimental.AUTOTUNE).prefetch(100)\n",
        "  ds_stat  =  ds_stat.map(preprocess)\n",
        "  ds_stat  = ds_stat.map(Resize).batch(1024,drop_remainder=True)\n",
        "\n",
        "  mean_data = np.zeros((6,))\n",
        "  std_data = np.zeros((6,))\n",
        "  max_data = np.ones((6,))*-100000 # -inf\n",
        "  min_data = np.ones((6,))*(100000) #+inf\n",
        "\n",
        "  mean_label = 0\n",
        "  std_label = 0\n",
        "  max_label = -100000000000\n",
        "  min_label = 10000000000\n",
        "  k = 0\n",
        "  for i in ds_stat:\n",
        "    data1, label = i\n",
        "    mean_data = mean_data + np.mean(np.mean(data1.numpy(),axis=1),axis=0)\n",
        "    std_data = std_data + np.std(np.std(data1.numpy(),axis=1),axis=0)\n",
        "    mean_label = mean_label + np.mean(np.mean(label.numpy(),axis=1),axis=0)\n",
        "    std_label = std_label + np.std(np.std(label.numpy(),axis=1),axis=0)\n",
        "\n",
        "    data =np.max(np.max(data1,axis=1),axis=0)\n",
        "    max_data[np.where(max_data< data)] = data[np.where(max_data< data)]\n",
        "    data =np.min(np.min(data1,axis=1),axis=0)\n",
        "    min_data[np.where(min_data> data)] = data[np.where(min_data> data)]\n",
        "\n",
        "    if np.max(np.max(label,axis=1))>max_label:\n",
        "      max_label = np.max(np.max(label,axis=1))\n",
        "    if np.min(np.min(label))<min_label:\n",
        "      min_label = np.min(np.min(label))\n",
        "\n",
        "    k = k+1\n",
        "  std_data = std_data/k\n",
        "  mean_data = mean_data/k\n",
        "  mean_label = mean_label/k\n",
        "  std_label = std_label/k\n",
        "  print('min data')\n",
        "  print(min_data)\n",
        "  print('max data')\n",
        "  print(max_data)\n",
        "  print('std data')\n",
        "  print(std_data)\n",
        "  print('mean data')\n",
        "  print(mean_data)\n",
        "\n",
        "  print('std label')\n",
        "  print(std_label)\n",
        "  print('mean label')\n",
        "  print(mean_label)\n",
        "  print('min label')\n",
        "  print(min_label)\n",
        "  print('max label')\n",
        "  print(max_label)\n",
        "  del ds_stat"
      ],
      "execution_count": null,
      "outputs": []
    },
    {
      "cell_type": "code",
      "metadata": {
        "colab": {
          "base_uri": "https://localhost:8080/"
        },
        "id": "mSIGrfiTvYU2",
        "outputId": "2c770061-5237-402c-9c27-ca158b5e1938"
      },
      "source": [
        "find_stats(path_to_tfrecs = '/content/data/train')"
      ],
      "execution_count": null,
      "outputs": [
        {
          "output_type": "stream",
          "text": [
            "min data\n",
            "[-4920. -4888. -4823. -4891. -5023. -4981.]\n",
            "max data\n",
            "[5895. 5806. 5776. 5776. 5953. 6018.]\n",
            "std data\n",
            "[32.14767588 32.16229526 32.16266134 32.14734267 32.15284611 32.14887678]\n",
            "mean data\n",
            "[-1.16639700e-03  2.69872061e-05  1.02086985e-03  8.04948511e-04\n",
            " -1.13903069e-03 -2.18965992e-03]\n",
            "std label\n",
            "[26.33745199 26.33745199 26.33745199 26.33745199 26.33745199 26.33745199]\n",
            "mean label\n",
            "[-0.04896538 -0.04896538 -0.04896538 -0.04896538 -0.04896538 -0.04896538]\n",
            "min label\n",
            "-5815\n",
            "max label\n",
            "5983\n"
          ],
          "name": "stdout"
        }
      ]
    },
    {
      "cell_type": "code",
      "metadata": {
        "colab": {
          "base_uri": "https://localhost:8080/"
        },
        "id": "L2TepAbsvX87",
        "outputId": "0ba72638-e20c-4937-c8c9-a0ba07fda962"
      },
      "source": [
        "find_stats(path_to_tfrecs = '/content/data/test')"
      ],
      "execution_count": null,
      "outputs": [
        {
          "output_type": "stream",
          "text": [
            "std data\n",
            "[33.45443841 33.44310772 33.47373585 33.46568839 33.50312653 33.5066234 ]\n",
            "mean data\n",
            "[-5.34057617e-04 -4.46725399e-04 -1.33027422e-04 -1.65574094e-05\n",
            "  2.83748546e-04  2.84397856e-04]\n",
            "std label\n",
            "[122.25492895 122.25492895 122.25492895 122.25492895 122.25492895\n",
            " 122.25492895]\n",
            "mean label\n",
            "[0.00411184 0.00411184 0.00411184 0.00411184 0.00411184 0.00411184]\n"
          ],
          "name": "stdout"
        }
      ]
    },
    {
      "cell_type": "code",
      "metadata": {
        "colab": {
          "base_uri": "https://localhost:8080/"
        },
        "id": "XiPMImU2vXjD",
        "outputId": "4a09f28d-2ca0-494f-c508-07714a949712"
      },
      "source": [
        "find_stats(path_to_tfrecs = '/content/data/val')"
      ],
      "execution_count": null,
      "outputs": [
        {
          "output_type": "stream",
          "text": [
            "std data\n",
            "[24.16726437 24.15298652 24.13948546 24.13555023 24.19395974 24.21279692]\n",
            "mean data\n",
            "[-2.30212544e-04  5.72204590e-05  1.14352204e-04 -9.73191372e-05\n",
            "  6.24545785e-05  1.77427780e-06]\n",
            "std label\n",
            "[125.25283794 125.25283794 125.25283794 125.25283794 125.25283794\n",
            " 125.25283794]\n",
            "mean label\n",
            "[0.49395113 0.49395113 0.49395113 0.49395113 0.49395113 0.49395113]\n"
          ],
          "name": "stdout"
        }
      ]
    },
    {
      "cell_type": "markdown",
      "metadata": {
        "id": "nz2sccwdb__D"
      },
      "source": [
        "# model"
      ]
    },
    {
      "cell_type": "code",
      "metadata": {
        "id": "a5H7acQsb_zy"
      },
      "source": [
        "from tensorflow.keras.activations import selu, relu\n",
        "\n",
        "class BB (tf.keras.layers.Layer):\n",
        "  def __init__(self,\n",
        "               filters = 64,\n",
        "               kernel_size = 9):\n",
        "    super(BB, self).__init__()\n",
        "\n",
        "    self.filters = filters\n",
        "    self.kernel_size = kernel_size\n",
        "\n",
        "    self.conv1 = tf.keras.layers.Conv1D(filters, kernel_size, activation=None, padding='same')\n",
        "\n",
        "    self.bn1 = tf.keras.layers.BatchNormalization()\n",
        "    self.bn2 = tf.keras.layers.BatchNormalization()\n",
        "    self.bn3 = tf.keras.layers.BatchNormalization()\n",
        "    self.conv2 = tf.keras.layers.Conv1D(filters, kernel_size, activation=None, padding='same')\n",
        "\n",
        "\n",
        "  def call(self, z, training = True):\n",
        "    x = self.conv1(z)\n",
        "    x = self.bn1(x, training = training)\n",
        "    x = selu(x)\n",
        "\n",
        "    x = self.conv2(x)\n",
        "    x = self.bn2(x, training = training)\n",
        "    x = selu(x)\n",
        "    x = tf.keras.layers.Add()([x, z])\n",
        "\n",
        "    x = self.bn3(x, training = training)\n",
        "    x = selu(x)\n",
        "    return x"
      ],
      "execution_count": null,
      "outputs": []
    },
    {
      "cell_type": "code",
      "metadata": {
        "id": "6yzrZV3iTRdJ"
      },
      "source": [
        "def tf_max_pool_with_masks(x,\n",
        "                           ksize = [1,1,2,1],\n",
        "                           strides = [1,1,2,1],\n",
        "                           padding = \"VALID\",\n",
        "                           data_format='NHWC',\n",
        "                           output_dtype=tf.dtypes.int64,\n",
        "                           include_batch_in_index=True):\n",
        "  \"\"\"\n",
        "    x = input tensor of size BTC, B=Batch, T:Time step, C:Channel\n",
        "    ksize: kernel size for each dim\n",
        "    strides: strides of each dim\n",
        "    data_format:channel last or not\n",
        "    output_dtype: int64 or int32\n",
        "    include_batch_in_index:An optional boolean. Defaults to True. Whether to include batch dimension in flattened index of argmax.\n",
        "  \"\"\"\n",
        "  input = tf.reshape(x, shape=(x.shape[0], 1, x.shape[1],x.shape[2]))\n",
        "  output, argmax = tf.nn.max_pool_with_argmax(input,\n",
        "                                              ksize = ksize,\n",
        "                                              strides = strides,\n",
        "                                              padding = \"VALID\",\n",
        "                                              data_format='NHWC',\n",
        "                                              output_dtype=tf.dtypes.int64,\n",
        "                                              include_batch_in_index=True\n",
        "                                              )\n",
        "\n",
        "  #a = tf.reshape(output, shape=(-1,1))\n",
        "  indices = tf.reshape(argmax, shape=(-1,1))\n",
        "  input_flatten = tf.reshape(input, shape=(-1,1))\n",
        "  tensor = tf.zeros_like(input_flatten, dtype=tf.float32)\n",
        "  updates = tf.ones_like(indices, dtype=tf.float32)\n",
        "  mask = tf.tensor_scatter_nd_update(tensor, indices, updates)\n",
        "  mask = tf.reshape(mask, shape=x.get_shape().as_list())\n",
        "  output = tf.reshape(output, shape=(output.shape[0],output.shape[2],output.shape[3]))\n",
        "  return output, mask"
      ],
      "execution_count": null,
      "outputs": []
    },
    {
      "cell_type": "code",
      "metadata": {
        "id": "cBHE3f_nXa1e"
      },
      "source": [
        "x = tf.constant(1.0, dtype=tf.float32, shape=(16,16,512))*np.random.rand()"
      ],
      "execution_count": null,
      "outputs": []
    },
    {
      "cell_type": "code",
      "metadata": {
        "id": "TMWV6UJ_XazB"
      },
      "source": [
        "a,b = tf_max_pool_with_masks(x)"
      ],
      "execution_count": null,
      "outputs": []
    },
    {
      "cell_type": "code",
      "metadata": {
        "id": "9SpnwzKnXawF",
        "colab": {
          "base_uri": "https://localhost:8080/"
        },
        "outputId": "5cd7da08-96ac-43d1-81c6-42ecf82a3ae4"
      },
      "source": [
        "a.shape"
      ],
      "execution_count": null,
      "outputs": [
        {
          "output_type": "execute_result",
          "data": {
            "text/plain": [
              "TensorShape([16, 8, 512])"
            ]
          },
          "metadata": {
            "tags": []
          },
          "execution_count": 25
        }
      ]
    },
    {
      "cell_type": "code",
      "metadata": {
        "id": "dNMWh1E0XatJ",
        "colab": {
          "base_uri": "https://localhost:8080/"
        },
        "outputId": "e53c80bd-bfe1-4d2d-f458-60c0980f7647"
      },
      "source": [
        "b.shape"
      ],
      "execution_count": null,
      "outputs": [
        {
          "output_type": "execute_result",
          "data": {
            "text/plain": [
              "TensorShape([16, 16, 512])"
            ]
          },
          "metadata": {
            "tags": []
          },
          "execution_count": 26
        }
      ]
    },
    {
      "cell_type": "code",
      "metadata": {
        "id": "qQdqZNnBb_wF"
      },
      "source": [
        "from tensorflow import keras\n",
        "\n",
        "class eUNet1D (keras.Model):\n",
        "  def __init__(self,\n",
        "               kernel_size = 9,\n",
        "               strides = 2):\n",
        "    super(eUNet1D, self).__init__()\n",
        "    self.kernel_size        = kernel_size\n",
        "    self.strides            = strides\n",
        "    self.conv1_0 = tf.keras.layers.Conv1D(64, kernel_size, activation='selu', padding='same')\n",
        "    self.bb1_1 = BB(filters = 64, kernel_size = self.kernel_size)\n",
        "    self.bb1_2 = BB(filters = 64, kernel_size = self.kernel_size)\n",
        "\n",
        "    #self.down2 = tf.keras.layers.MaxPool1D(pool_size=2, strides=self.strides, padding='valid')\n",
        "    self.conv2_0 = tf.keras.layers.Conv1D(128, kernel_size, activation='selu', padding='same')\n",
        "    self.bb2_1 = BB(filters = 128, kernel_size = self.kernel_size)\n",
        "    self.bb2_2 = BB(filters = 128, kernel_size = self.kernel_size)\n",
        "\n",
        "    #self.down3 = tf.keras.layers.MaxPool1D(pool_size=2, strides=self.strides, padding='valid')\n",
        "    self.conv3_0 = tf.keras.layers.Conv1D(256, kernel_size, activation='selu', padding='same')\n",
        "    self.bb3_1 = BB(filters = 256, kernel_size = self.kernel_size)\n",
        "    self.bb3_2 = BB(filters = 256, kernel_size = self.kernel_size)\n",
        "    self.bb3_3 = BB(filters = 256, kernel_size = self.kernel_size)\n",
        "\n",
        "    #self.down4 = tf.keras.layers.MaxPool1D(pool_size=2, strides=self.strides, padding='valid')\n",
        "    self.conv4_0 = tf.keras.layers.Conv1D(512, kernel_size, activation='selu', padding='same')\n",
        "    self.bb4_1 = BB(filters = 512, kernel_size = self.kernel_size)\n",
        "    self.bb4_2 = BB(filters = 512, kernel_size = self.kernel_size)\n",
        "    self.bb4_3 = BB(filters = 512, kernel_size = self.kernel_size)\n",
        "\n",
        "    #self.down5 = tf.keras.layers.MaxPool1D(pool_size=2, strides=self.strides, padding='valid')\n",
        "    self.bb5_1 = BB(filters = 512, kernel_size = self.kernel_size)\n",
        "    self.bb5_2 = BB(filters = 512, kernel_size = self.kernel_size)\n",
        "    self.bb5_3 = BB(filters = 512, kernel_size = self.kernel_size)\n",
        "\n",
        "    self.bb5_1_ = BB(filters = 512, kernel_size = self.kernel_size)\n",
        "    self.bb5_2_ = BB(filters = 512, kernel_size = self.kernel_size)\n",
        "    self.bb5_3_ = BB(filters = 512, kernel_size = self.kernel_size)\n",
        "    self.up5 =  tf.keras.layers.Conv1DTranspose(filters = 512, kernel_size = 2, strides=self.strides, padding='valid')\n",
        "\n",
        "    self.conv4_0_ = tf.keras.layers.Conv1D(256, kernel_size, activation='selu', padding='same')\n",
        "    self.bb4_1_ = BB(filters = 256, kernel_size = self.kernel_size)\n",
        "    self.bb4_2_ = BB(filters = 256, kernel_size = self.kernel_size)\n",
        "    self.bb4_3_ = BB(filters = 256, kernel_size = self.kernel_size)\n",
        "    self.up4 =  tf.keras.layers.Conv1DTranspose(filters = 256, kernel_size = 2, strides=self.strides, padding='valid')\n",
        "\n",
        "    self.conv3_0_ = tf.keras.layers.Conv1D(128, kernel_size, activation='selu', padding='same')\n",
        "    self.bb3_1_ = BB(filters = 128, kernel_size = self.kernel_size)\n",
        "    self.bb3_2_ = BB(filters = 128, kernel_size = self.kernel_size)\n",
        "    self.bb3_3_ = BB(filters = 128, kernel_size = self.kernel_size)\n",
        "    self.up3 =  tf.keras.layers.Conv1DTranspose(filters = 128, kernel_size = 2, strides=self.strides, padding='valid')\n",
        "\n",
        "    self.conv2_0_ = tf.keras.layers.Conv1D(64, kernel_size, activation='selu', padding='same')\n",
        "    self.bb2_1_ = BB(filters = 64, kernel_size = self.kernel_size)\n",
        "    self.bb2_2_ = BB(filters = 64, kernel_size = self.kernel_size)\n",
        "    self.up2 =  tf.keras.layers.Conv1DTranspose(filters = 64, kernel_size = 2, strides=self.strides, padding='valid')\n",
        "\n",
        "    self.bb1_1_ = BB(filters = 64, kernel_size = self.kernel_size)\n",
        "    self.bb1_2_ = BB(filters = 64, kernel_size = self.kernel_size)\n",
        "    #self.up1 =  tf.keras.layers.Conv1DTranspose(filters = 64, kernel_size = 2, strides=self.strides, padding='same')\n",
        "    self.conv_out = tf.keras.layers.Conv1D(1, 1, activation='relu')\n",
        "\n",
        "\n",
        "\n",
        "  def call(self, z, training = True):\n",
        "    \"\"\"\n",
        "      z: (btach, time steps, channels)--> input\n",
        "    \"\"\"\n",
        "    #######################################\n",
        "    ############ Row 1 ####################\n",
        "    #######################################\n",
        "    x = self.conv1_0(z)#(None, 256, 64)\n",
        "    x = self.bb1_1(x) #(None, 256, 64)\n",
        "    x1 = self.bb1_2(x) #(None, 256, 64)\n",
        "\n",
        "    #######################################\n",
        "    ############ Row 2 ####################\n",
        "    #######################################\n",
        "    x, mask2 = tf_max_pool_with_masks(x1) #(None, 128, 64)\n",
        "    x = self.conv2_0(x)\n",
        "    x = self.bb2_1(x) #(None, 128, 128)\n",
        "    x2 = self.bb2_2(x) #(None, 128, 128)\n",
        "\n",
        "    #######################################\n",
        "    ############ Row 3 ####################\n",
        "    #######################################\n",
        "    x, mask3 = tf_max_pool_with_masks(x2) #(None, 64, 128)\n",
        "    x = self.conv3_0(x)\n",
        "    x = self.bb3_1(x) #(None, 64, 256)\n",
        "    x = self.bb3_2(x) #(None, 64, 256)\n",
        "    x3 = self.bb3_3(x) #(None, 64, 256)\n",
        "\n",
        "    #######################################\n",
        "    ############ Row 4 ####################\n",
        "    #######################################\n",
        "    x, mask4 = tf_max_pool_with_masks(x3) #(None, 32, 256)\n",
        "    x = self.conv4_0(x)\n",
        "    x = self.bb4_1(x) #(None, 32, 512)\n",
        "    x = self.bb4_2(x) #(None, 32, 512)\n",
        "    x4 = self.bb4_3(x) #(None, 32, 512)\n",
        "\n",
        "    #######################################\n",
        "    ############ Row 5 ####################\n",
        "    #######################################\n",
        "    x, mask5 = tf_max_pool_with_masks(x4) #(None, 16, 512)\n",
        "    x = self.bb5_1(x) #(None, 16, 512)\n",
        "    x = self.bb5_2(x) #(None, 16, 512)\n",
        "    x = self.bb5_3(x) #(None, 16, 512)\n",
        "\n",
        "    #######################################\n",
        "    ############ Row 5_1 ##################\n",
        "    #######################################\n",
        "    x = self.bb5_1_(x) #(None, 16, 512)\n",
        "    x = self.bb5_2_(x) #(None, 16, 512)\n",
        "    x = self.bb5_3_(x) #(None, 16, 512)\n",
        "    x = self.up5(x) #(None, 32, 512)\n",
        "    x = tf.math.multiply(x, mask5) #(None, 32, 512)\n",
        "\n",
        "    #######################################\n",
        "    ############ Row 4_1 ##################\n",
        "    #######################################\n",
        "    x = tf.keras.layers.Add()([x, x4]) #(None, 32, 512)\n",
        "    x = self.conv4_0_(x)\n",
        "    x = self.bb4_1_(x) #(None, 32, 256)\n",
        "    x = self.bb4_2_(x) #(None, 32, 256)\n",
        "    x = self.bb4_3_(x) #(None, 32, 256)\n",
        "    x = self.up4(x) #(None, 64, 256)\n",
        "    x = tf.math.multiply(x, mask4) #(None, 64, 256)\n",
        "\n",
        "    #######################################\n",
        "    ############ Row 3_1 ##################\n",
        "    #######################################\n",
        "    x = tf.keras.layers.Add()([x, x3]) #(None, 64, 256)\n",
        "    x = self.conv3_0_(x)\n",
        "    x = self.bb3_1_(x) #(None, 64, 128)\n",
        "    x = self.bb3_2_(x) #(None, 64, 128)\n",
        "    x = self.bb3_3_(x) #(None, 64, 128)\n",
        "    x = self.up3(x) #(None, 128, 128)\n",
        "    x = tf.math.multiply(x, mask3) #(None, 128, 128)\n",
        "\n",
        "    #######################################\n",
        "    ############ Row 2_1 ##################\n",
        "    #######################################\n",
        "    x = tf.keras.layers.Add()([x, x2]) #(None, 128, 128)\n",
        "    x = self.conv2_0_(x)\n",
        "    x = self.bb2_1_(x) #(None, 128, 64)\n",
        "    x = self.bb2_2_(x) #(None, 128, 64)\n",
        "    x = self.up2(x) #(None, 256, 64)\n",
        "    x = tf.math.multiply(x, mask2) #(None, 256, 64)\n",
        "\n",
        "    #######################################\n",
        "    ############ Row 1_1 ##################\n",
        "    #######################################\n",
        "    x = tf.keras.layers.Add()([x, x1]) #(None, 256, 64)\n",
        "    x = self.bb1_1_(x) #(None, 256, 64)\n",
        "    x = self.bb1_2_(x) #(None, 256, 64)\n",
        "    #x = self.up1(x) #(None, 512, 64)\n",
        "\n",
        "    x = self.conv_out(x)\n",
        "    return x"
      ],
      "execution_count": null,
      "outputs": []
    },
    {
      "cell_type": "code",
      "metadata": {
        "id": "t2gTqGdiXaqh",
        "colab": {
          "base_uri": "https://localhost:8080/"
        },
        "outputId": "5754dd42-3965-4b73-cbfb-541665d64b60"
      },
      "source": [
        "x = tf.constant(1.0, dtype=tf.float32, shape=(512,256,6))*np.random.rand()\n",
        "model = eUNet1D(kernel_size = 25)\n",
        "temp_out = model(x, training = False)\n",
        "temp_out.shape"
      ],
      "execution_count": null,
      "outputs": [
        {
          "output_type": "execute_result",
          "data": {
            "text/plain": [
              "TensorShape([512, 256, 1])"
            ]
          },
          "metadata": {
            "tags": []
          },
          "execution_count": 43
        }
      ]
    },
    {
      "cell_type": "markdown",
      "metadata": {
        "id": "c7_0gDL887as"
      },
      "source": [
        "# Training"
      ]
    },
    {
      "cell_type": "code",
      "metadata": {
        "id": "E6-139PVXano"
      },
      "source": [
        "TRAIN_STEPS = 165405//BATCH_SIZE+1\n",
        "VAL_STEPS = 44048//BATCH_SIZE"
      ],
      "execution_count": null,
      "outputs": []
    },
    {
      "cell_type": "code",
      "metadata": {
        "id": "qIuP3yLvXajp"
      },
      "source": [
        "!mkdir /content/drive/MyDrive/eunet1d"
      ],
      "execution_count": null,
      "outputs": []
    },
    {
      "cell_type": "code",
      "metadata": {
        "id": "NLng2QUt91bQ"
      },
      "source": [
        "!mkdir /content/drive/MyDrive/eunet1d/saved_model2"
      ],
      "execution_count": null,
      "outputs": []
    },
    {
      "cell_type": "code",
      "metadata": {
        "id": "AYoX4jtJ94OU"
      },
      "source": [
        "optimizer = tf.keras.optimizers.Adam(learning_rate=1e-5)\n",
        "#lr_sc = tf.keras.optimizers.schedules.ExponentialDecay(1e-5, TRAIN_STEPS ,decay_rate=0.97)\n",
        "#optimizer = tf.keras.optimizers.Adam(lr_sc,beta_1=0.9,beta_2=0.999)\n",
        "model.compile(loss= 'mse',\n",
        "              optimizer = optimizer,\n",
        "              metrics=['mae'])"
      ],
      "execution_count": null,
      "outputs": []
    },
    {
      "cell_type": "code",
      "metadata": {
        "id": "lRhR3an1-Oyg"
      },
      "source": [
        "EPOCHS = 12"
      ],
      "execution_count": null,
      "outputs": []
    },
    {
      "cell_type": "code",
      "metadata": {
        "id": "eSVKyXNr-Q4O"
      },
      "source": [
        "temp = glob.glob(os.path.join('/content/drive/MyDrive/eunet1d/saved_model2/','saved_model*'))\n",
        "if temp:\n",
        "  load = True\n",
        "  print('there is a model, load it!')\n",
        "else:\n",
        "  load = False"
      ],
      "execution_count": null,
      "outputs": []
    },
    {
      "cell_type": "code",
      "metadata": {
        "id": "LZ9uU6T5-qKb"
      },
      "source": [
        "# set the name befor laoding\n",
        "if load:\n",
        "  model.load_weights('/content/drive/MyDrive/eunet1d/saved_model2/saved_model')"
      ],
      "execution_count": null,
      "outputs": []
    },
    {
      "cell_type": "code",
      "metadata": {
        "colab": {
          "base_uri": "https://localhost:8080/"
        },
        "id": "UjcB1gbl-f-J",
        "outputId": "46814a46-b1f1-4759-c16f-055fb33faf16"
      },
      "source": [
        "from tensorflow.keras.callbacks import ModelCheckpoint\n",
        "# checkpoint\n",
        "filepath=\"/content/drive/MyDrive/eunet1d/saved_model2/saved_model\"\n",
        "checkpoint = ModelCheckpoint(filepath, monitor='val_loss',\n",
        "                             save_weights_only=True,\n",
        "                             verbose=1, save_best_only=True,\n",
        "                             mode='min')\n",
        "\n",
        "callbacks_list = [ checkpoint]\n",
        "\n",
        "history = model.fit(ds_train,\n",
        "                    epochs= EPOCHS,\n",
        "                    validation_data = ds_val,\n",
        "                    steps_per_epoch= TRAIN_STEPS,\n",
        "                    validation_steps = VAL_STEPS,\n",
        "                    callbacks = callbacks_list)"
      ],
      "execution_count": null,
      "outputs": [
        {
          "output_type": "stream",
          "text": [
            "Epoch 1/12\n",
            "647/647 [==============================] - 1063s 2s/step - loss: 0.0661 - mae: 0.1805 - val_loss: 0.1646 - val_mae: 0.3702\n",
            "\n",
            "Epoch 00001: val_loss improved from inf to 0.16462, saving model to /content/drive/MyDrive/eunet1d/saved_model2/saved_model\n",
            "Epoch 2/12\n",
            "647/647 [==============================] - 1072s 2s/step - loss: 0.0110 - mae: 0.0585 - val_loss: 0.0318 - val_mae: 0.1367\n",
            "\n",
            "Epoch 00002: val_loss improved from 0.16462 to 0.03182, saving model to /content/drive/MyDrive/eunet1d/saved_model2/saved_model\n",
            "Epoch 3/12\n",
            "647/647 [==============================] - 1077s 2s/step - loss: 0.0088 - mae: 0.0446 - val_loss: 0.0296 - val_mae: 0.1325\n",
            "\n",
            "Epoch 00003: val_loss improved from 0.03182 to 0.02964, saving model to /content/drive/MyDrive/eunet1d/saved_model2/saved_model\n",
            "Epoch 4/12\n",
            "647/647 [==============================] - 1075s 2s/step - loss: 0.0081 - mae: 0.0380 - val_loss: 0.0262 - val_mae: 0.1273\n",
            "\n",
            "Epoch 00004: val_loss improved from 0.02964 to 0.02621, saving model to /content/drive/MyDrive/eunet1d/saved_model2/saved_model\n",
            "Epoch 5/12\n",
            "647/647 [==============================] - 1070s 2s/step - loss: 0.0077 - mae: 0.0341 - val_loss: 0.0224 - val_mae: 0.1107\n",
            "\n",
            "Epoch 00005: val_loss improved from 0.02621 to 0.02240, saving model to /content/drive/MyDrive/eunet1d/saved_model2/saved_model\n",
            "Epoch 6/12\n",
            "647/647 [==============================] - 1073s 2s/step - loss: 0.0075 - mae: 0.0312 - val_loss: 0.0508 - val_mae: 0.1949\n",
            "\n",
            "Epoch 00006: val_loss did not improve from 0.02240\n",
            "Epoch 7/12\n",
            "647/647 [==============================] - 1073s 2s/step - loss: 0.0074 - mae: 0.0291 - val_loss: 0.0510 - val_mae: 0.1995\n",
            "\n",
            "Epoch 00007: val_loss did not improve from 0.02240\n",
            "Epoch 8/12\n",
            "647/647 [==============================] - 1050s 2s/step - loss: 0.0072 - mae: 0.0275 - val_loss: 0.0137 - val_mae: 0.0764\n",
            "\n",
            "Epoch 00008: val_loss improved from 0.02240 to 0.01372, saving model to /content/drive/MyDrive/eunet1d/saved_model2/saved_model\n",
            "Epoch 9/12\n",
            "647/647 [==============================] - 1049s 2s/step - loss: 0.0072 - mae: 0.0262 - val_loss: 0.0186 - val_mae: 0.1023\n",
            "\n",
            "Epoch 00009: val_loss did not improve from 0.01372\n",
            "Epoch 10/12\n",
            "647/647 [==============================] - 1050s 2s/step - loss: 0.0071 - mae: 0.0250 - val_loss: 0.0232 - val_mae: 0.1209\n",
            "\n",
            "Epoch 00010: val_loss did not improve from 0.01372\n",
            "Epoch 11/12\n",
            "647/647 [==============================] - 1049s 2s/step - loss: 0.0062 - mae: 0.0228 - val_loss: 0.0127 - val_mae: 0.0766\n",
            "\n",
            "Epoch 00011: val_loss improved from 0.01372 to 0.01275, saving model to /content/drive/MyDrive/eunet1d/saved_model2/saved_model\n",
            "Epoch 12/12\n",
            "647/647 [==============================] - 1050s 2s/step - loss: 0.0053 - mae: 0.0201 - val_loss: 0.0140 - val_mae: 0.0869\n",
            "\n",
            "Epoch 00012: val_loss did not improve from 0.01275\n"
          ],
          "name": "stdout"
        }
      ]
    },
    {
      "cell_type": "code",
      "metadata": {
        "colab": {
          "base_uri": "https://localhost:8080/",
          "height": 545
        },
        "id": "I6L4crrkzzK8",
        "outputId": "49eb74f8-1a26-4d55-8294-5af74a299cdc"
      },
      "source": [
        "# plot loss\n",
        "plt.plot( history.history['loss'],'',  history.history['val_loss'],'-')\n",
        "plt.title('Loss')\n",
        "plt.legend(['train','val'])\n",
        "plt.grid()\n",
        "plt.show()\n",
        "# plot mae\n",
        "plt.plot(history.history['mae'],'', history.history['val_mae'],'-')\n",
        "plt.title('MAE')\n",
        "plt.legend(['train','val'])\n",
        "plt.grid()\n",
        "plt.show()\n"
      ],
      "execution_count": null,
      "outputs": [
        {
          "output_type": "display_data",
          "data": {
            "image/png": "[encoded data removed]",
            "text/plain": [
              "<Figure size 432x288 with 1 Axes>"
            ]
          },
          "metadata": {
            "tags": [],
            "needs_background": "light"
          }
        },
        {
          "output_type": "display_data",
          "data": {
            "image/png": "[encoded data removed]",
            "text/plain": [
              "<Figure size 432x288 with 1 Axes>"
            ]
          },
          "metadata": {
            "tags": [],
            "needs_background": "light"
          }
        }
      ]
    },
    {
      "cell_type": "code",
      "metadata": {
        "id": "BFLKdattzy7z"
      },
      "source": [],
      "execution_count": null,
      "outputs": []
    },
    {
      "cell_type": "code",
      "metadata": {
        "id": "zcV9fyNJ-1Eq"
      },
      "source": [],
      "execution_count": null,
      "outputs": []
    }
  ]
}